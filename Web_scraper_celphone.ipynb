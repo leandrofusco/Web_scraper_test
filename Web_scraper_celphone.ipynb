{
 "cells": [
  {
   "cell_type": "code",
   "execution_count": 1,
   "metadata": {},
   "outputs": [],
   "source": [
    "# Web Scraper\n",
    "\n",
    "# Imports\n",
    "import os  #manipular o sistema operacional\n",
    "import re  #expressão regular que usa-se pra buscar padrões nos dados\n",
    "import csv #pra gravar em csv o resultado\n",
    "import pickle #para criar um cache de acesso a pagina web\n",
    "import requests # para fazer requisição a pagina\n",
    "from bs4 import BeautifulSoup # pra fazer o parser do código html\n",
    "from urllib.request import urlopen\n",
    "from pprint import pprint\n",
    "import urllib3\n",
    "import pandas as pd\n"
   ]
  },
  {
   "cell_type": "code",
   "execution_count": 2,
   "metadata": {},
   "outputs": [],
   "source": [
    "url = 'https://lista.mercadolivre.com.br/celular#D[A:celular]'\n",
    "\n",
    "results = requests.get(url)\n",
    "\n",
    "texto_web = results.text"
   ]
  },
  {
   "cell_type": "code",
   "execution_count": 3,
   "metadata": {},
   "outputs": [],
   "source": [
    "soup = BeautifulSoup(texto_web,'html.parser')"
   ]
  },
  {
   "cell_type": "code",
   "execution_count": null,
   "metadata": {},
   "outputs": [],
   "source": [
    "celular = ['Samsung Galaxy M21s Dual SIM 64 GB preto 4 GB RAM']\n",
    "str(celular).partition('Samsung')"
   ]
  },
  {
   "cell_type": "code",
   "execution_count": 23,
   "metadata": {},
   "outputs": [
    {
     "name": "stdout",
     "output_type": "stream",
     "text": [
      "['//www.mercadolivre.com.br']\n",
      "['//www.mercadolivre.com.br']\n"
     ]
    }
   ],
   "source": [
    "includeUrl = 'https://lista.mercadolivre.com.br/celular#D[A:celular]'\n",
    "for link in soup.findAll(\"a\", href=re.compile(\"^(/|.*\"+includeUrl+\")\")):\n",
    "    bloco = []\n",
    "    \n",
    "    while \n",
    "    if link.attrs['href'] is not None:\n",
    "        if link.attrs['href'] not in bloco:\n",
    "            bloco.append(link.attrs['href'])\n",
    "            pprint(bloco)\n",
    "pprint(bloco)            \n",
    "    "
   ]
  },
  {
   "cell_type": "code",
   "execution_count": 31,
   "metadata": {},
   "outputs": [
    {
     "name": "stdout",
     "output_type": "stream",
     "text": [
      "['https://www.mercadolivre.com/jms/mlb/lgz/login?platform_id=ML&go=https%3A%2F%2Flista.mercadolivre.com.br%2Fcelular&loginType=explicit',\n",
      " 'https://www.mercadolivre.com.br/registration?confirmation_url=https%3A%2F%2Flista.mercadolivre.com.br%2Fcelular',\n",
      " 'https://www.mercadolivre.com.br#menu-user',\n",
      " 'https://www.mercadolivre.com.br/ofertas#menu-user',\n",
      " 'https://www.mercadolivre.com.br/gz/home/navigation#menu-user',\n",
      " 'https://vender.mercadolivre.com.br#menu-user',\n",
      " 'https://www.mercadolivre.com.br/categorias#menu-user',\n",
      " 'https://www.mercadolivre.com.br/ofertas/supermercado#menu-user',\n",
      " 'https://www.mercadolivre.com.br/lojas-oficiais#menu-user',\n",
      " 'https://www.mercadolivre.com.br/ajuda#menu-user',\n",
      " 'https://www.mercadolivre.com.br/l/app#menu-user',\n",
      " 'https://www.mercadolivre.com.br/registration?confirmation_url=https%3A%2F%2Flista.mercadolivre.com.br%2Fcelular#nav-header',\n",
      " 'https://www.mercadolivre.com/jms/mlb/lgz/login?platform_id=ML&go=https%3A%2F%2Flista.mercadolivre.com.br%2Fcelular&loginType=explicit#nav-header',\n",
      " 'https://myaccount.mercadolivre.com.br/purchases/list#nav-header',\n",
      " 'https://www.mercadolivre.com.br/navigation/addresses-hub?go=https%3A%2F%2Flista.mercadolivre.com.br%2Fcelular',\n",
      " 'https://www.mercadolivre.com.br/categorias#nav-header',\n",
      " 'https://www.mercadolivre.com.br/ofertas#nav-header',\n",
      " 'https://www.mercadolivre.com.br/gz/home/navigation#nav-header',\n",
      " 'https://www.mercadolivre.com.br/ofertas/supermercado#nav-header',\n",
      " 'https://www.mercadolivre.com.br/lojas-oficiais#nav-header',\n",
      " 'https://vender.mercadolivre.com.br#nav-header',\n",
      " 'https://www.mercadolivre.com.br/ajuda#nav-header',\n",
      " 'https://www.mercadolivre.com.br/gz/cart',\n",
      " 'https://www.mercadolivre.com.br/assinaturas/deezer#DEAL_ID=&S=MKT&V=1&T=MENU&L=LOYALTY_DEEZER',\n",
      " 'https://ofertas.mercadolivre.com.br/galaxy-a#DEAL_ID=MLB3694&S=ADV&V=1&T=TSB&L=SAMSUNG_GALAXYA',\n",
      " 'https://lista.mercadolivre.com.br/celular-barato#D[R:celular,P:1,Q:5]',\n",
      " 'https://lista.mercadolivre.com.br/celular-barato-novo#D[R:celular,P:2,Q:5]',\n",
      " 'https://lista.mercadolivre.com.br/celular-usado#D[R:celular,P:3,Q:5]',\n",
      " 'https://lista.mercadolivre.com.br/celular-motorola#D[R:celular,P:4,Q:5]',\n",
      " 'https://lista.mercadolivre.com.br/celular-lg#D[R:celular,P:5,Q:5]',\n",
      " 'https://home.mercadolivre.com.br/telefonia/',\n",
      " 'https://celulares.mercadolivre.com.br/',\n",
      " 'https://celulares.mercadolivre.com.br/_Frete_Full_NoIndex_True#applied_filter_id=shipping_highlighted_fulfillment&applied_filte_name=Tipo%20de%20envio&applied_filter_order=2&applied_value_id=fulfillment&applied_value_name=Full&applied_value_order=1&applied_value_results=383',\n",
      " 'https://celulares.mercadolivre.com.br/_Loja_all#applied_filter_id=official_store&applied_filte_name=Lojas%20oficiais&applied_filter_order=3&applied_value_id=all&applied_value_name=Somente%20lojas%20oficiais&applied_value_order=1&applied_value_results=3284',\n",
      " 'https://celulares.mercadolivre.com.br/iphone/linea-iphone/_NoIndex_True#applied_filter_id=LINE&applied_filte_name=Linha&applied_filter_order=4&applied_value_id=58993&applied_value_name=iPhone&applied_value_order=28&applied_value_results=31130',\n",
      " 'https://celulares.mercadolivre.com.br/xiaomi/redmi/_NoIndex_True#applied_filter_id=LINE&applied_filte_name=Linha&applied_filter_order=4&applied_value_id=199791&applied_value_name=Redmi&applied_value_order=53&applied_value_results=8530',\n",
      " 'https://celulares.mercadolivre.com.br/galaxy-a/_NoIndex_True#applied_filter_id=LINE&applied_filte_name=Linha&applied_filter_order=4&applied_value_id=322977&applied_value_name=Galaxy%20A&applied_value_order=18&applied_value_results=5410',\n",
      " 'https://celulares.mercadolivre.com.br/samsung/galaxy-s/_NoIndex_True#applied_filter_id=LINE&applied_filte_name=Linha&applied_filter_order=4&applied_value_id=249991&applied_value_name=Galaxy%20S&applied_value_order=25&applied_value_results=5260',\n",
      " 'https://celulares.mercadolivre.com.br/motorola/moto-g/_NoIndex_True#applied_filter_id=LINE&applied_filte_name=Linha&applied_filter_order=4&applied_value_id=3073863&applied_value_name=Moto%20G&applied_value_order=39&applied_value_results=4120',\n",
      " 'https://celulares.mercadolivre.com.br/samsung/galaxy-j/_NoIndex_True#applied_filter_id=LINE&applied_filte_name=Linha&applied_filter_order=4&applied_value_id=195973&applied_value_name=Galaxy%20J&applied_value_order=22&applied_value_results=3610',\n",
      " 'https://celulares.mercadolivre.com.br/xiaomi/mi/_NoIndex_True#applied_filter_id=LINE&applied_filte_name=Linha&applied_filter_order=4&applied_value_id=59783&applied_value_name=Mi&applied_value_order=34&applied_value_results=3000',\n",
      " 'https://celulares.mercadolivre.com.br/k-series/_NoIndex_True#applied_filter_id=LINE&applied_filte_name=Linha&applied_filter_order=4&applied_value_id=436962&applied_value_name=K%20Series&applied_value_order=29&applied_value_results=2250',\n",
      " 'https://celulares.mercadolivre.com.br/galaxy/_NoIndex_True#applied_filter_id=LINE&applied_filte_name=Linha&applied_filter_order=4&applied_value_id=43675&applied_value_name=Galaxy&applied_value_order=17&applied_value_results=1850',\n",
      " 'https://lista.mercadolivre.com.br/celular_FiltersAvailableSidebar?filter=LINE',\n",
      " 'https://celulares.mercadolivre.com.br/iphone/linea-iphone/iphone-7/_NoIndex_True#applied_filter_id=MODEL&applied_filte_name=Modelo&applied_filter_order=5&applied_value_id=312155&applied_value_name=iPhone%207&applied_value_order=248&applied_value_results=4690',\n",
      " 'https://celulares.mercadolivre.com.br/iphone/linea-iphone/iphone-6s/_NoIndex_True#applied_filter_id=MODEL&applied_filte_name=Modelo&applied_filter_order=5&applied_value_id=312151&applied_value_name=iPhone%206s&applied_value_order=246&applied_value_results=2960',\n",
      " 'https://celulares.mercadolivre.com.br/iphone/linea-iphone/iphone-7-plus/_NoIndex_True#applied_filter_id=MODEL&applied_filte_name=Modelo&applied_filter_order=5&applied_value_id=312157&applied_value_name=iPhone%207%20Plus&applied_value_order=249&applied_value_results=2220',\n",
      " 'https://celulares.mercadolivre.com.br/iphone/linea-iphone/iphone-8-plus/_NoIndex_True#applied_filter_id=MODEL&applied_filte_name=Modelo&applied_filter_order=5&applied_value_id=2244673&applied_value_name=iPhone%208%20Plus&applied_value_order=251&applied_value_results=2120',\n",
      " 'https://celulares.mercadolivre.com.br/iphone/linea-iphone/iphone-8/_NoIndex_True#applied_filter_id=MODEL&applied_filte_name=Modelo&applied_filter_order=5&applied_value_id=2244670&applied_value_name=iPhone%208&applied_value_order=250&applied_value_results=2110',\n",
      " 'https://celulares.mercadolivre.com.br/note-8/_NoIndex_True#applied_filter_id=MODEL&applied_filte_name=Modelo&applied_filter_order=5&applied_value_id=3362707&applied_value_name=Note%208&applied_value_order=359&applied_value_results=2100',\n",
      " 'https://celulares.mercadolivre.com.br/iphone/linea-iphone/iphone-6/_NoIndex_True#applied_filter_id=MODEL&applied_filte_name=Modelo&applied_filter_order=5&applied_value_id=312149&applied_value_name=iPhone%206&applied_value_order=244&applied_value_results=1920',\n",
      " 'https://celulares.mercadolivre.com.br/iphone/linea-iphone/iphone-x/_NoIndex_True#applied_filter_id=MODEL&applied_filte_name=Modelo&applied_filter_order=5&applied_value_id=1164456&applied_value_name=iPhone%20X&applied_value_order=254&applied_value_results=1750',\n",
      " 'https://celulares.mercadolivre.com.br/iphone/linea-iphone/iphone-5s/_NoIndex_True#applied_filter_id=MODEL&applied_filte_name=Modelo&applied_filter_order=5&applied_value_id=312144&applied_value_name=iPhone%205s&applied_value_order=243&applied_value_results=1690',\n",
      " 'https://lista.mercadolivre.com.br/celular_FiltersAvailableSidebar?filter=MODEL',\n",
      " 'https://celulares.mercadolivre.com.br/ate-32-gb/_NoIndex_True#applied_filter_id=INTERNAL_MEMORY&applied_filte_name=Memória%20interna&applied_filter_order=6&applied_value_id=(*-32GB)&applied_value_name=Menos%20de%2032%20GB&applied_value_order=5&applied_value_results=24490',\n",
      " 'https://celulares.mercadolivre.com.br/32-a-64-gb/_NoIndex_True#applied_filter_id=INTERNAL_MEMORY&applied_filte_name=Memória%20interna&applied_filter_order=6&applied_value_id=[32GB-64GB)&applied_value_name=32%20a%2063%20GB&applied_value_order=3&applied_value_results=17470',\n",
      " 'https://celulares.mercadolivre.com.br/64-a-128-gb/_NoIndex_True#applied_filter_id=INTERNAL_MEMORY&applied_filte_name=Memória%20interna&applied_filter_order=6&applied_value_id=[64GB-128GB)&applied_value_name=64%20a%20127%20GB&applied_value_order=4&applied_value_results=23070',\n",
      " 'https://celulares.mercadolivre.com.br/128-a-256-gb/_NoIndex_True#applied_filter_id=INTERNAL_MEMORY&applied_filte_name=Memória%20interna&applied_filter_order=6&applied_value_id=[128GB-256GB)&applied_value_name=128%20a%20255%20GB&applied_value_order=1&applied_value_results=17650',\n",
      " 'https://celulares.mercadolivre.com.br/mais-de-256-gb/_NoIndex_True#applied_filter_id=INTERNAL_MEMORY&applied_filte_name=Memória%20interna&applied_filter_order=6&applied_value_id=[256GB-*)&applied_value_name=256%20GB%20ou%20mais&applied_value_order=2&applied_value_results=6300',\n",
      " 'https://celulares.mercadolivre.com.br/ate-2-GB-ram/_NoIndex_True#applied_filter_id=RAM&applied_filte_name=Memória%20RAM&applied_filter_order=7&applied_value_id=(*-2GB]&applied_value_name=2%20GB%20ou%20menos&applied_value_order=1&applied_value_results=36670',\n",
      " 'https://celulares.mercadolivre.com.br/3-GB-ram/_NoIndex_True#applied_filter_id=RAM&applied_filte_name=Memória%20RAM&applied_filter_order=7&applied_value_id=[3GB-3GB]&applied_value_name=3%20GB&applied_value_order=2&applied_value_results=13380',\n",
      " 'https://celulares.mercadolivre.com.br/4-GB-ram/_NoIndex_True#applied_filter_id=RAM&applied_filte_name=Memória%20RAM&applied_filter_order=7&applied_value_id=[4GB-4GB]&applied_value_name=4%20GB&applied_value_order=3&applied_value_results=19940',\n",
      " 'https://celulares.mercadolivre.com.br/5-GB-ram/_NoIndex_True#applied_filter_id=RAM&applied_filte_name=Memória%20RAM&applied_filter_order=7&applied_value_id=[5GB-5GB]&applied_value_name=5%20GB&applied_value_order=4&applied_value_results=190',\n",
      " 'https://celulares.mercadolivre.com.br/6-GB-ram/_NoIndex_True#applied_filter_id=RAM&applied_filte_name=Memória%20RAM&applied_filter_order=7&applied_value_id=[6GB-6GB]&applied_value_name=6%20GB&applied_value_order=5&applied_value_results=7300',\n",
      " 'https://celulares.mercadolivre.com.br/mais-de-8-GB-ram/_NoIndex_True#applied_filter_id=RAM&applied_filte_name=Memória%20RAM&applied_filter_order=7&applied_value_id=[8GB-*)&applied_value_name=8%20GB%20ou%20mais&applied_value_order=6&applied_value_results=8730',\n",
      " 'https://celulares.mercadolivre.com.br/android/_NoIndex_True#applied_filter_id=OPERATING_SYSTEM_NAME&applied_filte_name=Nome%20do%20sistema%20operacional&applied_filter_order=8&applied_value_id=7403813&applied_value_name=Android&applied_value_order=1&applied_value_results=49140',\n",
      " 'https://celulares.mercadolivre.com.br/ios/_NoIndex_True#applied_filter_id=OPERATING_SYSTEM_NAME&applied_filte_name=Nome%20do%20sistema%20operacional&applied_filter_order=8&applied_value_id=7404961&applied_value_name=iOS&applied_value_order=3&applied_value_results=31170',\n",
      " 'https://celulares.mercadolivre.com.br/nome-do-sistema-operacional-windows-phone/_NoIndex_True#applied_filter_id=OPERATING_SYSTEM_NAME&applied_filte_name=Nome%20do%20sistema%20operacional&applied_filter_order=8&applied_value_id=7239397&applied_value_name=Windows%20Phone&applied_value_order=9&applied_value_results=160',\n",
      " 'https://celulares.mercadolivre.com.br/nucleus/_NoIndex_True#applied_filter_id=OPERATING_SYSTEM_NAME&applied_filte_name=Nome%20do%20sistema%20operacional&applied_filter_order=8&applied_value_id=8922675&applied_value_name=Nucleus&applied_value_order=6&applied_value_results=130',\n",
      " 'https://celulares.mercadolivre.com.br/nome-do-sistema-operacional-nokia/_NoIndex_True#applied_filter_id=OPERATING_SYSTEM_NAME&applied_filte_name=Nome%20do%20sistema%20operacional&applied_filter_order=8&applied_value_id=8033910&applied_value_name=Nokia&applied_value_order=5&applied_value_results=100',\n",
      " 'https://celulares.mercadolivre.com.br/kaios/_NoIndex_True#applied_filter_id=OPERATING_SYSTEM_NAME&applied_filte_name=Nome%20do%20sistema%20operacional&applied_filter_order=8&applied_value_id=7199654&applied_value_name=KaiOS&applied_value_order=4&applied_value_results=100',\n",
      " 'https://celulares.mercadolivre.com.br/symbian/_NoIndex_True#applied_filter_id=OPERATING_SYSTEM_NAME&applied_filte_name=Nome%20do%20sistema%20operacional&applied_filter_order=8&applied_value_id=9404091&applied_value_name=Symbian&applied_value_order=7&applied_value_results=40',\n",
      " 'https://celulares.mercadolivre.com.br/coloros/_NoIndex_True#applied_filter_id=OPERATING_SYSTEM_NAME&applied_filte_name=Nome%20do%20sistema%20operacional&applied_filter_order=8&applied_value_id=7199645&applied_value_name=ColorOS&applied_value_order=2&applied_value_results=30',\n",
      " 'https://celulares.mercadolivre.com.br/windows/_NoIndex_True#applied_filter_id=OPERATING_SYSTEM_NAME&applied_filte_name=Nome%20do%20sistema%20operacional&applied_filter_order=8&applied_value_id=7199641&applied_value_name=Windows&applied_value_order=8&applied_value_results=30',\n",
      " 'https://celulares.mercadolivre.com.br/ate-13-Mpx/_NoIndex_True#applied_filter_id=MAIN_REAR_CAMERA_RESOLUTION&applied_filte_name=Resolução%20da%20câmera%20traseira%20principal&applied_filter_order=9&applied_value_id=(*-13Mpx)&applied_value_name=13%20Mpx%20ou%20menos&applied_value_order=2&applied_value_results=43080',\n",
      " 'https://celulares.mercadolivre.com.br/13-a-16-Mpx/_NoIndex_True#applied_filter_id=MAIN_REAR_CAMERA_RESOLUTION&applied_filte_name=Resolução%20da%20câmera%20traseira%20principal&applied_filter_order=9&applied_value_id=[13Mpx-16Mpx)&applied_value_name=13%20a%2015%20Mpx&applied_value_order=1&applied_value_results=12420',\n",
      " 'https://celulares.mercadolivre.com.br/16-a-64-Mpx/_NoIndex_True#applied_filter_id=MAIN_REAR_CAMERA_RESOLUTION&applied_filte_name=Resolução%20da%20câmera%20traseira%20principal&applied_filter_order=9&applied_value_id=[16Mpx-64Mpx)&applied_value_name=16%20a%2063%20Mpx&applied_value_order=3&applied_value_results=16540',\n",
      " 'https://celulares.mercadolivre.com.br/mais-de-64-Mpx/_NoIndex_True#applied_filter_id=MAIN_REAR_CAMERA_RESOLUTION&applied_filte_name=Resolução%20da%20câmera%20traseira%20principal&applied_filter_order=9&applied_value_id=[64Mpx-*)&applied_value_name=64%20Mpx%20ou%20mais&applied_value_order=4&applied_value_results=4880',\n",
      " 'https://celulares.mercadolivre.com.br/ate-7-Mpx-resolucao-camera-frontal-principal/_NoIndex_True#applied_filter_id=MAIN_FRONT_CAMERA_RESOLUTION&applied_filte_name=Resolução%20da%20câmera%20frontal%20principal&applied_filter_order=10&applied_value_id=(*-7Mpx)&applied_value_name=7%20Mpx%20ou%20menos&applied_value_order=3&applied_value_results=24290',\n",
      " 'https://celulares.mercadolivre.com.br/7-a-8-Mpx-resolucao-camera-frontal-principal/_NoIndex_True#applied_filter_id=MAIN_FRONT_CAMERA_RESOLUTION&applied_filte_name=Resolução%20da%20câmera%20frontal%20principal&applied_filter_order=10&applied_value_id=[7Mpx-8Mpx)&applied_value_name=7%20Mpx&applied_value_order=2&applied_value_results=16810',\n",
      " 'https://celulares.mercadolivre.com.br/8-a-13-Mpx-resolucao-camera-frontal-principal/_NoIndex_True#applied_filter_id=MAIN_FRONT_CAMERA_RESOLUTION&applied_filte_name=Resolução%20da%20câmera%20frontal%20principal&applied_filter_order=10&applied_value_id=[8Mpx-13Mpx)&applied_value_name=8%20a%2012%20Mpx&applied_value_order=4&applied_value_results=15840',\n",
      " 'https://celulares.mercadolivre.com.br/mais-de-13-Mpx-resolucao-camera-frontal-principal/_NoIndex_True#applied_filter_id=MAIN_FRONT_CAMERA_RESOLUTION&applied_filte_name=Resolução%20da%20câmera%20frontal%20principal&applied_filter_order=10&applied_value_id=[13Mpx-*)&applied_value_name=13%20Mpx%20ou%20mais&applied_value_order=1&applied_value_results=16570',\n",
      " 'https://celulares.mercadolivre.com.br/2g/_NoIndex_True#applied_filter_id=MOBILE_NETWORK&applied_filte_name=Rede&applied_filter_order=11&applied_value_id=7472026&applied_value_name=2G&applied_value_order=1&applied_value_results=2290',\n",
      " 'https://celulares.mercadolivre.com.br/3g/_NoIndex_True#applied_filter_id=MOBILE_NETWORK&applied_filte_name=Rede&applied_filter_order=11&applied_value_id=367874&applied_value_name=3G&applied_value_order=2&applied_value_results=2780',\n",
      " 'https://celulares.mercadolivre.com.br/5g/_NoIndex_True#applied_filter_id=MOBILE_NETWORK&applied_filte_name=Rede&applied_filter_order=11&applied_value_id=7472027&applied_value_name=5G&applied_value_order=3&applied_value_results=2060',\n",
      " 'https://celulares.mercadolivre.com.br/4g-lte/_NoIndex_True#applied_filter_id=MOBILE_NETWORK&applied_filte_name=Rede&applied_filter_order=11&applied_value_id=367876&applied_value_name=4G/LTE&applied_value_order=4&applied_value_results=65080',\n",
      " 'https://celulares.mercadolivre.com.br/desbloqueado/_NoIndex_True#applied_filter_id=CARRIER&applied_filte_name=Operadora&applied_filter_order=12&applied_value_id=298335&applied_value_name=Desbloqueado&applied_value_order=2&applied_value_results=81830',\n",
      " 'https://celulares.mercadolivre.com.br/vivo/_NoIndex_True#applied_filter_id=CARRIER&applied_filte_name=Operadora&applied_filter_order=12&applied_value_id=298332&applied_value_name=Vivo&applied_value_order=6&applied_value_results=1770',\n",
      " 'https://celulares.mercadolivre.com.br/claro/_NoIndex_True#applied_filter_id=CARRIER&applied_filte_name=Operadora&applied_filter_order=12&applied_value_id=298333&applied_value_name=Claro&applied_value_order=1&applied_value_results=950',\n",
      " 'https://celulares.mercadolivre.com.br/tim/_NoIndex_True#applied_filter_id=CARRIER&applied_filte_name=Operadora&applied_filter_order=12&applied_value_id=298334&applied_value_name=TIM&applied_value_order=5&applied_value_results=850',\n",
      " 'https://celulares.mercadolivre.com.br/nextel/_NoIndex_True#applied_filter_id=CARRIER&applied_filte_name=Operadora&applied_filter_order=12&applied_value_id=303172&applied_value_name=Nextel&applied_value_order=3&applied_value_results=690',\n",
      " 'https://celulares.mercadolivre.com.br/oi/_NoIndex_True#applied_filter_id=CARRIER&applied_filte_name=Operadora&applied_filter_order=12&applied_value_id=298331&applied_value_name=Oi&applied_value_order=4&applied_value_results=380',\n",
      " 'https://celulares.mercadolivre.com.br/_CustoFrete_Gratis_NoIndex_True#applied_filter_id=shipping_cost&applied_filte_name=Custo%20do%20frete&applied_filter_order=13&applied_value_id=free&applied_value_name=Gratis&applied_value_order=1&applied_value_results=49443',\n",
      " 'https://celulares.mercadolivre.com.br/_Frete_Full_NoIndex_True#applied_filter_id=shipping&applied_filte_name=Tipo%20de%20envio&applied_filter_order=14&applied_value_id=fulfillment&applied_value_name=Full&applied_value_order=1&applied_value_results=383',\n",
      " 'https://celulares.mercadolivre.com.br/_Installments_NoInterest_NoIndex_True#applied_filter_id=installments&applied_filte_name=Pagamento&applied_filter_order=15&applied_value_id=no_interest&applied_value_name=Sem%20juros&applied_value_order=1&applied_value_results=28746',\n",
      " 'https://celulares.mercadolivre.com.br/_Cor-Principal_Preto_NoIndex_True#applied_filter_id=MAIN_COLOR&applied_filte_name=Cor%20principal&applied_filter_order=16&applied_value_id=2450295&applied_value_name=Preto&applied_value_order=1&applied_value_results=25120',\n",
      " 'https://celulares.mercadolivre.com.br/_Cor-Principal_Cinza-claro_NoIndex_True#applied_filter_id=MAIN_COLOR&applied_filte_name=Cor%20principal&applied_filter_order=16&applied_value_id=2450294&applied_value_name=Cinza&applied_value_order=2&applied_value_results=13670',\n",
      " 'https://celulares.mercadolivre.com.br/_Cor-Principal_Azul_NoIndex_True#applied_filter_id=MAIN_COLOR&applied_filte_name=Cor%20principal&applied_filter_order=16&applied_value_id=2450293&applied_value_name=Azul&applied_value_order=3&applied_value_results=9670',\n",
      " 'https://celulares.mercadolivre.com.br/_Cor-Principal_Dourado_NoIndex_True#applied_filter_id=MAIN_COLOR&applied_filte_name=Cor%20principal&applied_filter_order=16&applied_value_id=2450289&applied_value_name=Dourado&applied_value_order=4&applied_value_results=6680',\n",
      " 'https://celulares.mercadolivre.com.br/_Cor-Principal_Branco_NoIndex_True#applied_filter_id=MAIN_COLOR&applied_filte_name=Cor%20principal&applied_filter_order=16&applied_value_id=2450308&applied_value_name=Branco&applied_value_order=5&applied_value_results=6140',\n",
      " 'https://celulares.mercadolivre.com.br/_Cor-Principal_Rosa_NoIndex_True#applied_filter_id=MAIN_COLOR&applied_filte_name=Cor%20principal&applied_filter_order=16&applied_value_id=2450312&applied_value_name=Rosa&applied_value_order=6&applied_value_results=3980',\n",
      " 'https://celulares.mercadolivre.com.br/_Cor-Principal_Verde_NoIndex_True#applied_filter_id=MAIN_COLOR&applied_filte_name=Cor%20principal&applied_filter_order=16&applied_value_id=2450314&applied_value_name=Verde&applied_value_order=7&applied_value_results=2750',\n",
      " 'https://celulares.mercadolivre.com.br/_Cor-Principal_Vermelho_NoIndex_True#applied_filter_id=MAIN_COLOR&applied_filte_name=Cor%20principal&applied_filter_order=16&applied_value_id=2450307&applied_value_name=Vermelho&applied_value_order=8&applied_value_results=2690',\n",
      " 'https://celulares.mercadolivre.com.br/_Cor-Principal_Violeta_NoIndex_True#applied_filter_id=MAIN_COLOR&applied_filte_name=Cor%20principal&applied_filter_order=16&applied_value_id=2450311&applied_value_name=Violeta&applied_value_order=9&applied_value_results=680',\n",
      " 'https://celulares.mercadolivre.com.br/_Cor-Principal_Prateado_NoIndex_True#applied_filter_id=MAIN_COLOR&applied_filte_name=Cor%20principal&applied_filter_order=16&applied_value_id=2450303&applied_value_name=Prateado&applied_value_order=10&applied_value_results=430',\n",
      " 'https://lista.mercadolivre.com.br/celular_FiltersAvailableSidebar?filter=MAIN_COLOR',\n",
      " 'https://celulares.mercadolivre.com.br/novo/_NoIndex_True#applied_filter_id=ITEM_CONDITION&applied_filte_name=Condição&applied_filter_order=17&applied_value_id=2230284&applied_value_name=Novo&applied_value_order=1&applied_value_results=29580',\n",
      " 'https://celulares.mercadolivre.com.br/usado/_NoIndex_True#applied_filter_id=ITEM_CONDITION&applied_filte_name=Condição&applied_filter_order=17&applied_value_id=2230581&applied_value_name=Usado&applied_value_order=3&applied_value_results=64300',\n",
      " 'https://celulares.mercadolivre.com.br/recondicionado/_NoIndex_True#applied_filter_id=ITEM_CONDITION&applied_filte_name=Condição&applied_filter_order=17&applied_value_id=2230582&applied_value_name=Recondicionado&applied_value_order=2&applied_value_results=710',\n",
      " 'https://celulares.mercadolivre.com.br/sao-paulo/_NoIndex_True#applied_filter_id=state&applied_filte_name=Localização&applied_filter_order=18&applied_value_id=TUxCUFNBT085N2E4&applied_value_name=São%20Paulo&applied_value_order=26&applied_value_results=41186',\n",
      " 'https://celulares.mercadolivre.com.br/minas-gerais/_NoIndex_True#applied_filter_id=state&applied_filte_name=Localização&applied_filter_order=18&applied_value_id=TUxCUE1JTlMxNTAyZA&applied_value_name=Minas%20Gerais&applied_value_order=13&applied_value_results=9293',\n",
      " 'https://celulares.mercadolivre.com.br/rio-de-janeiro/_NoIndex_True#applied_filter_id=state&applied_filte_name=Localização&applied_filter_order=18&applied_value_id=TUxCUFJJT08xODM5Zg&applied_value_name=Rio%20de%20Janeiro&applied_value_order=19&applied_value_results=8310',\n",
      " 'https://celulares.mercadolivre.com.br/parana/_NoIndex_True#applied_filter_id=state&applied_filte_name=Localização&applied_filter_order=18&applied_value_id=TUxCUFBBUkExODBlZA&applied_value_name=Paraná&applied_value_order=14&applied_value_results=7690',\n",
      " 'https://celulares.mercadolivre.com.br/rio-grande-do-sul/_NoIndex_True#applied_filter_id=state&applied_filte_name=Localização&applied_filter_order=18&applied_value_id=TUxCUFJJT0xkYzM0&applied_value_name=Rio%20Grande%20do%20Sul&applied_value_order=21&applied_value_results=3920',\n",
      " 'https://celulares.mercadolivre.com.br/bahia/_NoIndex_True#applied_filter_id=state&applied_filte_name=Localização&applied_filter_order=18&applied_value_id=TUxCUEJBSEFlYmEx&applied_value_name=Bahia&applied_value_order=5&applied_value_results=3281',\n",
      " 'https://celulares.mercadolivre.com.br/santa-catarina/_NoIndex_True#applied_filter_id=state&applied_filte_name=Localização&applied_filter_order=18&applied_value_id=TUxCUFNBTkE5Nzc4&applied_value_name=Santa%20Catarina&applied_value_order=24&applied_value_results=3250',\n",
      " 'https://celulares.mercadolivre.com.br/goias/_NoIndex_True#applied_filter_id=state&applied_filte_name=Localização&applied_filter_order=18&applied_value_id=TUxCUEdPSVMxNzVmMw&applied_value_name=Goiás&applied_value_order=9&applied_value_results=2790',\n",
      " 'https://celulares.mercadolivre.com.br/espirito-santo/_NoIndex_True#applied_filter_id=state&applied_filte_name=Localização&applied_filter_order=18&applied_value_id=TUxCUEVTUE8xN2Y3NA&applied_value_name=Espírito%20Santo&applied_value_order=8&applied_value_results=1861',\n",
      " 'https://lista.mercadolivre.com.br/celular_FiltersAvailableSidebar?filter=state',\n",
      " 'https://celulares.mercadolivre.com.br/_PriceRange_0-650_NoIndex_True#applied_filter_id=price&applied_filte_name=Preço&applied_filter_order=19&applied_value_id=*-650.0&applied_value_name=Até%20R$650&applied_value_order=1&applied_value_results=30664',\n",
      " 'https://celulares.mercadolivre.com.br/_PriceRange_650-1500_NoIndex_True#applied_filter_id=price&applied_filte_name=Preço&applied_filter_order=19&applied_value_id=650.0-1500.0&applied_value_name=R$650%20a%20R$1.500&applied_value_order=2&applied_value_results=27904',\n",
      " 'https://celulares.mercadolivre.com.br/_PriceRange_1500-0_NoIndex_True#applied_filter_id=price&applied_filte_name=Preço&applied_filter_order=19&applied_value_id=1500.0-*&applied_value_name=Mais%20de%20R$1.500&applied_value_order=3&applied_value_results=35262',\n",
      " 'https://celulares.mercadolivre.com.br/e-dual-sim/_NoIndex_True#applied_filter_id=group_1&applied_filte_name=Outras%20características&applied_filter_order=20&applied_value_id=242085&applied_value_name=É%20Dual%20SIM&applied_value_order=3&applied_value_results=43840',\n",
      " 'https://celulares.mercadolivre.com.br/e-resistente-a-agua/_NoIndex_True#applied_filter_id=group_1&applied_filte_name=Outras%20características&applied_filter_order=20&applied_value_id=242085&applied_value_name=É%20resistente%20à%20água&applied_value_order=4&applied_value_results=26190',\n",
      " 'https://celulares.mercadolivre.com.br/_NoIndex_True_WITH*FACIAL*RECOGNITION_242085#applied_filter_id=group_1&applied_filte_name=Outras%20características&applied_filter_order=20&applied_value_id=242085&applied_value_name=Com%20reconhecimento%20facial&applied_value_order=2&applied_value_results=35410',\n",
      " 'https://celulares.mercadolivre.com.br/_NoIndex_True_WITH*FINGERPRINT*READER_242085#applied_filter_id=group_1&applied_filte_name=Outras%20características&applied_filter_order=20&applied_value_id=242085&applied_value_name=Com%20leitor%20de%20impressão%20digital&applied_value_order=1&applied_value_results=54420',\n",
      " 'https://celulares.mercadolivre.com.br/_BestSellers_YES_NoIndex_True#applied_filter_id=power_seller&applied_filte_name=Filtro%20MercadoLíderes&applied_filter_order=21&applied_value_id=yes&applied_value_name=Melhores%20vendedores&applied_value_order=1&applied_value_results=6518',\n",
      " 'https://lista.mercadolivre.com.br/iphone-7-red#topkeyword',\n",
      " 'https://lista.mercadolivre.com.br/iphone-7-rosa#topkeyword',\n",
      " 'https://lista.mercadolivre.com.br/iphone-7-rose#topkeyword',\n",
      " 'https://lista.mercadolivre.com.br/iphone-7-s#topkeyword',\n",
      " 'https://lista.mercadolivre.com.br/iphone-7s#topkeyword',\n",
      " 'https://lista.mercadolivre.com.br/iphone-8-32gb#topkeyword',\n",
      " 'https://lista.mercadolivre.com.br/iphone-8-64#topkeyword',\n",
      " 'https://lista.mercadolivre.com.br/iphone-8-plus-32gb#topkeyword',\n",
      " 'https://lista.mercadolivre.com.br/iphone-8-plus-silver#topkeyword',\n",
      " 'https://lista.mercadolivre.com.br/iphone-8-s#topkeyword',\n",
      " 'https://celulares.mercadolivre.com.br/_OrderId_PRICE',\n",
      " 'https://celulares.mercadolivre.com.br/_OrderId_PRICE*DESC',\n",
      " 'https://lista.mercadolivre.com.br/celular_DisplayType_LF',\n",
      " 'https://lista.mercadolivre.com.br/celular_DisplayType_G',\n",
      " 'https://celulares.mercadolivre.com.br/iphone/#origin=brands_carousel&position=0&id=9344&applied_filter_id=BRAND&applied_filte_name=Marca&applied_filter_order=-1&applied_value_id=9344&applied_value_name=Apple&applied_value_order=0&applied_value_results=31010',\n",
      " 'https://celulares.mercadolivre.com.br/samsung/#origin=brands_carousel&position=1&id=206&applied_filter_id=BRAND&applied_filte_name=Marca&applied_filter_order=-1&applied_value_id=206&applied_value_name=Samsung&applied_value_order=1&applied_value_results=19180',\n",
      " 'https://celulares.mercadolivre.com.br/xiaomi/#origin=brands_carousel&position=2&id=59387&applied_filter_id=BRAND&applied_filte_name=Marca&applied_filter_order=-1&applied_value_id=59387&applied_value_name=Xiaomi&applied_value_order=2&applied_value_results=13000',\n",
      " 'https://celulares.mercadolivre.com.br/motorola/#origin=brands_carousel&position=3&id=2503&applied_filter_id=BRAND&applied_filte_name=Marca&applied_filter_order=-1&applied_value_id=2503&applied_value_name=Motorola&applied_value_order=3&applied_value_results=10060',\n",
      " 'https://celulares.mercadolivre.com.br/lg/#origin=brands_carousel&position=4&id=215&applied_filter_id=BRAND&applied_filte_name=Marca&applied_filter_order=-1&applied_value_id=215&applied_value_name=LG&applied_value_order=4&applied_value_results=4560',\n",
      " 'https://celulares.mercadolivre.com.br/nokia/#origin=brands_carousel&position=5&id=2879&applied_filter_id=BRAND&applied_filte_name=Marca&applied_filter_order=-1&applied_value_id=2879&applied_value_name=Nokia&applied_value_order=5&applied_value_results=2010',\n",
      " 'https://celulares.mercadolivre.com.br/marca-asus/#origin=brands_carousel&position=6&id=7294334&applied_filter_id=BRAND&applied_filte_name=Marca&applied_filter_order=-1&applied_value_id=7294334&applied_value_name=Asus&applied_value_order=6&applied_value_results=1460',\n",
      " 'https://celulares.mercadolivre.com.br/multilaser/#origin=brands_carousel&position=7&id=31163&applied_filter_id=BRAND&applied_filte_name=Marca&applied_filter_order=-1&applied_value_id=31163&applied_value_name=Multilaser&applied_value_order=7&applied_value_results=1430',\n",
      " 'https://celulares.mercadolivre.com.br/positivo/#origin=brands_carousel&position=8&id=13346&applied_filter_id=BRAND&applied_filte_name=Marca&applied_filter_order=-1&applied_value_id=13346&applied_value_name=Positivo&applied_value_order=8&applied_value_results=1080',\n",
      " 'https://celulares.mercadolivre.com.br/sony/#origin=brands_carousel&position=9&id=995&applied_filter_id=BRAND&applied_filte_name=Marca&applied_filter_order=-1&applied_value_id=995&applied_value_name=Sony&applied_value_order=9&applied_value_results=1020',\n",
      " 'https://celulares.mercadolivre.com.br/blu/#origin=brands_carousel&position=10&id=8908&applied_filter_id=BRAND&applied_filte_name=Marca&applied_filter_order=-1&applied_value_id=8908&applied_value_name=BLU&applied_value_order=10&applied_value_results=880',\n",
      " 'https://celulares.mercadolivre.com.br/alcatel/#origin=brands_carousel&position=11&id=30844&applied_filter_id=BRAND&applied_filte_name=Marca&applied_filter_order=-1&applied_value_id=30844&applied_value_name=Alcatel&applied_value_order=11&applied_value_results=570',\n",
      " 'https://celulares.mercadolivre.com.br/huawei/#origin=brands_carousel&position=12&id=8784&applied_filter_id=BRAND&applied_filte_name=Marca&applied_filter_order=-1&applied_value_id=8784&applied_value_name=Huawei&applied_value_order=12&applied_value_results=540',\n",
      " 'https://celulares.mercadolivre.com.br/lenovo/#origin=brands_carousel&position=14&id=7494&applied_filter_id=BRAND&applied_filte_name=Marca&applied_filter_order=-1&applied_value_id=7494&applied_value_name=Lenovo&applied_value_order=14&applied_value_results=420',\n",
      " 'https://celulares.mercadolivre.com.br/blackberry/#origin=brands_carousel&position=15&id=6176&applied_filter_id=BRAND&applied_filte_name=Marca&applied_filter_order=-1&applied_value_id=6176&applied_value_name=BlackBerry&applied_value_order=15&applied_value_results=320',\n",
      " 'https://www.mercadolivre.com.br/samsung-galaxy-m31-dual-sim-128-gb-azul-6-gb-ram/p/MLB15591543?pdp_filters=category:MLB1055#searchVariation=MLB15591543&position=1&type=product&tracking_id=6d12ff4e-3d7b-41bf-9ca8-a726815b4d77',\n",
      " 'https://loja.mercadolivre.com.br/mercado-livre',\n",
      " 'https://www.mercadolivre.com.br/moto-e6s-2020-dual-sim-64-gb-azul-navy-4-gb-ram/p/MLB15983605?pdp_filters=category:MLB1055#searchVariation=MLB15983605&position=2&type=product&tracking_id=6d12ff4e-3d7b-41bf-9ca8-a726815b4d77',\n",
      " 'https://loja.mercadolivre.com.br/pernambucanas',\n",
      " 'https://www.mercadolivre.com.br/samsung-galaxy-a51-128-gb-prism-crush-black-4-gb-ram/p/MLB15466998?pdp_filters=category:MLB1055#searchVariation=MLB15466998&position=3&type=product&tracking_id=6d12ff4e-3d7b-41bf-9ca8-a726815b4d77',\n",
      " 'https://www.mercadolivre.com.br/asus-zenfone-max-shot-zb634kl-dual-sim-64-gb-preto-4-gb-ram/p/MLB14690365?pdp_filters=category:MLB1055#searchVariation=MLB14690365&position=4&type=product&tracking_id=6d12ff4e-3d7b-41bf-9ca8-a726815b4d77',\n",
      " 'https://loja.mercadolivre.com.br/webfones',\n",
      " 'https://www.mercadolivre.com.br/samsung-galaxy-m21s-dual-sim-64-gb-preto-4-gb-ram/p/MLB16523215?pdp_filters=category:MLB1055#searchVariation=MLB16523215&position=5&type=product&tracking_id=6d12ff4e-3d7b-41bf-9ca8-a726815b4d77',\n",
      " 'https://www.mercadolivre.com.br/samsung-galaxy-a01-core-dual-sim-32-gb-vermelho-2-gb-ram/p/MLB16107491?pdp_filters=category:MLB1055#searchVariation=MLB16107491&position=6&type=product&tracking_id=6d12ff4e-3d7b-41bf-9ca8-a726815b4d77',\n",
      " 'https://loja.mercadolivre.com.br/mobcom',\n",
      " 'https://www.mercadolivre.com.br/lg-k22-dual-sim-32-gb-red-2-gb-ram/p/MLB16217283?pdp_filters=category:MLB1055#searchVariation=MLB16217283&position=7&type=product&tracking_id=6d12ff4e-3d7b-41bf-9ca8-a726815b4d77',\n",
      " 'https://click1.mercadolivre.com.br/mclics/clicks/external/MLB/count?a=P5VKSERXlXFXb66ySP4DdctFXfqkU819X9WwuwX0N%2BLIKfWfpS1bPqB9HqRdMKMB%2Fj%2BoqG0slTXyPryg27cezJhO8Ne0uQi6beyWEe5mWGWO7e6MHmWG%2B%2FmrAs09QrO9xZqiXJKtVlHdlWkg11T96mSf%2FT7R%2BeRTv7KLt7GKnoqP5m4CpbOC1rkjXFdRmh15xMhp3TB0Oaj6AMivjaPx9JZnKXmSBoa7p9%2BLWwLXzd7MtYxsPY7CFUjFcBnqUhh2TGe673ySGYrFlz0ChtrCnJonUnrvYrqZ92J5JrotxvPiuzVLaHR4mo0vm21ifzk1QfgQGimH5%2BS5l7XAplGo579ZeyUktuQSx0%2Bqj1kFOuKTPd8PVehXRQ8XvDpVuvhpsx5jS7vcKn3bRqWSXvVYJUAolb3TCNejNIlswIAFXhQ5H342zYp7ZMOF%2Fw%2FA0d4cOClqGdxp17vLYJn8ZgWTTF4cVbRnhuUJagS4PBepdtRa9h51L6Wcrxb%2FAWaRJztJ%2Bxv6eICmyJIau%2FsGDNdvdZ%2F5DQGAma%2B4mFJFgbc%2BKDJpV%2FuVqD5yy7r9BhVDKJ1%2Bk410xQzjiFyQnF18P0%2F5P4exkVAD0smwi5OWZybvQniSwqHx7bjGcqQaotZy9k2%2FIHVqiACxbxt0God%2BBAUUKBrgLFwMwBsF7WXhG9qh4THx5xTjPTtEIQ0lfqPbzbCYovDXo5Og0%2FAivNw65ZOs9L1QP0qT5b6tOt21zvqc9zmgJxNxY%2FLBilTGVESLTPd7se9u02e3%2F4JhMlIrrtXb%2B9F6p5abXwns5%2F3rLzQmTSOIsjkmF03hV4%2BU2txFJpHCN2pWwdadvPq8xE6Xj4eTraHGVODEaEYbYEMrlGQRrLxM5rOx85oUdrm%2Fr3X%2F%2F%2FpXiIamBRXvvt9s00m2QmeawB4bj6J5%2FLnjM18dZpj%2BaQ5ogQIoM6WN6IIDOh02jvrWi56JHQl4oYF%2FN8aV5cIDrNg%2FMZxZg4aiMkYjdrCDkP6ZtbKEF1RCZv3MwYJ3YsPKopcw4VBS9Al56qWUGz%2BtrsMpH1qxi20TJwhnDUPipo5zTO4fiR669RfghL32q47SmvDVi%2BspqY4hG3sxpstT6VKWYYaYT0bZrkl%2FhWbM%2FXdeGhZU%2BxIZbLJiW3G39Nbf6eyJXLaWWUht8MxqD%2Bzs0JDelX56Sf%2BTTrLn6U%2B69Ok4xbAFeNz0OCTGUog46uqdoUxnYdpFpIvVFmv4NwgCHuRDV7ZBTeBj4Q%2FpPheddMfr4W8YZJDodkXy5fS4QyVKNFur8k8NGCqmNje%2B%2BhR6O781aVSbmuYAF%2FUzWKUmBSTXgcUO4WZdi%2BUstlLXBtcK%2ByAwqZZ%2F6l9NCAp545tEPXwQO1msxza8E2nt3gOgYiBGLUVSKY4P136zchdQmVdRLm2q6OYWX1kATdjtKHNmSrUnpGRxuv8VvetQr3yiKL%2BeSBA5iLlS2OT9YwaRXCw%3D',\n",
      " 'https://loja.mercadolivre.com.br/obabox',\n",
      " 'https://publicidade.mercadolivre.com.br/productAds?ui_version=v2',\n",
      " 'https://click1.mercadolivre.com.br/mclics/clicks/external/MLB/count?a=Oj%2Fr2cTfDWEPCxhwbbSs2A%2B9OKBzm8aiSU7qtNrCkIVntAm1xM9GSwzHG4YKQ55vUuDOriYAckagllJv2aNZ66S%2BH%2FWg%2FtNTsY9NvTF289ph3RxdqqBFGD%2FK75mOzWarfOCOypJ986CeN39Ak0E%2B3IZC733Eais1MRfD8IEvSxSoH2vY6fRz9fdMPumJrO5UPsd86vQFreoKa5lEV8Sj6kYJsX1jPiJ1e8O8Svvi8dgCu7y3Gj90jZ%2Bc0eBKkqLRxb5rmtqRucIIb0fY9ENy6ApShky1z1cX%2Fc%2FwND8SZmNeVyVqQHs3IFjz4OEBi8ISyVyuVsohp%2FG9wvtdlg3Wqyr1nRwehbwGUSWYo7xvS7MHoLH%2FJq%2BKYl0V4n5i3U9jY1GZ3HMv2F2Zm22R4%2FBSmtMYY8I8KeocqPq%2BqM%2BN0P6ByuNpod%2BnYFb17eb0WxhXUsXwnzWAV%2BkAv2rI2ai7R%2FS8fQXDcRuOPk6CuPKZmU65CQhfJzp6gLJd1uDiyHj09cgARmNxxcBbm7WgQaJgVToA7X3aF2rFMQ62H98zVajZ4D3hVe3%2FAGdH3UCTWxazS5XdeonfNSmMJTXlyhT8n7OcGNwejDfZAIoHTHuWOf8FIJ%2BaGa1msqP9xO5QV9HR5EfdTRTnb6M920Am3tMibDYqEPx%2BCsJwAD930WjErhTBlBoha4LprRcWrXvual3lbgUmG6gMqp4t4ZwT9NmJ7UgorNcvX26SyJYpLZ1%2F%2FNG1s%2F1F0pvCs8gvq7LLkptm21NWKzSpoV43%2Bn%2Fn%2BrhZy841y4xbNjnJyqZu3c%2BYzNejttnACBaxs6nfxAe6W5PgCM18NEDdj%2Fr3ex335LthwOrsAFZdT2kGjILoYztsnyto9pU8fvc%2BtIqvs6hlc55ItVo5YdfuGka%2B3SD73Y43Ihl%2Fi56s5ADzDwOtKdd%2FPKxMBdErYY9CI%2BxUjIdM4cRVjpj%2Fp%2FZIwZcy%2FpTPBUTuv61hoo%2FLAXs5h99ctdG9f6MWNT2NxcycuFtHjjPIAGt2jVc5Rn1knRPviHn59qSTVqgQ%2FgV1w0TV5Vu8OTipZnnmOK%2B%2Bv0HXD5%2FNUEdtocqI7Rl3FhJQtkuve79XiFU5KF3kgI5OJINwzd6OycoPxEjVOb62fPWeUpwARlqgxprPFeqCg%2Fs7GpDIcBHqKedNFHLjuFqJYes6WKgBg44oZYmBloBFIuhBjcfqwSVtEBeC%2BNkMOXhR6JvU%2B9Zrz%2Bic1SFVJyCKpdwqQSmkEGg7gEaDNKDGGxDS23KnzW%2FHYe75KgSEvECQlgqhUO3aTOiFLtspkb3c4edShH%2BGoiJ6Zix71KIP%2Fjhjx1sSRtELs8GdLinKMllCsIqW58WCYo6dUUVh6sEyTJLTsSCLqO1djUR1fu7eCU2GWeJ9YnTz0aGGAwNAo5y0NVpgCFUFHE3KORWOlLLdBrHRIkreq74OAsDLvPzY1E%2BoqJRbQGhVTQ%3D%3D',\n",
      " 'https://www.mercadolivre.com.br/xiaomi-redmi-note-8-dual-sim-64-gb-space-black-4-gb-ram/p/MLB15188552?pdp_filters=category:MLB1055#searchVariation=MLB15188552&position=8&type=product&tracking_id=6d12ff4e-3d7b-41bf-9ca8-a726815b4d77',\n",
      " 'https://www.mercadolivre.com.br/lg-k41s-dual-sim-32-gb-preto-3-gb-ram/p/MLB15808247?pdp_filters=category:MLB1055#searchVariation=MLB15808247&position=9&type=product&tracking_id=6d12ff4e-3d7b-41bf-9ca8-a726815b4d77',\n",
      " 'https://www.mercadolivre.com.br/lg-k52-13-mpx-dual-sim-64-gb-red-3-gb-ram/p/MLB16951108?pdp_filters=category:MLB1055#searchVariation=MLB16951108&position=10&type=product&tracking_id=6d12ff4e-3d7b-41bf-9ca8-a726815b4d77',\n",
      " 'https://www.mercadolivre.com.br/lg-k22-dual-sim-64-gb-titan-3-gb-ram/p/MLB16182437?pdp_filters=category:MLB1055#searchVariation=MLB16182437&position=11&type=product&tracking_id=6d12ff4e-3d7b-41bf-9ca8-a726815b4d77',\n",
      " 'https://www.mercadolivre.com.br/samsung-galaxy-a01-dual-sim-32-gb-azul-2-gb-ram/p/MLB15698681?pdp_filters=category:MLB1055#searchVariation=MLB15698681&position=12&type=product&tracking_id=6d12ff4e-3d7b-41bf-9ca8-a726815b4d77',\n",
      " 'https://www.mercadolivre.com.br/xiaomi-redmi-9-global-dual-sim-64-gb-carbon-grey-4-gb-ram/p/MLB15949974?pdp_filters=category:MLB1055#searchVariation=MLB15949974&position=13&type=product&tracking_id=6d12ff4e-3d7b-41bf-9ca8-a726815b4d77',\n",
      " 'https://www.mercadolivre.com.br/samsung-galaxy-a10s-dual-sim-32-gb-preto-2-gb-ram/p/MLB15157294?pdp_filters=category:MLB1055#searchVariation=MLB15157294&position=14&type=product&tracking_id=6d12ff4e-3d7b-41bf-9ca8-a726815b4d77',\n",
      " 'https://www.mercadolivre.com.br/samsung-galaxy-a21s-dual-sim-64-gb-preto-4-gb-ram/p/MLB15960724?pdp_filters=category:MLB1055#searchVariation=MLB15960724&position=15&type=product&tracking_id=6d12ff4e-3d7b-41bf-9ca8-a726815b4d77',\n",
      " 'https://www.mercadolivre.com.br/xiaomi-redmi-note-9s-dual-sim-128-gb-cinza-6-gb-ram/p/MLB15586828?pdp_filters=category:MLB1055#searchVariation=MLB15586828&position=16&type=product&tracking_id=6d12ff4e-3d7b-41bf-9ca8-a726815b4d77',\n",
      " 'https://click1.mercadolivre.com.br/mclics/clicks/external/MLB/count?a=6fDotGlKPcWWZijXs1LtTTG6n4%2FxfqxHgEifIW2MtC1mKO4GI1CIR9eU47Yn7qEq%2BcPIEn%2B2DL5DD%2F86Qn%2FsShmuX5ngMzvs3UglUCmwiSEKEmsHx8PN%2Fj5KEfK5ZaOLMrXexmIL0S5aMOuA4CPMvcVQcP9KGbooG1bEoe%2FbwuAhlFNTw%2BiHgkroquGjXus2tWvt1UC6oyDKxxKyGjhCE5hakxIQEQutYYcVtbfJpZN30Fg%2BJJb35dYNqQOqSUd1gjzpAnirSc39hYmM6LG%2Flkb%2Fyhej%2BqjDY11Xx3M7sxSsRlEY9zx6ThH4y5XsaaROsAtKGBh5L3fj5Jnp625JFPjrAoqLZYazBHgGDrD56MPB7s%2FhOTQISE3ELAyUrT03yh%2FYuNMhE692jrZDgEJi7XW7MnX0uw0e5cXAuFYfzg2YOgFViLK59M6Gb9ieI05wTIj0j52SKcTspwLBROkkwx5m72XfdGj6XkPZjg5tcHpi79aP%2B6XklE1d30j8piSjjyPu%2FWl8sEU0hxm6Ls%2BeKb7A0ffL2OysCWutdyAI6u6LkiWM1PIzpR%2BrBhUgjB0C1p7rjEANJo6FLH4CutM95tjE4DvSHF0Qp4ZTEwZnH2XMMT6RP47KAj56RCugUfOzvXuv3cvO1gq9mjMCSoSt2wI9fyOiODFO7ILSeiZvxqjfKlSYteMeVOQJCLG385ne5Ixb72qGo5UYrzYM8qWl6uDACRiFPpnXLmR2ZflABgh6YSVb8Iivg%2BULkFicwE7jPKb600lK%2FLGj5o8swHTgicmox2NONfOtrmIGbigStDiMvr8lwQLfQtmaz%2FXz%2FnfHqH0zstqpEIsmwEfSgCQ6KrIS0LWfbkXd4OLvWZjvjvMXKE4uyKs131Yvo2ecSiWIoa%2Fv%2By%2BdE5vZYfG7RMuZWCAGh1vYVhiShUAs5gv%2Fd%2FXspxx3NuGJv%2FK%2FEE4pU2sKe8zvALGWVBRjY6oXxKDvMhq2BDwFL7GyfbJlwmZChMWe3JyqxD6K4mXA53Zk2VICJp8t%2ByJbJ2AZ0IvjvkM6Op3Zwf9wd9Jy1WQDRgqvowxUGef8VHAeJVt%2Fd12zy62ATbvbmXt0JUMh%2BD4zo0AIwopN53sRECaQYkak8hA4aNRbByXQNERSULvVLVbtRU65bUFxeTX58wMeJPYRluIAXbckTvWiwvPt0ms%2FXSPGWYSOddn1XMsB8unui2WngDF%2FDlfv7d5UW6FW8g96zJ3RV0aWHIdJiq0VNETZjQO1ZbVJqMJsMfsP7qK0XA6rOvtYxNQqTd8oSe07LAz2oHzEy3vLKakjn3VwCi5oTUF0SepHG3tKQgh4g8Vl3j91vNLBMWpr%2FeOo8JHUssWbxtYZxa8v18zjo2mSOgfICfRVP%2FsiUY78oWV1RQ2%2B2lsuA60eq0TLCNHmxf2ohMlXY5iWNamv5%2FPI60WIj7KDoTsVEBRJWbbZsg%3D%3D',\n",
      " 'https://click1.mercadolivre.com.br/mclics/clicks/external/MLB/count?a=8WJH32aYOThOzij57KU4OSYkC1yrJUEv5uG6AMKfpNoCVLUA4ZacsXaU9ZiKRMlyKGbA48lz7bbLTbJDtXw3jbPR5QtSBnglKSmITtE8drOZk4fwexoTNuZDfQxDgUxsGDP4GakV85zdFRJmWqRn8v2tNhm7liPFPJPgYL2%2B%2B3T3HkDM8Hh5m7IvcNmAdYJhWIo1H%2FrozGqAUepoyAuX4uJaB81yIlvtDvuPNic%2BnmqKl4jl2CQI%2BE2X4yEkNizvglOtaXiB5AxmGMhG3sXgqlhxXcaonytCpRK5hDPmuvJWLdFGim9NHF33rcyY2JNx%2B2npUrZ6j%2FMjNoSEMyMxipPDmrcve6Fk7P%2BoWhjzBSNTAyA%2F0nBuazLbpuZn5xE9gYVgLzxI15XCwAVXE%2FYTqnEUWYZY1LfiMM0OcwriJ%2FrqlSOwPkFQoJflYl3aZC%2FZiy4a0Mk%2FTaE5ZkdfreTCIZn%2BYyUSO9FwsdynEpSuidKbtbGb9JplUwLUvoRyr0zkFeYgWMkSfi8aDpdnT6zQngZ3ml50rXBQTCjUYRGzAAzKurzTy%2BKlJiVTqU7dmbt0u7KEKNXcUGx4ClnkS%2BfhkCkcdqwMJA6eMRtb9HoV6kmZ6nruayroUFbyvcKP7xVU%2FtvTG2nEdQNjTCs8TG%2FaSgBn38BcBglCRaphwb3d2kMhz27ZT3ZY5%2FVfTg2HHi2iBB7SXBVaIjOfPnm%2BkpoOyD9ysFgG1i8sf3%2BjBxs2f2Mk2%2FdXisuv%2Bh7LW0fNMiUoujHEorD04O95Y5yjrnJzBDAPHp5agUVc0Fr1o%2Bv6Xf1J11Mun2%2Buh6S%2Bg1teO%2FaLtLyYZxuAcUpSeYY2yIyfUqfjalsPbunYk8HN1tOr1G4P5%2FTAN0WyT57vnYMG4urjKrolDCwbi1Rftk3MtZrMj5uFloAy%2Fn%2Fwa%2B1x%2Bg7u0MjqXfJpWhzDAyC7KofpmfUpiO0dVGxYtSRz4s2omiyAYBsLQjQjpDiNxFceLVM6GBPeaJ6vZw0chzauoQJzRW9i4HVHvX6HFKZ%2FntTyHqojWYMo6mcqGeUic%2BaDtS794w3Sh0LjMMAvNyFZbfAH6jU87LewB1cdRPKCfVIQiNnlIRNhvlkrYrI1Vpf53EHLugA8XxgoUu%2FtF0fe7WJsk5LIdmE9VQBCVnZIKujM0DWHD7QteFQQZT4s3bBNGq1PC8u9knLljOEnGW3%2FU6ykwVywI7WV8vQi3mEzgVqWRNt6XsYZqn63%2B3BjbPWzA7ctNY2qhlVMpVNBm68zysMlmhdSE%2FcdE6dGy%2BZ7mhZHw3hgwwA4RCcYJ3D3jnymvlQXSAyPElzRP0tp4QWGU%2BcxUx5lTPM3B3CzuoBoHxs7U8NOinVUNYzB95xRN80fMxyMDfGkZ7zGIhT1FWeMRxig6Re%2FZYeOvRqYbgqPiLKmwc7ouCnZoBTaluOw8xT4l%2BTdOMVr8oHYug%3D%3D',\n",
      " 'https://www.mercadolivre.com.br/lg-k51s-dual-sim-64-gb-titan-3-gb-ram/p/MLB16006308?pdp_filters=category:MLB1055#searchVariation=MLB16006308&position=17&type=product&tracking_id=6d12ff4e-3d7b-41bf-9ca8-a726815b4d77',\n",
      " 'https://www.mercadolivre.com.br/samsung-galaxy-a31-dual-sim-128-gb-prism-crush-black-4-gb-ram/p/MLB15809302?pdp_filters=category:MLB1055#searchVariation=MLB15809302&position=18&type=product&tracking_id=6d12ff4e-3d7b-41bf-9ca8-a726815b4d77',\n",
      " 'https://www.mercadolivre.com.br/asus-zenfone-max-shot-zb634kl-dual-sim-32-gb-vermelho-3-gb-ram/p/MLB14690370?pdp_filters=category:MLB1055#searchVariation=MLB14690370&position=19&type=product&tracking_id=6d12ff4e-3d7b-41bf-9ca8-a726815b4d77',\n",
      " 'https://www.mercadolivre.com.br/multilaser-flip-vita-dual-sim-32-mb-vermelho-32-mb-ram/p/MLB9903929?pdp_filters=category:MLB1055#searchVariation=MLB9903929&position=20&type=product&tracking_id=6d12ff4e-3d7b-41bf-9ca8-a726815b4d77',\n",
      " 'https://www.mercadolivre.com.br/multilaser-up-play-dual-sim-32-mb-branco-32-mb-ram/p/MLB15561208?pdp_filters=category:MLB1055#searchVariation=MLB15561208&position=21&type=product&tracking_id=6d12ff4e-3d7b-41bf-9ca8-a726815b4d77',\n",
      " 'https://www.mercadolivre.com.br/xiaomi-redmi-9a-dual-sim-32-gb-cinza-2-gb-ram/p/MLB15927746?pdp_filters=category:MLB1055#searchVariation=MLB15927746&position=22&type=product&tracking_id=6d12ff4e-3d7b-41bf-9ca8-a726815b4d77',\n",
      " 'https://www.mercadolivre.com.br/xiaomi-redmi-note-9-pro-64-mpx-dual-sim-128-gb-cinza-interestelar-6-gb-ram/p/MLB15811796?pdp_filters=category:MLB1055#searchVariation=MLB15811796&position=23&type=product&tracking_id=6d12ff4e-3d7b-41bf-9ca8-a726815b4d77',\n",
      " 'https://www.mercadolivre.com.br/moto-g9-play-dual-sim-64-gb-azul-safira-4-gb-ram/p/MLB16141536?pdp_filters=category:MLB1055#searchVariation=MLB16141536&position=24&type=product&tracking_id=6d12ff4e-3d7b-41bf-9ca8-a726815b4d77',\n",
      " 'https://loja.mercadolivre.com.br/commcenter',\n",
      " 'https://www.mercadolivre.com.br/multilaser-zapp-dual-sim-512-mb-preto-256-mb-ram/p/MLB15948842?pdp_filters=category:MLB1055#searchVariation=MLB15948842&position=25&type=product&tracking_id=6d12ff4e-3d7b-41bf-9ca8-a726815b4d77',\n",
      " 'https://www.mercadolivre.com.br/lg-b220-dual-sim-32-mb-preto-32-mb-ram/p/MLB6148402?pdp_filters=category:MLB1055#searchVariation=MLB6148402&position=26&type=product&tracking_id=6d12ff4e-3d7b-41bf-9ca8-a726815b4d77',\n",
      " 'https://www.mercadolivre.com.br/xiaomi-redmi-note-9-dual-sim-128-gb-cinza-meia-noite-4-gb-ram/p/MLB15793963?pdp_filters=category:MLB1055#searchVariation=MLB15793963&position=27&type=product&tracking_id=6d12ff4e-3d7b-41bf-9ca8-a726815b4d77',\n",
      " 'https://www.mercadolivre.com.br/samsung-galaxy-a51-dual-sim-128-gb-prism-crush-white-4-gb-ram/p/MLB15466967?pdp_filters=category:MLB1055#searchVariation=MLB15466967&position=28&type=product&tracking_id=6d12ff4e-3d7b-41bf-9ca8-a726815b4d77',\n",
      " 'https://www.mercadolivre.com.br/samsung-galaxy-a11-dual-sim-64-gb-vermelho-3-gb-ram/p/MLB15946510?pdp_filters=category:MLB1055#searchVariation=MLB15946510&position=29&type=product&tracking_id=6d12ff4e-3d7b-41bf-9ca8-a726815b4d77',\n",
      " 'https://loja.mercadolivre.com.br/lojas-colombo',\n",
      " 'https://www.mercadolivre.com.br/xiaomi-poco-x3-nfc-dual-sim-128-gb-cobalt-blue-6-gb-ram/p/MLB16163951?pdp_filters=category:MLB1055#searchVariation=MLB16163951&position=30&type=product&tracking_id=6d12ff4e-3d7b-41bf-9ca8-a726815b4d77',\n",
      " 'https://www.mercadolivre.com.br/xiaomi-poco-x3-nfc-dual-sim-64-gb-shadow-gray-6-gb-ram/p/MLB16163950?pdp_filters=category:MLB1055#searchVariation=MLB16163950&position=31&type=product&tracking_id=6d12ff4e-3d7b-41bf-9ca8-a726815b4d77',\n",
      " 'https://www.mercadolivre.com.br/multilaser-e-lite-dual-sim-32-gb-preto-512-mb-ram/p/MLB16206437?pdp_filters=category:MLB1055#searchVariation=MLB16206437&position=32&type=product&tracking_id=6d12ff4e-3d7b-41bf-9ca8-a726815b4d77',\n",
      " 'https://www.mercadolivre.com.br/multilaser-f-dual-sim-32-gb-cafe-1-gb-ram/p/MLB16033514?pdp_filters=category:MLB1055#searchVariation=MLB16033514&position=33&type=product&tracking_id=6d12ff4e-3d7b-41bf-9ca8-a726815b4d77',\n",
      " 'https://www.mercadolivre.com.br/lg-k61-dual-sim-128-gb-branco-4-gb-ram/p/MLB15841985?pdp_filters=category:MLB1055#searchVariation=MLB15841985&position=34&type=product&tracking_id=6d12ff4e-3d7b-41bf-9ca8-a726815b4d77',\n",
      " 'https://www.mercadolivre.com.br/xiaomi-poco-m3-dual-sim-64-gb-power-black-4-gb-ram/p/MLB17324468?pdp_filters=category:MLB1055#searchVariation=MLB17324468&position=35&type=product&tracking_id=6d12ff4e-3d7b-41bf-9ca8-a726815b4d77',\n",
      " 'https://www.mercadolivre.com.br/iphone-11-64-gb-branco/p/MLB15149562?pdp_filters=category:MLB1055#searchVariation=MLB15149562&position=36&type=product&tracking_id=6d12ff4e-3d7b-41bf-9ca8-a726815b4d77',\n",
      " 'https://www.mercadolivre.com.br/xiaomi-redmi-note-8-dual-sim-128-gb-space-black-4-gb-ram/p/MLB15276346?pdp_filters=category:MLB1055#searchVariation=MLB15276346&position=37&type=product&tracking_id=6d12ff4e-3d7b-41bf-9ca8-a726815b4d77',\n",
      " 'https://www.mercadolivre.com.br/xiaomi-redmi-note-9s-dual-sim-64-gb-cinza-4-gb-ram/p/MLB15586825?pdp_filters=category:MLB1055#searchVariation=MLB15586825&position=38&type=product&tracking_id=6d12ff4e-3d7b-41bf-9ca8-a726815b4d77',\n",
      " 'https://www.mercadolivre.com.br/xiaomi-redmi-note-8-pro-dual-sim-128-gb-cinza-mineral-6-gb-ram/p/MLB15239257?pdp_filters=category:MLB1055#searchVariation=MLB15239257&position=39&type=product&tracking_id=6d12ff4e-3d7b-41bf-9ca8-a726815b4d77',\n",
      " 'https://www.mercadolivre.com.br/xiaomi-redmi-9c-dual-sim-64-gb-twilight-blue-3-gb-ram/p/MLB16069879?pdp_filters=category:MLB1055#searchVariation=MLB16069879&position=40&type=product&tracking_id=6d12ff4e-3d7b-41bf-9ca8-a726815b4d77',\n",
      " 'https://www.mercadolivre.com.br/samsung-galaxy-a71-dual-sim-128-gb-preto-6-gb-ram/p/MLB15506596?pdp_filters=category:MLB1055#searchVariation=MLB15506596&position=41&type=product&tracking_id=6d12ff4e-3d7b-41bf-9ca8-a726815b4d77',\n",
      " 'https://www.mercadolivre.com.br/motorola-one-fusion-dual-sim-128-gb-emerald-green-4-gb-ram/p/MLB16065467?pdp_filters=category:MLB1055#searchVariation=MLB16065467&position=42&type=product&tracking_id=6d12ff4e-3d7b-41bf-9ca8-a726815b4d77',\n",
      " 'https://www.mercadolivre.com.br/multilaser-vita-dual-sim-32-mb-preto-24-mb-ram/p/MLB8624829?pdp_filters=category:MLB1055#searchVariation=MLB8624829&position=43&type=product&tracking_id=6d12ff4e-3d7b-41bf-9ca8-a726815b4d77',\n",
      " 'https://www.mercadolivre.com.br/iphone-11-128-gb-branco/p/MLB15149568?pdp_filters=category:MLB1055#searchVariation=MLB15149568&position=44&type=product&tracking_id=6d12ff4e-3d7b-41bf-9ca8-a726815b4d77',\n",
      " 'https://www.mercadolivre.com.br/xiaomi-poco-m3-dual-sim-128-gb-power-black-4-gb-ram/p/MLB17324471?pdp_filters=category:MLB1055#searchVariation=MLB17324471&position=45&type=product&tracking_id=6d12ff4e-3d7b-41bf-9ca8-a726815b4d77',\n",
      " 'https://www.mercadolivre.com.br/positivo-p25-dual-sim-32-mb-preto-32-mb-ram/p/MLB8054616?pdp_filters=category:MLB1055#searchVariation=MLB8054616&position=46&type=product&tracking_id=6d12ff4e-3d7b-41bf-9ca8-a726815b4d77',\n",
      " 'https://www.mercadolivre.com.br/infinity-w201-dual-sim-32-mb-pretovermelho-32-mb-ram/p/MLB16224071?pdp_filters=category:MLB1055#searchVariation=MLB16224071&position=47&type=product&tracking_id=6d12ff4e-3d7b-41bf-9ca8-a726815b4d77',\n",
      " 'https://www.mercadolivre.com.br/philco-hit-max-pcs02-dual-sim-128-gb-cinza-espacial-4-gb-ram/p/MLB16031207?pdp_filters=category:MLB1055#searchVariation=MLB16031207&position=48&type=product&tracking_id=6d12ff4e-3d7b-41bf-9ca8-a726815b4d77',\n",
      " 'https://loja.mercadolivre.com.br/mega-mamute',\n",
      " 'https://www.mercadolivre.com.br/iphone-xr-64-gb-preto/p/MLB12866681?pdp_filters=category:MLB1055#searchVariation=MLB12866681&position=49&type=product&tracking_id=6d12ff4e-3d7b-41bf-9ca8-a726815b4d77',\n",
      " 'https://www.mercadolivre.com.br/iphone-7-32-gb-preto-fosco/p/MLB6240116?pdp_filters=category:MLB1055#searchVariation=MLB6240116&position=50&type=product&tracking_id=6d12ff4e-3d7b-41bf-9ca8-a726815b4d77',\n",
      " 'https://celulares.mercadolivre.com.br/_Desde_51',\n",
      " 'https://celulares.mercadolivre.com.br/_Desde_101',\n",
      " 'https://celulares.mercadolivre.com.br/_Desde_151',\n",
      " 'https://celulares.mercadolivre.com.br/_Desde_201',\n",
      " 'https://celulares.mercadolivre.com.br/_Desde_251',\n",
      " 'https://celulares.mercadolivre.com.br/_Desde_301',\n",
      " 'https://celulares.mercadolivre.com.br/_Desde_351',\n",
      " 'https://celulares.mercadolivre.com.br/_Desde_401',\n",
      " 'https://celulares.mercadolivre.com.br/_Desde_451',\n",
      " 'https://www.mercadolivre.com.br/rp/comparar-celular#reviewpage',\n",
      " 'https://ideias.mercadolivre.com.br/sobre-mercado-livre/',\n",
      " 'http://investor.mercadolibre.com',\n",
      " 'https://tendencias.mercadolivre.com.br',\n",
      " 'https://developers.mercadolibre.com',\n",
      " 'https://www.mercadopago.com.br',\n",
      " 'https://envios.mercadolivre.com.br',\n",
      " 'https://www.mercadoshops.com.br',\n",
      " 'https://ads.mercadolivre.com.br',\n",
      " 'https://ideias.mercadolivre.com.br/',\n",
      " 'https://www.mercadolivre.com.br/ajuda/Compras_638',\n",
      " 'https://www.mercadolivre.com.br/ajuda/Vender-un-producto_988',\n",
      " 'https://www.mercadolivre.com.br/ajuda',\n",
      " 'https://www.mercadolivre.com.br/ajuda/seguranca_663',\n",
      " 'https://twitter.com/MercadoLivre',\n",
      " 'https://www.facebook.com/MercadoLivre',\n",
      " 'https://www.instagram.com/mercadolivre',\n",
      " 'https://www.youtube.com/user/mercadolivreoficial',\n",
      " 'https://vender.mercadolivre.com.br',\n",
      " 'https://www.mercadolivre.com.br/assinaturas/hbo#origin=footer_ml',\n",
      " 'https://www.mercadolivre.com.br/assinaturas/disneyplus#origin=footer_ml',\n",
      " 'https://www.mercadolivre.com.br/assinaturas/deezer#origin=footer_ml',\n",
      " 'https://jobs.mercadolibre.com/?locale=pt_BR&utm_campaign=site-mlb&utm_source=mercadolibre&utm_medium=mercadolibre',\n",
      " 'https://www.mercadolivre.com.br/ajuda/Termos-e-condicoes-gerais-de-uso_1409',\n",
      " 'https://www.mercadolivre.com.br/privacidade',\n",
      " 'https://www.mercadolivre.com.br/l/app',\n",
      " 'https://hp.mercadolibre.com/?p=ML&s=MLB&d=desktop',\n",
      " 'https://www.mercadolivre.com.br/privacidade#tech-and-cookies']\n"
     ]
    }
   ],
   "source": [
    "excludeUrl = 'https://lista.mercadolivre.com.br/celular#D[A:celular]'\n",
    "externalLinks = []\n",
    "for link in soup.findAll(\"a\",href=re.compile(\"^(http|www)((?!\"+excludeUrl+\").)*$\")):\n",
    "        if link.attrs['href'] is not None:\n",
    "            if link.attrs['href'] not in externalLinks:\n",
    "                externalLinks.append(link.attrs['href'])\n",
    "pprint(externalLinks)"
   ]
  },
  {
   "cell_type": "code",
   "execution_count": 15,
   "metadata": {},
   "outputs": [
    {
     "name": "stdout",
     "output_type": "stream",
     "text": [
      "Nome do Celular:  Galaxy M31   \n",
      "Marca do celular: ['Samsung']\n",
      "Cor: ['azul ']\n",
      "Memória ram: ['6 GB RAM']\n",
      "Espaço em hd: ['128 GB']\n",
      "1 ou 2 ship(s): ['1']\n",
      "Preço: 1.999\n",
      "=======================================\n",
      "Nome do Celular:  E6s (2020)   \n",
      "Marca do celular: ['Moto']\n",
      "Cor: ['azul-navy ']\n",
      "Memória ram: ['4 GB RAM']\n",
      "Espaço em hd: ['64 GB']\n",
      "1 ou 2 ship(s): ['2']\n",
      "Preço: 1.393\n",
      "=======================================\n",
      "Nome do Celular:  Galaxy A51  prism crush \n",
      "Marca do celular: ['Samsung']\n",
      "Cor: ['black ']\n",
      "Memória ram: ['4 GB RAM']\n",
      "Espaço em hd: ['128 GB']\n",
      "1 ou 2 ship(s): ['2']\n",
      "Preço: 2.698\n",
      "=======================================\n",
      "Nome do Celular:  ZenFone Max Shot ZB634KL   \n",
      "Marca do celular: ['Asus']\n",
      "Cor: ['preto ']\n",
      "Memória ram: ['4 GB RAM']\n",
      "Espaço em hd: ['64 GB']\n",
      "1 ou 2 ship(s): ['1']\n",
      "Preço: 1.318\n",
      "=======================================\n",
      "Nome do Celular:  Galaxy M21s   \n",
      "Marca do celular: ['Samsung']\n",
      "Cor: ['preto ']\n",
      "Memória ram: ['4 GB RAM']\n",
      "Espaço em hd: ['64 GB']\n",
      "1 ou 2 ship(s): ['2']\n",
      "Preço: 1.699\n",
      "=======================================\n",
      "Nome do Celular:  Galaxy A01 Core   \n",
      "Marca do celular: ['Samsung']\n",
      "Cor: ['vermelho ']\n",
      "Memória ram: ['2 GB RAM']\n",
      "Espaço em hd: ['32 GB']\n",
      "1 ou 2 ship(s): ['2']\n",
      "Preço: 619\n",
      "=======================================\n",
      "Nome do Celular:  K22   \n",
      "Marca do celular: ['LG']\n",
      "Cor: ['red ']\n",
      "Memória ram: ['2 GB RAM']\n",
      "Espaço em hd: ['32 GB']\n",
      "1 ou 2 ship(s): ['2']\n",
      "Preço: 1.048\n",
      "=======================================\n",
      "Nome do Celular:  3 Obabox O Novo Smartphone Para A 3º Idade \n",
      "Marca do celular: ['Obasmart']\n",
      "Cor: ['Original']\n",
      "Memória ram: ['']\n",
      "Espaço em hd: []\n",
      "1 ou 2 ship(s): ['2']\n",
      "Preço: 997\n",
      "=======================================\n",
      "Nome do Celular:  Celular Para Idoso Teclas Grandes Fala Ao \n",
      "Marca do celular: ['Telefone']\n",
      "Cor: ['Digitar']\n",
      "Memória ram: ['']\n",
      "Espaço em hd: []\n",
      "1 ou 2 ship(s): ['1']\n",
      "Preço: 123\n",
      "=======================================\n",
      "Nome do Celular:  Redmi Note 8   space \n",
      "Marca do celular: ['Xiaomi']\n",
      "Cor: ['black ']\n",
      "Memória ram: ['4 GB RAM']\n",
      "Espaço em hd: ['64 GB']\n",
      "1 ou 2 ship(s): ['1']\n",
      "Preço: 1.270\n",
      "=======================================\n",
      "Nome do Celular:  K41S   \n",
      "Marca do celular: ['LG']\n",
      "Cor: ['preto ']\n",
      "Memória ram: ['3 GB RAM']\n",
      "Espaço em hd: ['32 GB']\n",
      "1 ou 2 ship(s): ['2']\n",
      "Preço: 1.099\n",
      "=======================================\n",
      "Nome do Celular:  K52 (13 Mpx)   \n",
      "Marca do celular: ['LG']\n",
      "Cor: ['red ']\n",
      "Memória ram: ['3 GB RAM']\n",
      "Espaço em hd: ['64 GB']\n",
      "1 ou 2 ship(s): ['2']\n",
      "Preço: 1.399\n",
      "=======================================\n",
      "Nome do Celular:  K22+   \n",
      "Marca do celular: ['LG']\n",
      "Cor: ['titan ']\n",
      "Memória ram: ['3 GB RAM']\n",
      "Espaço em hd: ['64 GB']\n",
      "1 ou 2 ship(s): ['2']\n",
      "Preço: 1.153\n",
      "=======================================\n",
      "Nome do Celular:  Galaxy A01   \n",
      "Marca do celular: ['Samsung']\n",
      "Cor: ['azul ']\n",
      "Memória ram: ['2 GB RAM']\n",
      "Espaço em hd: ['32 GB']\n",
      "1 ou 2 ship(s): ['2']\n",
      "Preço: 849\n",
      "=======================================\n",
      "Nome do Celular:  Redmi 9 (Global)   carbon \n",
      "Marca do celular: ['Xiaomi']\n",
      "Cor: ['grey ']\n",
      "Memória ram: ['4 GB RAM']\n",
      "Espaço em hd: ['64 GB']\n",
      "1 ou 2 ship(s): ['2']\n",
      "Preço: 1.138\n",
      "=======================================\n",
      "Nome do Celular:  Galaxy A10s   \n",
      "Marca do celular: ['Samsung']\n",
      "Cor: ['preto ']\n",
      "Memória ram: ['2 GB RAM']\n",
      "Espaço em hd: ['32 GB']\n",
      "1 ou 2 ship(s): ['2']\n",
      "Preço: 864\n",
      "=======================================\n",
      "Nome do Celular:  Galaxy A21s   \n",
      "Marca do celular: ['Samsung']\n",
      "Cor: ['preto ']\n",
      "Memória ram: ['4 GB RAM']\n",
      "Espaço em hd: ['64 GB']\n",
      "1 ou 2 ship(s): ['2']\n",
      "Preço: 1.358\n",
      "=======================================\n",
      "Nome do Celular:  Redmi Note 9S   \n",
      "Marca do celular: ['Xiaomi']\n",
      "Cor: ['cinza ']\n",
      "Memória ram: ['6 GB RAM']\n",
      "Espaço em hd: ['128 GB']\n",
      "1 ou 2 ship(s): ['2']\n",
      "Preço: 1.747\n",
      "=======================================\n",
      "Nome do Celular:  Para Idosos Com Botão Sos Teclas \n",
      "Marca do celular: ['Celular']\n",
      "Cor: ['Grandes']\n",
      "Memória ram: ['']\n",
      "Espaço em hd: []\n",
      "1 ou 2 ship(s): ['2']\n",
      "Preço: 127\n",
      "=======================================\n",
      "Nome do Celular:  Para Idosos Com Botão Sos Teclas \n",
      "Marca do celular: ['Celular']\n",
      "Cor: ['Grandes']\n",
      "Memória ram: ['']\n",
      "Espaço em hd: []\n",
      "1 ou 2 ship(s): ['1']\n",
      "Preço: 179\n",
      "=======================================\n",
      "Nome do Celular:  K51S   \n",
      "Marca do celular: ['LG']\n",
      "Cor: ['titan ']\n",
      "Memória ram: ['3 GB RAM']\n",
      "Espaço em hd: ['64 GB']\n",
      "1 ou 2 ship(s): ['1']\n",
      "Preço: 1.299\n",
      "=======================================\n",
      "Nome do Celular:  Galaxy A31   prism crush \n",
      "Marca do celular: ['Samsung']\n",
      "Cor: ['black ']\n",
      "Memória ram: ['4 GB RAM']\n",
      "Espaço em hd: ['128 GB']\n",
      "1 ou 2 ship(s): ['2']\n",
      "Preço: 1.999\n",
      "=======================================\n",
      "Nome do Celular:  ZenFone Max Shot ZB634KL   \n",
      "Marca do celular: ['Asus']\n",
      "Cor: ['vermelho ']\n",
      "Memória ram: ['3 GB RAM']\n",
      "Espaço em hd: ['32 GB']\n",
      "1 ou 2 ship(s): ['2']\n",
      "Preço: 1.099\n",
      "=======================================\n",
      "Nome do Celular:  Flip Vita  32 MB \n",
      "Marca do celular: ['Multilaser']\n",
      "Cor: ['vermelho ']\n",
      "Memória ram: ['32 MB RAM']\n",
      "Espaço em hd: ['32 MB']\n",
      "1 ou 2 ship(s): ['2']\n",
      "Preço: 170\n",
      "=======================================\n",
      "Nome do Celular:  Up Play  32 MB \n",
      "Marca do celular: ['Multilaser']\n",
      "Cor: ['branco ']\n",
      "Memória ram: ['32 MB RAM']\n",
      "Espaço em hd: ['32 MB']\n",
      "1 ou 2 ship(s): ['2']\n",
      "Preço: 97\n",
      "=======================================\n",
      "Nome do Celular:  Redmi 9A   \n",
      "Marca do celular: ['Xiaomi']\n",
      "Cor: ['cinza ']\n",
      "Memória ram: ['2 GB RAM']\n",
      "Espaço em hd: ['32 GB']\n",
      "1 ou 2 ship(s): ['2']\n",
      "Preço: 788\n",
      "=======================================\n",
      "Nome do Celular:  Redmi Note 9 Pro (64 Mpx)   \n",
      "Marca do celular: ['Xiaomi']\n",
      "Cor: ['cinza-interestelar ']\n",
      "Memória ram: ['6 GB RAM']\n",
      "Espaço em hd: ['128 GB']\n",
      "1 ou 2 ship(s): ['2']\n",
      "Preço: 1.923\n",
      "=======================================\n",
      "Nome do Celular:  G9 Play   \n",
      "Marca do celular: ['Moto']\n",
      "Cor: ['azul-safira ']\n",
      "Memória ram: ['4 GB RAM']\n",
      "Espaço em hd: ['64 GB']\n",
      "1 ou 2 ship(s): ['2']\n",
      "Preço: 1.300\n",
      "=======================================\n",
      "Nome do Celular:  Zapp  512 MB \n",
      "Marca do celular: ['Multilaser']\n",
      "Cor: ['preto ']\n",
      "Memória ram: ['256 MB RAM']\n",
      "Espaço em hd: ['512 MB']\n",
      "1 ou 2 ship(s): ['2']\n",
      "Preço: 189\n",
      "=======================================\n",
      "Nome do Celular:  B220  32 MB \n",
      "Marca do celular: ['LG']\n",
      "Cor: ['preto ']\n",
      "Memória ram: ['32 MB RAM']\n",
      "Espaço em hd: ['32 MB']\n",
      "1 ou 2 ship(s): ['2']\n",
      "Preço: 110\n",
      "=======================================\n",
      "Nome do Celular:  Redmi Note 9   cinza-\n",
      "Marca do celular: ['Xiaomi']\n",
      "Cor: ['meia-noite ']\n",
      "Memória ram: ['4 GB RAM']\n",
      "Espaço em hd: ['128 GB']\n",
      "1 ou 2 ship(s): ['2']\n",
      "Preço: 1.418\n",
      "=======================================\n",
      "Nome do Celular:  Galaxy A51   prism crush \n",
      "Marca do celular: ['Samsung']\n",
      "Cor: ['white ']\n",
      "Memória ram: ['4 GB RAM']\n",
      "Espaço em hd: ['128 GB']\n",
      "1 ou 2 ship(s): ['2']\n",
      "Preço: 2.499\n",
      "=======================================\n",
      "Nome do Celular:  Galaxy A11   \n",
      "Marca do celular: ['Samsung']\n",
      "Cor: ['vermelho ']\n",
      "Memória ram: ['3 GB RAM']\n",
      "Espaço em hd: ['64 GB']\n",
      "1 ou 2 ship(s): ['2']\n",
      "Preço: 1.133\n",
      "=======================================\n",
      "Nome do Celular:  Poco X3 NFC   cobalt \n",
      "Marca do celular: ['Xiaomi']\n",
      "Cor: ['blue ']\n",
      "Memória ram: ['6 GB RAM']\n",
      "Espaço em hd: ['128 GB']\n",
      "1 ou 2 ship(s): ['2']\n",
      "Preço: 1.899\n",
      "=======================================\n",
      "Nome do Celular:  Poco X3 NFC   shadow \n",
      "Marca do celular: ['Xiaomi']\n",
      "Cor: ['gray ']\n",
      "Memória ram: ['6 GB RAM']\n",
      "Espaço em hd: ['64 GB']\n",
      "1 ou 2 ship(s): ['2']\n",
      "Preço: 1.638\n",
      "=======================================\n",
      "Nome do Celular:  E Lite   \n",
      "Marca do celular: ['Multilaser']\n",
      "Cor: ['preto ']\n",
      "Memória ram: ['512 MB RAM']\n",
      "Espaço em hd: ['32 GB']\n",
      "1 ou 2 ship(s): ['2']\n",
      "Preço: 355\n",
      "=======================================\n",
      "Nome do Celular:  F   \n",
      "Marca do celular: ['Multilaser']\n",
      "Cor: ['café ']\n",
      "Memória ram: ['1 GB RAM']\n",
      "Espaço em hd: ['32 GB']\n",
      "1 ou 2 ship(s): ['2']\n",
      "Preço: 465\n",
      "=======================================\n",
      "Nome do Celular:  K61   \n",
      "Marca do celular: ['LG']\n",
      "Cor: ['branco ']\n",
      "Memória ram: ['4 GB RAM']\n",
      "Espaço em hd: ['128 GB']\n",
      "1 ou 2 ship(s): ['2']\n",
      "Preço: 1.699\n",
      "=======================================\n",
      "Nome do Celular:  Poco M3   power \n",
      "Marca do celular: ['Xiaomi']\n",
      "Cor: ['black ']\n",
      "Memória ram: ['4 GB RAM']\n",
      "Espaço em hd: ['64 GB']\n",
      "1 ou 2 ship(s): ['2']\n",
      "Preço: 1.230\n",
      "=======================================\n",
      "Nome do Celular:  11  \n",
      "Marca do celular: ['iPhone']\n",
      "Cor: ['Branco']\n",
      "Memória ram: ['']\n",
      "Espaço em hd: ['64 GB']\n",
      "1 ou 2 ship(s): ['2']\n",
      "Preço: 4.799\n",
      "=======================================\n",
      "Nome do Celular:  Redmi Note 8   space \n",
      "Marca do celular: ['Xiaomi']\n",
      "Cor: ['black ']\n",
      "Memória ram: ['4 GB RAM']\n",
      "Espaço em hd: ['128 GB']\n",
      "1 ou 2 ship(s): ['1']\n",
      "Preço: 1.500\n",
      "=======================================\n",
      "Nome do Celular:  Redmi Note 9S   \n",
      "Marca do celular: ['Xiaomi']\n",
      "Cor: ['cinza ']\n",
      "Memória ram: ['4 GB RAM']\n",
      "Espaço em hd: ['64 GB']\n",
      "1 ou 2 ship(s): ['2']\n",
      "Preço: 1.420\n",
      "=======================================\n",
      "Nome do Celular:  Redmi Note 8 Pro   \n",
      "Marca do celular: ['Xiaomi']\n",
      "Cor: ['cinza-mineral ']\n",
      "Memória ram: ['6 GB RAM']\n",
      "Espaço em hd: ['128 GB']\n",
      "1 ou 2 ship(s): ['2']\n",
      "Preço: 1.649\n",
      "=======================================\n",
      "Nome do Celular:  Redmi 9C   twilight \n",
      "Marca do celular: ['Xiaomi']\n",
      "Cor: ['blue ']\n",
      "Memória ram: ['3 GB RAM']\n",
      "Espaço em hd: ['64 GB']\n",
      "1 ou 2 ship(s): ['2']\n",
      "Preço: 1.050\n",
      "=======================================\n",
      "Nome do Celular:  Galaxy A71   \n",
      "Marca do celular: ['Samsung']\n",
      "Cor: ['preto ']\n",
      "Memória ram: ['6 GB RAM']\n",
      "Espaço em hd: ['128 GB']\n",
      "1 ou 2 ship(s): ['2']\n",
      "Preço: 2.968\n",
      "=======================================\n",
      "Nome do Celular:  One Fusion   emerald \n",
      "Marca do celular: ['Motorola']\n",
      "Cor: ['green ']\n",
      "Memória ram: ['4 GB RAM']\n",
      "Espaço em hd: ['128 GB']\n",
      "1 ou 2 ship(s): ['2']\n",
      "Preço: 1.399\n",
      "=======================================\n",
      "Nome do Celular:  Vita  32 MB \n",
      "Marca do celular: ['Multilaser']\n",
      "Cor: ['preto ']\n",
      "Memória ram: ['24 MB RAM']\n",
      "Espaço em hd: ['32 MB']\n",
      "1 ou 2 ship(s): ['2']\n",
      "Preço: 124\n",
      "=======================================\n",
      "Nome do Celular:  11  \n",
      "Marca do celular: ['iPhone']\n",
      "Cor: ['Branco']\n",
      "Memória ram: ['']\n",
      "Espaço em hd: ['128 GB']\n",
      "1 ou 2 ship(s): ['2']\n",
      "Preço: 5.339\n",
      "=======================================\n",
      "Nome do Celular:  Poco M3   power \n",
      "Marca do celular: ['Xiaomi']\n",
      "Cor: ['black ']\n",
      "Memória ram: ['4 GB RAM']\n",
      "Espaço em hd: ['128 GB']\n",
      "1 ou 2 ship(s): ['1']\n",
      "Preço: 1.388\n",
      "=======================================\n",
      "Nome do Celular:  P25  32 MB \n",
      "Marca do celular: ['Positivo']\n",
      "Cor: ['preto ']\n",
      "Memória ram: ['32 MB RAM']\n",
      "Espaço em hd: ['32 MB']\n",
      "1 ou 2 ship(s): ['2']\n",
      "Preço: 110\n",
      "=======================================\n",
      "Nome do Celular:  W201  32 MB preto/\n",
      "Marca do celular: ['Infinity']\n",
      "Cor: ['vermelho ']\n",
      "Memória ram: ['32 MB RAM']\n",
      "Espaço em hd: ['32 MB']\n",
      "1 ou 2 ship(s): ['2']\n",
      "Preço: 99\n",
      "=======================================\n",
      "Nome do Celular:  Hit Max PCS02   \n",
      "Marca do celular: ['Philco']\n",
      "Cor: ['cinza-espacial ']\n",
      "Memória ram: ['4 GB RAM']\n",
      "Espaço em hd: ['128 GB']\n",
      "1 ou 2 ship(s): ['2']\n",
      "Preço: 1.299\n",
      "=======================================\n",
      "Nome do Celular:  XR  \n",
      "Marca do celular: ['iPhone']\n",
      "Cor: ['preto']\n",
      "Memória ram: ['']\n",
      "Espaço em hd: ['64 GB']\n",
      "1 ou 2 ship(s): ['2']\n",
      "Preço: 3.920\n",
      "=======================================\n",
      "Nome do Celular:  7  \n",
      "Marca do celular: ['iPhone']\n",
      "Cor: ['preto-fosco']\n",
      "Memória ram: ['']\n",
      "Espaço em hd: ['32 GB']\n",
      "1 ou 2 ship(s): ['1']\n",
      "Preço: 1.750\n",
      "=======================================\n",
      "[[' Galaxy M31   ', 'Samsung', 'azul ', '6 GB RAM', '128 GB', '1', '1.999'],\n",
      " [' E6s (2020)   ', 'Moto', 'azul-navy ', '4 GB RAM', '64 GB', '2', '1.393'],\n",
      " [' Galaxy A51  prism crush ',\n",
      "  'Samsung',\n",
      "  'black ',\n",
      "  '4 GB RAM',\n",
      "  '128 GB',\n",
      "  '2',\n",
      "  '2.698'],\n",
      " [' ZenFone Max Shot ZB634KL   ',\n",
      "  'Asus',\n",
      "  'preto ',\n",
      "  '4 GB RAM',\n",
      "  '64 GB',\n",
      "  '1',\n",
      "  '1.318'],\n",
      " [' Galaxy M21s   ', 'Samsung', 'preto ', '4 GB RAM', '64 GB', '2', '1.699'],\n",
      " [' Galaxy A01 Core   ',\n",
      "  'Samsung',\n",
      "  'vermelho ',\n",
      "  '2 GB RAM',\n",
      "  '32 GB',\n",
      "  '2',\n",
      "  '619'],\n",
      " [' K22   ', 'LG', 'red ', '2 GB RAM', '32 GB', '2', '1.048'],\n",
      " [' 3 Obabox O Novo Smartphone Para A 3º Idade ',\n",
      "  'Obasmart',\n",
      "  'Original',\n",
      "  '',\n",
      "  '2',\n",
      "  '997'],\n",
      " [' Celular Para Idoso Teclas Grandes Fala Ao ',\n",
      "  'Telefone',\n",
      "  'Digitar',\n",
      "  '',\n",
      "  '1',\n",
      "  '123'],\n",
      " [' Redmi Note 8   space ',\n",
      "  'Xiaomi',\n",
      "  'black ',\n",
      "  '4 GB RAM',\n",
      "  '64 GB',\n",
      "  '1',\n",
      "  '1.270'],\n",
      " [' K41S   ', 'LG', 'preto ', '3 GB RAM', '32 GB', '2', '1.099'],\n",
      " [' K52 (13 Mpx)   ', 'LG', 'red ', '3 GB RAM', '64 GB', '2', '1.399'],\n",
      " [' K22+   ', 'LG', 'titan ', '3 GB RAM', '64 GB', '2', '1.153'],\n",
      " [' Galaxy A01   ', 'Samsung', 'azul ', '2 GB RAM', '32 GB', '2', '849'],\n",
      " [' Redmi 9 (Global)   carbon ',\n",
      "  'Xiaomi',\n",
      "  'grey ',\n",
      "  '4 GB RAM',\n",
      "  '64 GB',\n",
      "  '2',\n",
      "  '1.138'],\n",
      " [' Galaxy A10s   ', 'Samsung', 'preto ', '2 GB RAM', '32 GB', '2', '864'],\n",
      " [' Galaxy A21s   ', 'Samsung', 'preto ', '4 GB RAM', '64 GB', '2', '1.358'],\n",
      " [' Redmi Note 9S   ', 'Xiaomi', 'cinza ', '6 GB RAM', '128 GB', '2', '1.747'],\n",
      " [' Para Idosos Com Botão Sos Teclas ', 'Celular', 'Grandes', '', '2', '127'],\n",
      " [' Para Idosos Com Botão Sos Teclas ', 'Celular', 'Grandes', '', '1', '179'],\n",
      " [' K51S   ', 'LG', 'titan ', '3 GB RAM', '64 GB', '1', '1.299'],\n",
      " [' Galaxy A31   prism crush ',\n",
      "  'Samsung',\n",
      "  'black ',\n",
      "  '4 GB RAM',\n",
      "  '128 GB',\n",
      "  '2',\n",
      "  '1.999'],\n",
      " [' ZenFone Max Shot ZB634KL   ',\n",
      "  'Asus',\n",
      "  'vermelho ',\n",
      "  '3 GB RAM',\n",
      "  '32 GB',\n",
      "  '2',\n",
      "  '1.099'],\n",
      " [' Flip Vita  32 MB ',\n",
      "  'Multilaser',\n",
      "  'vermelho ',\n",
      "  '32 MB RAM',\n",
      "  '32 MB',\n",
      "  '2',\n",
      "  '170'],\n",
      " [' Up Play  32 MB ', 'Multilaser', 'branco ', '32 MB RAM', '32 MB', '2', '97'],\n",
      " [' Redmi 9A   ', 'Xiaomi', 'cinza ', '2 GB RAM', '32 GB', '2', '788'],\n",
      " [' Redmi Note 9 Pro (64 Mpx)   ',\n",
      "  'Xiaomi',\n",
      "  'cinza-interestelar ',\n",
      "  '6 GB RAM',\n",
      "  '128 GB',\n",
      "  '2',\n",
      "  '1.923'],\n",
      " [' G9 Play   ', 'Moto', 'azul-safira ', '4 GB RAM', '64 GB', '2', '1.300'],\n",
      " [' Zapp  512 MB ', 'Multilaser', 'preto ', '256 MB RAM', '512 MB', '2', '189'],\n",
      " [' B220  32 MB ', 'LG', 'preto ', '32 MB RAM', '32 MB', '2', '110'],\n",
      " [' Redmi Note 9   cinza-',\n",
      "  'Xiaomi',\n",
      "  'meia-noite ',\n",
      "  '4 GB RAM',\n",
      "  '128 GB',\n",
      "  '2',\n",
      "  '1.418'],\n",
      " [' Galaxy A51   prism crush ',\n",
      "  'Samsung',\n",
      "  'white ',\n",
      "  '4 GB RAM',\n",
      "  '128 GB',\n",
      "  '2',\n",
      "  '2.499'],\n",
      " [' Galaxy A11   ', 'Samsung', 'vermelho ', '3 GB RAM', '64 GB', '2', '1.133'],\n",
      " [' Poco X3 NFC   cobalt ',\n",
      "  'Xiaomi',\n",
      "  'blue ',\n",
      "  '6 GB RAM',\n",
      "  '128 GB',\n",
      "  '2',\n",
      "  '1.899'],\n",
      " [' Poco X3 NFC   shadow ',\n",
      "  'Xiaomi',\n",
      "  'gray ',\n",
      "  '6 GB RAM',\n",
      "  '64 GB',\n",
      "  '2',\n",
      "  '1.638'],\n",
      " [' E Lite   ', 'Multilaser', 'preto ', '512 MB RAM', '32 GB', '2', '355'],\n",
      " [' F   ', 'Multilaser', 'café ', '1 GB RAM', '32 GB', '2', '465'],\n",
      " [' K61   ', 'LG', 'branco ', '4 GB RAM', '128 GB', '2', '1.699'],\n",
      " [' Poco M3   power ', 'Xiaomi', 'black ', '4 GB RAM', '64 GB', '2', '1.230'],\n",
      " [' 11  ', 'iPhone', 'Branco', '', '64 GB', '2', '4.799'],\n",
      " [' Redmi Note 8   space ',\n",
      "  'Xiaomi',\n",
      "  'black ',\n",
      "  '4 GB RAM',\n",
      "  '128 GB',\n",
      "  '1',\n",
      "  '1.500'],\n",
      " [' Redmi Note 9S   ', 'Xiaomi', 'cinza ', '4 GB RAM', '64 GB', '2', '1.420'],\n",
      " [' Redmi Note 8 Pro   ',\n",
      "  'Xiaomi',\n",
      "  'cinza-mineral ',\n",
      "  '6 GB RAM',\n",
      "  '128 GB',\n",
      "  '2',\n",
      "  '1.649'],\n",
      " [' Redmi 9C   twilight ',\n",
      "  'Xiaomi',\n",
      "  'blue ',\n",
      "  '3 GB RAM',\n",
      "  '64 GB',\n",
      "  '2',\n",
      "  '1.050'],\n",
      " [' Galaxy A71   ', 'Samsung', 'preto ', '6 GB RAM', '128 GB', '2', '2.968'],\n",
      " [' One Fusion   emerald ',\n",
      "  'Motorola',\n",
      "  'green ',\n",
      "  '4 GB RAM',\n",
      "  '128 GB',\n",
      "  '2',\n",
      "  '1.399'],\n",
      " [' Vita  32 MB ', 'Multilaser', 'preto ', '24 MB RAM', '32 MB', '2', '124'],\n",
      " [' 11  ', 'iPhone', 'Branco', '', '128 GB', '2', '5.339'],\n",
      " [' Poco M3   power ', 'Xiaomi', 'black ', '4 GB RAM', '128 GB', '1', '1.388'],\n",
      " [' P25  32 MB ', 'Positivo', 'preto ', '32 MB RAM', '32 MB', '2', '110'],\n",
      " [' W201  32 MB preto/',\n",
      "  'Infinity',\n",
      "  'vermelho ',\n",
      "  '32 MB RAM',\n",
      "  '32 MB',\n",
      "  '2',\n",
      "  '99'],\n",
      " [' Hit Max PCS02   ',\n",
      "  'Philco',\n",
      "  'cinza-espacial ',\n",
      "  '4 GB RAM',\n",
      "  '128 GB',\n",
      "  '2',\n",
      "  '1.299'],\n",
      " [' XR  ', 'iPhone', 'preto', '', '64 GB', '2', '3.920'],\n",
      " [' 7  ', 'iPhone', 'preto-fosco', '', '32 GB', '1', '1.750']]\n"
     ]
    }
   ],
   "source": [
    "#   str(lista_2).join(lista_1)+str(lista_1).join(lista_2)\n",
    "\n",
    "bloco_mercado_livre = []\n",
    "for info in soup.findAll('div', {'class':'ui-search-result__content-wrapper'}):\n",
    "    bloco = []\n",
    "    \n",
    "    # find\n",
    "        # Nome e específicações\n",
    "    info_nome = info.find('a').attrs['title']\n",
    "        # Preço\n",
    "    info_cent = info.find('span', {'class':'price-tag-fraction'})\n",
    "    \n",
    "    info_dual_sim = re.findall(r'Dual\\sSIM',info_sem_marca, re.M|re.I)\n",
    "    if info_dual_sim:\n",
    "        info_dual_sim = ['2']\n",
    "    else:\n",
    "        info_dual_sim = ['1']\n",
    "\n",
    "    \n",
    "    \n",
    "    # findall\n",
    "    info_nome_marca = re.findall(r'^\\w+', info_nome, re.M|re.I)\n",
    "    info_ram = re.findall(r'\\d+?[\\s+\\d+][gGmM][bB][\\s+\\w][rR][aA][mM]', info_nome, re.M|re.I)\n",
    "    if info_ram:\n",
    "        info_ram = info_ram\n",
    "    if not info_ram:\n",
    "        info_ram = ['']    \n",
    "    \n",
    "    info_sem_ram = re.sub(r'\\d+?[\\s+\\d+][gGmM][bB][\\s+\\w][rR][aA][mM]', \"\", info_nome, re.M|re.I)\n",
    "    \n",
    "    info_sem_marca = re.sub(r'^\\w+', \"\" ,info_sem_ram, re.M|re.I)\n",
    "    info_sem_dual = re.sub(r'Dual\\sSIM', \"\" ,info_sem_marca, re.M|re.I)\n",
    "    info_hd = re.findall(r'\\d+[\\w\\s][gGmM][bB]',info_sem_dual, re.M|re.I )\n",
    "    info_sem_hd = re.sub(r'\\d+[\\w\\s][gGmB][bB]', \"\", info_sem_dual, re.M|re.I )\n",
    "    info_cor = re.findall(r'\\w+[-]?\\w+[\\s]?$',info_sem_hd, re.M|re.I )\n",
    "    info_sem_cor = re.sub(r'\\w+[-]?\\w+[\\s]?$', \"\",info_sem_hd, re.M|re.I )\n",
    "    \n",
    "    \n",
    "    \n",
    "    # re.SUB\n",
    "    \n",
    "    \n",
    "    \n",
    "    \n",
    "    \n",
    "\n",
    "    \n",
    "    # Nome e específicações\n",
    "#     bloco.append(str(info_nome))\n",
    "#     print('Nome e específicações:', info_nome)\n",
    "    \n",
    "    # Informações sem ram, marca, dual e hd\n",
    "    bloco.append(info_sem_cor)\n",
    "    print('Nome do Celular:', info_sem_cor)\n",
    "    \n",
    "    \n",
    "    # Marca do celular\n",
    "    bloco.extend(info_nome_marca)\n",
    "    print('Marca do celular:', info_nome_marca)\n",
    "    \n",
    "    \n",
    "    # Cor do Celular\n",
    "    bloco.extend(info_cor)\n",
    "    print('Cor:', info_cor)\n",
    "    \n",
    "    \n",
    "    # Memória ram\n",
    "    bloco.extend(info_ram)\n",
    "    print('Memória ram:', info_ram)\n",
    "    \n",
    "    # Espaço de hd\n",
    "    bloco.extend(info_hd)\n",
    "    print('Espaço em hd:', info_hd)\n",
    "    \n",
    "    \n",
    "    # 1/2 ship(s)\n",
    "    bloco.extend(info_dual_sim)\n",
    "    print('1 ou 2 ship(s):', info_dual_sim)\n",
    "    \n",
    "    \n",
    "    # Preço do celualr\n",
    "    bloco.append(info_cent.text)\n",
    "    print('Preço:', info_cent.text)\n",
    "    print('=======================================')\n",
    "    \n",
    "    # lista mestre\n",
    "    bloco_mercado_livre.append(bloco)\n",
    "    \n",
    "#     bloco_mercado_livre.append([info_nome,info_nome_marca, info_dual_sim,\n",
    "#                                 str(info_cent).join(info_val)+str(info_val).join(info_cent)])\n",
    "#     pprint(bloco_mercado_livre)\n",
    "    \n",
    "    \n",
    "#     print(info_nome)\n",
    "#     print(info_nome_re.group(1))\n",
    "#     print(info_nome_re.group(2))\n",
    "#     print(info_dual_sim)\n",
    "#     print( '===========')\n",
    "    \n",
    "    \n",
    "# print(len(bloco_mercado_livre))        \n",
    "pprint(bloco_mercado_livre)        \n"
   ]
  },
  {
   "cell_type": "code",
   "execution_count": 18,
   "metadata": {},
   "outputs": [],
   "source": [
    "df_cel_mercado = pd.DataFrame(bloco_mercado_livre, columns=['Nome', 'Marca','Cor','Memória_ram', 'Espaço_em_HD' ,'1_ou_2_ships', 'Valor(R$)'])"
   ]
  },
  {
   "cell_type": "code",
   "execution_count": 19,
   "metadata": {},
   "outputs": [
    {
     "data": {
      "text/html": [
       "<div>\n",
       "<style scoped>\n",
       "    .dataframe tbody tr th:only-of-type {\n",
       "        vertical-align: middle;\n",
       "    }\n",
       "\n",
       "    .dataframe tbody tr th {\n",
       "        vertical-align: top;\n",
       "    }\n",
       "\n",
       "    .dataframe thead th {\n",
       "        text-align: right;\n",
       "    }\n",
       "</style>\n",
       "<table border=\"1\" class=\"dataframe\">\n",
       "  <thead>\n",
       "    <tr style=\"text-align: right;\">\n",
       "      <th></th>\n",
       "      <th>Nome</th>\n",
       "      <th>Marca</th>\n",
       "      <th>Cor</th>\n",
       "      <th>Memória_ram</th>\n",
       "      <th>Espaço_em_HD</th>\n",
       "      <th>1_ou_2_ships</th>\n",
       "      <th>Valor(R$)</th>\n",
       "    </tr>\n",
       "  </thead>\n",
       "  <tbody>\n",
       "    <tr>\n",
       "      <th>0</th>\n",
       "      <td>Galaxy M31</td>\n",
       "      <td>Samsung</td>\n",
       "      <td>azul</td>\n",
       "      <td>6 GB RAM</td>\n",
       "      <td>128 GB</td>\n",
       "      <td>1</td>\n",
       "      <td>1.999</td>\n",
       "    </tr>\n",
       "    <tr>\n",
       "      <th>1</th>\n",
       "      <td>E6s (2020)</td>\n",
       "      <td>Moto</td>\n",
       "      <td>azul-navy</td>\n",
       "      <td>4 GB RAM</td>\n",
       "      <td>64 GB</td>\n",
       "      <td>2</td>\n",
       "      <td>1.393</td>\n",
       "    </tr>\n",
       "    <tr>\n",
       "      <th>2</th>\n",
       "      <td>Galaxy A51  prism crush</td>\n",
       "      <td>Samsung</td>\n",
       "      <td>black</td>\n",
       "      <td>4 GB RAM</td>\n",
       "      <td>128 GB</td>\n",
       "      <td>2</td>\n",
       "      <td>2.698</td>\n",
       "    </tr>\n",
       "    <tr>\n",
       "      <th>3</th>\n",
       "      <td>ZenFone Max Shot ZB634KL</td>\n",
       "      <td>Asus</td>\n",
       "      <td>preto</td>\n",
       "      <td>4 GB RAM</td>\n",
       "      <td>64 GB</td>\n",
       "      <td>1</td>\n",
       "      <td>1.318</td>\n",
       "    </tr>\n",
       "    <tr>\n",
       "      <th>4</th>\n",
       "      <td>Galaxy M21s</td>\n",
       "      <td>Samsung</td>\n",
       "      <td>preto</td>\n",
       "      <td>4 GB RAM</td>\n",
       "      <td>64 GB</td>\n",
       "      <td>2</td>\n",
       "      <td>1.699</td>\n",
       "    </tr>\n",
       "  </tbody>\n",
       "</table>\n",
       "</div>"
      ],
      "text/plain": [
       "                           Nome    Marca         Cor Memória_ram Espaço_em_HD  \\\n",
       "0                 Galaxy M31     Samsung       azul     6 GB RAM       128 GB   \n",
       "1                 E6s (2020)        Moto  azul-navy     4 GB RAM        64 GB   \n",
       "2      Galaxy A51  prism crush   Samsung      black     4 GB RAM       128 GB   \n",
       "3   ZenFone Max Shot ZB634KL        Asus      preto     4 GB RAM        64 GB   \n",
       "4                Galaxy M21s     Samsung      preto     4 GB RAM        64 GB   \n",
       "\n",
       "  1_ou_2_ships Valor(R$)  \n",
       "0            1     1.999  \n",
       "1            2     1.393  \n",
       "2            2     2.698  \n",
       "3            1     1.318  \n",
       "4            2     1.699  "
      ]
     },
     "execution_count": 19,
     "metadata": {},
     "output_type": "execute_result"
    }
   ],
   "source": [
    "df_cel_mercado.head()"
   ]
  },
  {
   "cell_type": "code",
   "execution_count": 20,
   "metadata": {},
   "outputs": [
    {
     "data": {
      "text/plain": [
       "(54, 7)"
      ]
     },
     "execution_count": 20,
     "metadata": {},
     "output_type": "execute_result"
    }
   ],
   "source": [
    "df_cel_mercado.shape"
   ]
  },
  {
   "cell_type": "code",
   "execution_count": null,
   "metadata": {},
   "outputs": [],
   "source": [
    "df_cel_mercado.Dual_SIM.value_counts()"
   ]
  },
  {
   "cell_type": "code",
   "execution_count": null,
   "metadata": {},
   "outputs": [],
   "source": [
    "Explicação da regex\n",
    "\n",
    "((.|\\n)*?) - Vai capturar qualquer caractere e quebra de linha do conteúdo até que chegue o primeiro delimitador.\n",
    "\n",
    "(a\\).*?)\\n*? - a\\) é igual a a) e ele será usado como um delimitador, para que o primeiro grupo de captura pare de\n",
    "capturar na primeira ocorrência da sequencia a), após isso a regex irá capturar todo o conteúdo até a primeira quebra \n",
    "de linha.\n",
    "\n",
    "(b\\).*?)\\n*? - O funcionamento desse grupo de captura é igual ao do grupo 3, só que captura a partir do b).\n",
    "\n",
    "(c\\).*?)\\n*? - O funcionamento desse grupo de captura é igual ao do grupo 3, só que captura a partir do c).\n",
    "\n",
    "(d\\).*?)\\n*? - O funcionamento desse grupo de captura é igual ao do grupo 3, só que captura a partir do d).\n",
    "\n",
    "(e\\).*?)\\$|\\n*? - O funcionamento desse grupo de captura é igual ao do grupo 3, só que captura a partir do e)e para no\n",
    "fim do texto ou em uma quebra de linha, pro caso de você usar essa regex em um arquivo que possua muitas questões e textos."
   ]
  },
  {
   "cell_type": "code",
   "execution_count": null,
   "metadata": {},
   "outputs": [],
   "source": [
    "iter(celular)"
   ]
  },
  {
   "cell_type": "code",
   "execution_count": null,
   "metadata": {},
   "outputs": [],
   "source": []
  },
  {
   "cell_type": "code",
   "execution_count": null,
   "metadata": {},
   "outputs": [],
   "source": [
    "lista_1 = ['R$ 9.900']\n",
    "lista_2 = [',99']\n",
    "str(lista_1).join(lista_2).replace(',','.')"
   ]
  },
  {
   "cell_type": "code",
   "execution_count": null,
   "metadata": {},
   "outputs": [],
   "source": [
    "str(lista_2).join(lista_1).replace('.',',')"
   ]
  },
  {
   "cell_type": "code",
   "execution_count": null,
   "metadata": {},
   "outputs": [],
   "source": [
    "print(str(lista_2).join(lista_1)+str(lista_1).join(lista_2))"
   ]
  },
  {
   "cell_type": "code",
   "execution_count": null,
   "metadata": {},
   "outputs": [],
   "source": [
    "bloco_zoom = []\n",
    "\n",
    "for info in soup.findAll('div', {'class':'cardBody'}):\n",
    "#     bloco = []\n",
    "    \n",
    "    info_nome = info.find('a').attrs['title']\n",
    "    \n",
    "    info_val = info.find('span', {'class':'mainValue'})\n",
    "    \n",
    "    info_cent = info.find('span', {'class':'centsValue'})\n",
    "    \n",
    "    info_nome_re = re.match(r'^\\w+\\s(\\w+.)(\\w+\\s+\\w+)', info_nome, re.M|re.I)\n",
    "\n",
    "    info_val = info.find('span', {'class':'mainValue'})\n",
    "  \n",
    "    info_val_re = re.findall('(R[$]\\s?[+-]?[0-9]{1,3}(?:(?:,?[0-9]{3}))*(?:\\.[0-9]{1,2}\\d+)?)', str(info_val))\n",
    "    \n",
    "    info_cent = info.find('span', {'class':'centsValue'})\n",
    "    \n",
    "    info_cent_re = re.findall('(.\\s?[+-]?[0-9]{1,3}(?:(?:,?[0-9]{3}))*(?:\\.[0-9]{1,2}\\d+)?)', str(info_cent))\n",
    "    bloco_zoom.append([info_nome,info_nome_re.group(1),info_nome_re.group(2),\n",
    "                  str(info_cent_re).join(info_val_re)+str(info_val_re).join(info_cent_re)])\n",
    "    \n",
    "#     print(bloco)\n",
    "    \n",
    "#     print(info)\n",
    "#     print(info_nome)\n",
    "#     print(info_nome_re.group(1))\n",
    "#     print(info_nome_re.group(2))\n",
    "#     print(str(info_cent_re).join(info_val_re)+str(info_val_re).join(info_cent_re))\n",
    "\n",
    "#     print('=============')\n",
    "# print(valor)\n",
    "# info_name = info.find('a').attrs['title']\n",
    "# pprint(info_name)\n",
    "print(len(bloco_zoom))\n",
    "pprint(bloco_zoom)\n"
   ]
  },
  {
   "cell_type": "code",
   "execution_count": null,
   "metadata": {},
   "outputs": [],
   "source": []
  },
  {
   "cell_type": "code",
   "execution_count": null,
   "metadata": {},
   "outputs": [],
   "source": []
  },
  {
   "cell_type": "code",
   "execution_count": null,
   "metadata": {},
   "outputs": [],
   "source": []
  },
  {
   "cell_type": "code",
   "execution_count": null,
   "metadata": {},
   "outputs": [],
   "source": []
  },
  {
   "cell_type": "code",
   "execution_count": null,
   "metadata": {},
   "outputs": [],
   "source": []
  },
  {
   "cell_type": "code",
   "execution_count": null,
   "metadata": {},
   "outputs": [],
   "source": [
    "# Example of w+ and ^ Expression\n",
    "import re\n",
    "xx = \"guru99,education is fun\"\n",
    "r1 = re.findall(r\"^\\w+\",xx)\n",
    "print (r1)"
   ]
  },
  {
   "cell_type": "code",
   "execution_count": null,
   "metadata": {},
   "outputs": [],
   "source": [
    "# Example of \\s expression in re.split function\n",
    "import re\n",
    "xx = \"guru99,education is fun\"\n",
    "r1 = re.findall(r\"^\\w+\", xx)\n",
    "print (re.split(r'\\s','we are splitting the words'))\n",
    "print (re.split(r's','split the words'))"
   ]
  },
  {
   "cell_type": "code",
   "execution_count": null,
   "metadata": {},
   "outputs": [],
   "source": [
    "# Example of re.M or Multiline Flags\n",
    "import re\n",
    "xx = \"\"\"Guru99 gagre; \n",
    "careerguru99\t\n",
    "selenium\"\"\"\n",
    "k1 = re.findall(r\"^\\w\", xx)\n",
    "k2 = re.findall(r\"^\\w\", xx, re.MULTILINE)\n",
    "k3 = re.findall(\"\\\\bg\\w+\\\\b\", xx)\n",
    "k4 = re.findall(\"g\\w+\", xx)\n",
    "k5 = re.findall(\"\\\\bg\\w+\\\\b\", xx, flags=re.I)\n",
    "\n",
    "print (k1)\n",
    "print (k2)\n",
    "print (k3)\n",
    "print (k4)\n",
    "print (k5)"
   ]
  },
  {
   "cell_type": "code",
   "execution_count": null,
   "metadata": {},
   "outputs": [],
   "source": [
    "date             = re.compile('(?:(?<!\\:)(?<!\\:\\d)[0-3]?\\d(?:st|nd|rd|th)?\\s+(?:of\\s+)?(?:jan\\.?|january|feb\\.?|february|mar\\.?|march|apr\\.?|april|may|jun\\.?|june|jul\\.?|july|aug\\.?|august|sep\\.?|september|oct\\.?|october|nov\\.?|november|dec\\.?|december)|(?:jan\\.?|january|feb\\.?|february|mar\\.?|march|apr\\.?|april|may|jun\\.?|june|jul\\.?|july|aug\\.?|august|sep\\.?|september|oct\\.?|october|nov\\.?|november|dec\\.?|december)\\s+(?<!\\:)(?<!\\:\\d)[0-3]?\\d(?:st|nd|rd|th)?)(?:\\,)?\\s*(?:\\d{4})?|[0-3]?\\d[-\\./][0-3]?\\d[-\\./]\\d{2,4}', re.IGNORECASE)\n",
    "time             = re.compile('\\d{1,2}:\\d{2} ?(?:[ap]\\.?m\\.?)?|\\d[ap]\\.?m\\.?', re.IGNORECASE)\n",
    "phone            = re.compile('''((?:(?<![\\d-])(?:\\+?\\d{1,3}[-.\\s*]?)?(?:\\(?\\d{3}\\)?[-.\\s*]?)?\\d{3}[-.\\s*]?\\d{4}(?![\\d-]))|(?:(?<![\\d-])(?:(?:\\(\\+?\\d{2}\\))|(?:\\+?\\d{2}))\\s*\\d{2}\\s*\\d{3}\\s*\\d{4}(?![\\d-])))''')\n",
    "phones_with_exts = re.compile('((?:(?:\\+?1\\s*(?:[.-]\\s*)?)?(?:\\(\\s*(?:[2-9]1[02-9]|[2-9][02-8]1|[2-9][02-8][02-9])\\s*\\)|(?:[2-9]1[02-9]|[2-9][02-8]1|[2-9][02-8][02-9]))\\s*(?:[.-]\\s*)?)?(?:[2-9]1[02-9]|[2-9][02-9]1|[2-9][02-9]{2})\\s*(?:[.-]\\s*)?(?:[0-9]{4})(?:\\s*(?:#|x\\.?|ext\\.?|extension)\\s*(?:\\d+)?))', re.IGNORECASE)\n",
    "link             = re.compile('(?i)((?:https?://|www\\d{0,3}[.])?[a-z0-9.\\-]+[.](?:(?:international)|(?:construction)|(?:contractors)|(?:enterprises)|(?:photography)|(?:immobilien)|(?:management)|(?:technology)|(?:directory)|(?:education)|(?:equipment)|(?:institute)|(?:marketing)|(?:solutions)|(?:builders)|(?:clothing)|(?:computer)|(?:democrat)|(?:diamonds)|(?:graphics)|(?:holdings)|(?:lighting)|(?:plumbing)|(?:training)|(?:ventures)|(?:academy)|(?:careers)|(?:company)|(?:domains)|(?:florist)|(?:gallery)|(?:guitars)|(?:holiday)|(?:kitchen)|(?:recipes)|(?:shiksha)|(?:singles)|(?:support)|(?:systems)|(?:agency)|(?:berlin)|(?:camera)|(?:center)|(?:coffee)|(?:estate)|(?:kaufen)|(?:luxury)|(?:monash)|(?:museum)|(?:photos)|(?:repair)|(?:social)|(?:tattoo)|(?:travel)|(?:viajes)|(?:voyage)|(?:build)|(?:cheap)|(?:codes)|(?:dance)|(?:email)|(?:glass)|(?:house)|(?:ninja)|(?:photo)|(?:shoes)|(?:solar)|(?:today)|(?:aero)|(?:arpa)|(?:asia)|(?:bike)|(?:buzz)|(?:camp)|(?:club)|(?:coop)|(?:farm)|(?:gift)|(?:guru)|(?:info)|(?:jobs)|(?:kiwi)|(?:land)|(?:limo)|(?:link)|(?:menu)|(?:mobi)|(?:moda)|(?:name)|(?:pics)|(?:pink)|(?:post)|(?:rich)|(?:ruhr)|(?:sexy)|(?:tips)|(?:wang)|(?:wien)|(?:zone)|(?:biz)|(?:cab)|(?:cat)|(?:ceo)|(?:com)|(?:edu)|(?:gov)|(?:int)|(?:mil)|(?:net)|(?:onl)|(?:org)|(?:pro)|(?:red)|(?:tel)|(?:uno)|(?:xxx)|(?:ac)|(?:ad)|(?:ae)|(?:af)|(?:ag)|(?:ai)|(?:al)|(?:am)|(?:an)|(?:ao)|(?:aq)|(?:ar)|(?:as)|(?:at)|(?:au)|(?:aw)|(?:ax)|(?:az)|(?:ba)|(?:bb)|(?:bd)|(?:be)|(?:bf)|(?:bg)|(?:bh)|(?:bi)|(?:bj)|(?:bm)|(?:bn)|(?:bo)|(?:br)|(?:bs)|(?:bt)|(?:bv)|(?:bw)|(?:by)|(?:bz)|(?:ca)|(?:cc)|(?:cd)|(?:cf)|(?:cg)|(?:ch)|(?:ci)|(?:ck)|(?:cl)|(?:cm)|(?:cn)|(?:co)|(?:cr)|(?:cu)|(?:cv)|(?:cw)|(?:cx)|(?:cy)|(?:cz)|(?:de)|(?:dj)|(?:dk)|(?:dm)|(?:do)|(?:dz)|(?:ec)|(?:ee)|(?:eg)|(?:er)|(?:es)|(?:et)|(?:eu)|(?:fi)|(?:fj)|(?:fk)|(?:fm)|(?:fo)|(?:fr)|(?:ga)|(?:gb)|(?:gd)|(?:ge)|(?:gf)|(?:gg)|(?:gh)|(?:gi)|(?:gl)|(?:gm)|(?:gn)|(?:gp)|(?:gq)|(?:gr)|(?:gs)|(?:gt)|(?:gu)|(?:gw)|(?:gy)|(?:hk)|(?:hm)|(?:hn)|(?:hr)|(?:ht)|(?:hu)|(?:id)|(?:ie)|(?:il)|(?:im)|(?:in)|(?:io)|(?:iq)|(?:ir)|(?:is)|(?:it)|(?:je)|(?:jm)|(?:jo)|(?:jp)|(?:ke)|(?:kg)|(?:kh)|(?:ki)|(?:km)|(?:kn)|(?:kp)|(?:kr)|(?:kw)|(?:ky)|(?:kz)|(?:la)|(?:lb)|(?:lc)|(?:li)|(?:lk)|(?:lr)|(?:ls)|(?:lt)|(?:lu)|(?:lv)|(?:ly)|(?:ma)|(?:mc)|(?:md)|(?:me)|(?:mg)|(?:mh)|(?:mk)|(?:ml)|(?:mm)|(?:mn)|(?:mo)|(?:mp)|(?:mq)|(?:mr)|(?:ms)|(?:mt)|(?:mu)|(?:mv)|(?:mw)|(?:mx)|(?:my)|(?:mz)|(?:na)|(?:nc)|(?:ne)|(?:nf)|(?:ng)|(?:ni)|(?:nl)|(?:no)|(?:np)|(?:nr)|(?:nu)|(?:nz)|(?:om)|(?:pa)|(?:pe)|(?:pf)|(?:pg)|(?:ph)|(?:pk)|(?:pl)|(?:pm)|(?:pn)|(?:pr)|(?:ps)|(?:pt)|(?:pw)|(?:py)|(?:qa)|(?:re)|(?:ro)|(?:rs)|(?:ru)|(?:rw)|(?:sa)|(?:sb)|(?:sc)|(?:sd)|(?:se)|(?:sg)|(?:sh)|(?:si)|(?:sj)|(?:sk)|(?:sl)|(?:sm)|(?:sn)|(?:so)|(?:sr)|(?:st)|(?:su)|(?:sv)|(?:sx)|(?:sy)|(?:sz)|(?:tc)|(?:td)|(?:tf)|(?:tg)|(?:th)|(?:tj)|(?:tk)|(?:tl)|(?:tm)|(?:tn)|(?:to)|(?:tp)|(?:tr)|(?:tt)|(?:tv)|(?:tw)|(?:tz)|(?:ua)|(?:ug)|(?:uk)|(?:us)|(?:uy)|(?:uz)|(?:va)|(?:vc)|(?:ve)|(?:vg)|(?:vi)|(?:vn)|(?:vu)|(?:wf)|(?:ws)|(?:ye)|(?:yt)|(?:za)|(?:zm)|(?:zw))(?:/[^\\s()<>]+[^\\s`!()\\[\\]{};:\\'\".,<>?\\xab\\xbb\\u201c\\u201d\\u2018\\u2019])?)', re.IGNORECASE)\n",
    "email            = re.compile(\"([a-z0-9!#$%&'*+\\/=?^_`{|.}~-]+@(?:[a-z0-9](?:[a-z0-9-]*[a-z0-9])?\\.)+[a-z0-9](?:[a-z0-9-]*[a-z0-9])?)\", re.IGNORECASE)\n",
    "ip               = re.compile('(?:25[0-5]|2[0-4][0-9]|[01]?[0-9][0-9]?)\\.(?:25[0-5]|2[0-4][0-9]|[01]?[0-9][0-9]?)\\.(?:25[0-5]|2[0-4][0-9]|[01]?[0-9][0-9]?)\\.(?:25[0-5]|2[0-4][0-9]|[01]?[0-9][0-9]?)', re.IGNORECASE)\n",
    "ipv6             = re.compile('\\s*(?!.*::.*::)(?:(?!:)|:(?=:))(?:[0-9a-f]{0,4}(?:(?<=::)|(?<!::):)){6}(?:[0-9a-f]{0,4}(?:(?<=::)|(?<!::):)[0-9a-f]{0,4}(?:(?<=::)|(?<!:)|(?<=:)(?<!::):)|(?:25[0-4]|2[0-4]\\d|1\\d\\d|[1-9]?\\d)(?:\\.(?:25[0-4]|2[0-4]\\d|1\\d\\d|[1-9]?\\d)){3})\\s*', re.VERBOSE|re.IGNORECASE|re.DOTALL)\n",
    "price            = re.compile('[$]\\s?[+-]?[0-9]{1,3}(?:(?:,?[0-9]{3}))*(?:\\.[0-9]{1,2})?')\n",
    "hex_color        = re.compile('(#(?:[0-9a-fA-F]{8})|#(?:[0-9a-fA-F]{3}){1,2})\\\\b')\n",
    "credit_card      = re.compile('((?:(?:\\\\d{4}[- ]?){3}\\\\d{4}|\\\\d{15,16}))(?![\\\\d])')\n",
    "btc_address      = re.compile('(?<![a-km-zA-HJ-NP-Z0-9])[13][a-km-zA-HJ-NP-Z0-9]{26,33}(?![a-km-zA-HJ-NP-Z0-9])')\n",
    "street_address   = re.compile('\\d{1,4} [\\w\\s]{1,20}(?:street|st|avenue|ave|road|rd|highway|hwy|square|sq|trail|trl|drive|dr|court|ct|park|parkway|pkwy|circle|cir|boulevard|blvd)\\W?(?=\\s|$)', re.IGNORECASE)\n",
    "zip_code         = re.compile(r'\\b\\d{5}(?:[-\\s]\\d{4})?\\b')\n",
    "po_box           = re.compile(r'P\\.? ?O\\.? Box \\d+', re.IGNORECASE)\n",
    "ssn              = re.compile('(?!000|666|333)0*(?:[0-6][0-9][0-9]|[0-7][0-6][0-9]|[0-7][0-7][0-2])[- ](?!00)[0-9]{2}[- ](?!0000)[0-9]{4}')"
   ]
  },
  {
   "cell_type": "code",
   "execution_count": null,
   "metadata": {},
   "outputs": [],
   "source": [
    "import regex"
   ]
  },
  {
   "cell_type": "code",
   "execution_count": null,
   "metadata": {},
   "outputs": [],
   "source": [
    "regex.match(r'(?(?=\\d)\\d+|\\w+)', '123abc')"
   ]
  },
  {
   "cell_type": "code",
   "execution_count": null,
   "metadata": {},
   "outputs": [],
   "source": [
    "regex.findall(r'(?(?=\\d)\\d+|\\w+)', '123abc36 7gdh127')"
   ]
  },
  {
   "cell_type": "code",
   "execution_count": null,
   "metadata": {},
   "outputs": [],
   "source": [
    "regex.match(r'(?(?=\\d)\\d+|\\w+)', 'abc123')"
   ]
  },
  {
   "cell_type": "code",
   "execution_count": null,
   "metadata": {},
   "outputs": [],
   "source": [
    "regex.findall(r'(?(?=\\d)\\d+|\\w+)', '123abc')"
   ]
  },
  {
   "cell_type": "code",
   "execution_count": null,
   "metadata": {},
   "outputs": [],
   "source": [
    "# Using re.findall for text\n",
    "import re\n",
    "\n",
    "list = [\"guru99 get\", \"guru99 give\", \"guru Selenium\"]\n",
    "for element in list:\n",
    "    z = re.match(\"(g\\w+)\\W(g\\w+)\", element)\n",
    "if z:\n",
    "    print(z.groups())\n",
    "    \n",
    "patterns = ['software testing', 'guru99']\n",
    "text = 'software testing is fun?'\n",
    "for pattern in patterns:\n",
    "    print 'Looking for \"%s\" in \"%s\" ->' % (pattern, text),\n",
    "    if re.search(pattern, text):\n",
    "        print ('found a match!')\n",
    "else:\n",
    "    print ('no match')\n",
    "abc = 'guru99@google.com, careerguru99@hotmail.com, users@yahoomail.com'\n",
    "emails = re.findall(r'[\\w\\.-]+@[\\w\\.-]+', abc)\n",
    "for email in emails:\n",
    "    print (email)\n"
   ]
  },
  {
   "cell_type": "code",
   "execution_count": null,
   "metadata": {},
   "outputs": [],
   "source": []
  },
  {
   "cell_type": "code",
   "execution_count": null,
   "metadata": {},
   "outputs": [],
   "source": []
  },
  {
   "cell_type": "markdown",
   "metadata": {},
   "source": [
    "<strong><b><font size=\"5\">Data Science Academy</font></b></strong>"
   ]
  },
  {
   "cell_type": "markdown",
   "metadata": {},
   "source": [
    "<strong><b><font size=\"5\">Web Scraping e Análise de Dados</font></b></strong>"
   ]
  },
  {
   "cell_type": "markdown",
   "metadata": {},
   "source": [
    "<strong><b><font size=\"5\">Lab 2</font></b></strong>\n",
    "\n",
    "<strong><b><font size=\"4\">Web Scraping e Análise Estatística - Avaliando o Desempenho dos Participantes em Corridas de 10 KM com Dados de Sensores RFID</font></b></strong>"
   ]
  },
  {
   "cell_type": "markdown",
   "metadata": {},
   "source": [
    "![title](imagens/lab2.png)"
   ]
  },
  {
   "cell_type": "markdown",
   "metadata": {},
   "source": [
    "## Definição do Problema\n",
    "\n",
    "Você gosta de correr? Corrida é um dos esportes mais praticados em todo mundo, além de uma atividade saudável e prazerosa.\n",
    "\n",
    "Neste Lab vamos coletar dados reais de participantes de uma corrida de 10 KM realizada em Hillsboro no Oregon, EUA, em junho de 2017. \n",
    "\n",
    "Resumo da corrida:\n",
    "\n",
    "- Pessoas que completaram a corrida: 577\n",
    "- Homens: 414\n",
    "- Mulheres: 163\n",
    "\n",
    "O objetivo desta análise é encontrar:\n",
    "    \n",
    "- O tempo médio de conclusão da corrida.\n",
    "- Se os tempos de chegada dos corredores seguem uma distribuição normal.\n",
    "- Analisar se há diferença de desempenho entre homens e mulheres de várias faixas etárias.\n",
    "\n",
    "Os tempos registrados na corrida (bem como outros dados) são bem precisos pois os participantes usaram sensores RFID de onde os dados foram extraídos e disponibilizados na web. Mais detalhes sobre o uso dos sensores RFID aqui:\n",
    "\n",
    "https://www.hubertiming.com/runners/faq"
   ]
  },
  {
   "cell_type": "markdown",
   "metadata": {},
   "source": [
    "## Fonte de Dados\n",
    "\n",
    "Como fonte de dados usaremos o web site <a href=\"https://www.hubertiming.com/\">Huber Timing</a> que contém o resultado das corridas que acontecem nos EUA, bem como a agenda de novos eventos.\n",
    "\n",
    "Aqui a página com o resultado da corrida que faremos a análise:\n",
    "\n",
    "https://www.hubertiming.com/results/2017GPTR10K"
   ]
  },
  {
   "cell_type": "markdown",
   "metadata": {},
   "source": [
    "## Carregando os Pacotes Usados Neste Jupyter Notebook"
   ]
  },
  {
   "cell_type": "code",
   "execution_count": null,
   "metadata": {},
   "outputs": [],
   "source": [
    "# Versão da Linguagem Python\n",
    "from platform import python_version\n",
    "print('Versão da Linguagem Python Usada Neste Jupyter Notebook:', python_version())"
   ]
  },
  {
   "cell_type": "code",
   "execution_count": null,
   "metadata": {},
   "outputs": [],
   "source": [
    "# Para atualizar um pacote, execute o comando abaixo no terminal ou prompt de comando:\n",
    "# pip install -U nome_pacote\n",
    "\n",
    "# Para instalar a versão exata de um pacote, execute o comando abaixo no terminal ou prompt de comando:\n",
    "# pip install nome_pacote==versão_desejada\n",
    "\n",
    "# Depois de instalar ou atualizar o pacote, reinicie o jupyter notebook, se necessário."
   ]
  },
  {
   "cell_type": "code",
   "execution_count": null,
   "metadata": {},
   "outputs": [],
   "source": [
    "# Instala o pacote watermark. \n",
    "# Esse pacote é usado para gravar as versões de outros pacotes usados neste jupyter notebook.\n",
    "!pip install -q -U watermark"
   ]
  },
  {
   "cell_type": "code",
   "execution_count": null,
   "metadata": {},
   "outputs": [],
   "source": [
    "# Usaremos o pacote Pingouin para algumas das análises estatísticas\n",
    "# https://pingouin-stats.org/index.html\n",
    "!pip install -q pingouin"
   ]
  },
  {
   "cell_type": "code",
   "execution_count": null,
   "metadata": {
    "scrolled": true
   },
   "outputs": [],
   "source": [
    "# Imports\n",
    "import re\n",
    "import requests\n",
    "import matplotlib as m\n",
    "import numpy as np\n",
    "import pandas as pd\n",
    "import pingouin as pg\n",
    "import matplotlib.pyplot as plt\n",
    "import seaborn as sns\n",
    "from bs4 import BeautifulSoup as bs\n",
    "from urllib.request import urlopen\n",
    "from scipy import stats\n",
    "\n",
    "# Imports para formatação dos gráficos\n",
    "sns.set_style('whitegrid')\n",
    "%matplotlib inline"
   ]
  },
  {
   "cell_type": "code",
   "execution_count": null,
   "metadata": {},
   "outputs": [],
   "source": [
    "# Versões dos pacotes usados neste jupyter notebook\n",
    "%reload_ext watermark\n",
    "%watermark -a \"Data Science Academy\" --iversions"
   ]
  },
  {
   "cell_type": "markdown",
   "metadata": {},
   "source": [
    "## Web Scraping"
   ]
  },
  {
   "cell_type": "code",
   "execution_count": null,
   "metadata": {},
   "outputs": [],
   "source": [
    "# Definindo a URL com o resultado da corrida\n",
    "url = 'https://www.hubertiming.com/results/2017GPTR10K'"
   ]
  },
  {
   "cell_type": "code",
   "execution_count": null,
   "metadata": {},
   "outputs": [],
   "source": [
    "# Abre a conexão com a url\n",
    "html = urlopen(url)"
   ]
  },
  {
   "cell_type": "code",
   "execution_count": null,
   "metadata": {},
   "outputs": [],
   "source": [
    "# Extrai o código HTML\n",
    "soup = bs(html,'lxml')"
   ]
  },
  {
   "cell_type": "code",
   "execution_count": null,
   "metadata": {},
   "outputs": [],
   "source": [
    "# Extrai o texto do código html\n",
    "texto = soup.get_text()"
   ]
  },
  {
   "cell_type": "code",
   "execution_count": null,
   "metadata": {},
   "outputs": [],
   "source": [
    "# Vamos visualizar as 10 primeiras linhas\n",
    "linhas = soup.find_all('tr')\n",
    "print(linhas[:10])"
   ]
  },
  {
   "cell_type": "markdown",
   "metadata": {},
   "source": [
    "## Limpeza e Transformação\n",
    "\n",
    "Agora começa o trabalho pesado. Não fique apenas executando código e compreenda o que está sendo feito. Se tiver dificuldades, pergunte! Temos vários canais de suporte a sua disposição."
   ]
  },
  {
   "cell_type": "markdown",
   "metadata": {},
   "source": [
    "Começaremos obtendo todas as linhas da tabela em forma de lista e depois converteremos essa lista em um dataframe para facilitar a manipulação."
   ]
  },
  {
   "cell_type": "code",
   "execution_count": null,
   "metadata": {},
   "outputs": [],
   "source": [
    "# Loop\n",
    "for linha in linhas:\n",
    "    linha_td = linha.find_all('td')"
   ]
  },
  {
   "cell_type": "code",
   "execution_count": null,
   "metadata": {},
   "outputs": [],
   "source": [
    "print(linha_td)"
   ]
  },
  {
   "cell_type": "markdown",
   "metadata": {},
   "source": [
    "Com expressões regulares em Python, vamos extrair os dados das tags HTML."
   ]
  },
  {
   "cell_type": "code",
   "execution_count": null,
   "metadata": {},
   "outputs": [],
   "source": [
    "# Lista vazia para receber as linhas\n",
    "lista_linhas = []"
   ]
  },
  {
   "cell_type": "code",
   "execution_count": null,
   "metadata": {},
   "outputs": [],
   "source": [
    "# Loop\n",
    "for linha in linhas:\n",
    "    cells = linha.find_all('td')\n",
    "    str_cells = str(cells)\n",
    "    clean = re.compile('<.*?>')\n",
    "    clean2 = (re.sub(clean, '', str_cells))\n",
    "    lista_linhas.append(clean2)"
   ]
  },
  {
   "cell_type": "code",
   "execution_count": null,
   "metadata": {},
   "outputs": [],
   "source": [
    "print(clean2)"
   ]
  },
  {
   "cell_type": "markdown",
   "metadata": {},
   "source": [
    "Convertemos a lista em um dataframe e obtemos uma visão rápida das 10 primeiras linhas usando o Pandas."
   ]
  },
  {
   "cell_type": "code",
   "execution_count": null,
   "metadata": {},
   "outputs": [],
   "source": [
    "# Convertemos a lista em dataframe\n",
    "df = pd.DataFrame(lista_linhas)"
   ]
  },
  {
   "cell_type": "code",
   "execution_count": null,
   "metadata": {},
   "outputs": [],
   "source": [
    "df.head(10)"
   ]
  },
  {
   "cell_type": "markdown",
   "metadata": {},
   "source": [
    "Claramente precisamos limpar os dados. Vamos ao trabalho."
   ]
  },
  {
   "cell_type": "code",
   "execution_count": null,
   "metadata": {},
   "outputs": [],
   "source": [
    "# Dividindo cada linha e separando os dados a cada vírgula\n",
    "df1 = df[0].str.split(',', expand = True)"
   ]
  },
  {
   "cell_type": "code",
   "execution_count": null,
   "metadata": {},
   "outputs": [],
   "source": [
    "df1.head(10)"
   ]
  },
  {
   "cell_type": "markdown",
   "metadata": {},
   "source": [
    "Está começando a ficar bonito. Vamos fazer mais algumas limpezas. Leia e compreenda o código. Se tiver dúvidas, pergunte (embora isso não deva ser novidade se você fez o curso gratuito de <a href=\"https://www.datascienceacademy.com.br/course?courseid=python-fundamentos\">Python Fundamentos</a> aqui na DSA)."
   ]
  },
  {
   "cell_type": "code",
   "execution_count": null,
   "metadata": {
    "scrolled": true
   },
   "outputs": [],
   "source": [
    "# Removemos colchetes de abertura (lado esquerdo) do texto\n",
    "df1[0] = df1[0].str.strip('[')"
   ]
  },
  {
   "cell_type": "code",
   "execution_count": null,
   "metadata": {},
   "outputs": [],
   "source": [
    "df1.head(10)"
   ]
  },
  {
   "cell_type": "code",
   "execution_count": null,
   "metadata": {},
   "outputs": [],
   "source": [
    "# Extraímos o cabeçalho de todas as tabelas no código HTML\n",
    "col_labels = soup.find_all('th')"
   ]
  },
  {
   "cell_type": "code",
   "execution_count": null,
   "metadata": {},
   "outputs": [],
   "source": [
    "col_labels"
   ]
  },
  {
   "cell_type": "code",
   "execution_count": null,
   "metadata": {},
   "outputs": [],
   "source": [
    "# Extraímos texto entre tags html dos cabeçalhos de tabela (extraímos o nome)\n",
    "all_header = []\n",
    "col_str = str(col_labels)\n",
    "cleantext2 = bs(col_str, \"lxml\").get_text()\n",
    "all_header.append(cleantext2)"
   ]
  },
  {
   "cell_type": "code",
   "execution_count": null,
   "metadata": {},
   "outputs": [],
   "source": [
    "print(all_header)"
   ]
  },
  {
   "cell_type": "code",
   "execution_count": null,
   "metadata": {},
   "outputs": [],
   "source": [
    "# Convertendo a lista de cabeçalhos em um dataframe do pandas\n",
    "df2 = pd.DataFrame(all_header)"
   ]
  },
  {
   "cell_type": "code",
   "execution_count": null,
   "metadata": {},
   "outputs": [],
   "source": [
    "df2.head()"
   ]
  },
  {
   "cell_type": "code",
   "execution_count": null,
   "metadata": {},
   "outputs": [],
   "source": [
    "# Dividindo a coluna \"0\" em várias colunas na posição de vírgula para todas as linhas\n",
    "df3 = df2[0].str.split(',', expand = True)"
   ]
  },
  {
   "cell_type": "code",
   "execution_count": null,
   "metadata": {},
   "outputs": [],
   "source": [
    "df3.head()"
   ]
  },
  {
   "cell_type": "code",
   "execution_count": null,
   "metadata": {},
   "outputs": [],
   "source": [
    "# Concatenando os 2 dataframes\n",
    "frames = [df3, df1]\n",
    "df4 = pd.concat(frames)"
   ]
  },
  {
   "cell_type": "code",
   "execution_count": null,
   "metadata": {},
   "outputs": [],
   "source": [
    "df4.head(10)"
   ]
  },
  {
   "cell_type": "code",
   "execution_count": null,
   "metadata": {},
   "outputs": [],
   "source": [
    "# Atribuindo a primeira coluna como cabeçalho\n",
    "df5 = df4.rename(columns = df4.iloc[0])"
   ]
  },
  {
   "cell_type": "code",
   "execution_count": null,
   "metadata": {},
   "outputs": [],
   "source": [
    "df5.head()"
   ]
  },
  {
   "cell_type": "code",
   "execution_count": null,
   "metadata": {},
   "outputs": [],
   "source": [
    "# Shape\n",
    "df5.shape"
   ]
  },
  {
   "cell_type": "code",
   "execution_count": null,
   "metadata": {},
   "outputs": [],
   "source": [
    "# Obtendo uma visão geral dos dados para análise\n",
    "df5.info()"
   ]
  },
  {
   "cell_type": "code",
   "execution_count": null,
   "metadata": {},
   "outputs": [],
   "source": [
    "# Verificando valores ausentes\n",
    "df5.isnull().sum()"
   ]
  },
  {
   "cell_type": "code",
   "execution_count": null,
   "metadata": {},
   "outputs": [],
   "source": [
    "# Removendo todas as linhas com valores ausentes\n",
    "df6 = df5.dropna(axis = 0, how = 'any')"
   ]
  },
  {
   "cell_type": "code",
   "execution_count": null,
   "metadata": {},
   "outputs": [],
   "source": [
    "# Descartando o cabeçalho da tabela replicada como a primeira linha no df5\n",
    "df7 = df6.drop(df6.index[0])"
   ]
  },
  {
   "cell_type": "code",
   "execution_count": null,
   "metadata": {},
   "outputs": [],
   "source": [
    "# Renomeando as colunas [Place e Team] \n",
    "df7.rename(columns = {'[Place': 'Place'}, inplace = True)\n",
    "df7.rename(columns = {' Team]': 'Team'}, inplace = True)"
   ]
  },
  {
   "cell_type": "code",
   "execution_count": null,
   "metadata": {},
   "outputs": [],
   "source": [
    "# Limpeza final dos dados - remoção do colchete de fechamento das células na coluna \"Team\".\n",
    "df7['Team'] = df7['Team'].str.strip(']')"
   ]
  },
  {
   "cell_type": "code",
   "execution_count": null,
   "metadata": {},
   "outputs": [],
   "source": [
    "df7.head()"
   ]
  },
  {
   "cell_type": "markdown",
   "metadata": {},
   "source": [
    "## Análise de Dados"
   ]
  },
  {
   "cell_type": "code",
   "execution_count": null,
   "metadata": {},
   "outputs": [],
   "source": [
    "# Convertendo a coluna \"Chip Time\" em apenas minutos\n",
    "# Chip time é o tempo total de corrida medido com a leitura do sensor RFID no selo da camisa do participante\n",
    "time_list = df7[' Chip Time'].tolist()"
   ]
  },
  {
   "cell_type": "code",
   "execution_count": null,
   "metadata": {},
   "outputs": [],
   "source": [
    "# Visualizando uma amostra de dados\n",
    "time_list[1:5]"
   ]
  },
  {
   "cell_type": "code",
   "execution_count": null,
   "metadata": {},
   "outputs": [],
   "source": [
    "# Lista para receber o resultado da conversão\n",
    "time_mins = []"
   ]
  },
  {
   "cell_type": "code",
   "execution_count": null,
   "metadata": {},
   "outputs": [],
   "source": [
    "# Loop para conversão\n",
    "for i in time_list:\n",
    "    i = i.strip(' ')\n",
    "    if len(i)!=7:\n",
    "        i = '0:' + i\n",
    "    h, m, s = i.split(':')\n",
    "    math = (int(h) * 3600 + int(m) * 60 + int(s))/60\n",
    "    time_mins.append(math)"
   ]
  },
  {
   "cell_type": "markdown",
   "metadata": {},
   "source": [
    "Convertendo a lista novamente em um dataframe e criamos uma nova coluna (\"Runner_mins\") como tempo total de corrida, mas agora em minutos."
   ]
  },
  {
   "cell_type": "code",
   "execution_count": null,
   "metadata": {},
   "outputs": [],
   "source": [
    "# Nova coluna\n",
    "df7['Runner_mins'] = time_mins"
   ]
  },
  {
   "cell_type": "code",
   "execution_count": null,
   "metadata": {},
   "outputs": [],
   "source": [
    "df7.head()"
   ]
  },
  {
   "cell_type": "code",
   "execution_count": null,
   "metadata": {},
   "outputs": [],
   "source": [
    "df7.dtypes"
   ]
  },
  {
   "cell_type": "code",
   "execution_count": null,
   "metadata": {},
   "outputs": [],
   "source": [
    "# Cálculo de estatísticas para colunas numéricas no dataframe\n",
    "df7.describe(include = [np.number])"
   ]
  },
  {
   "cell_type": "markdown",
   "metadata": {},
   "source": [
    "**Análise**:\n",
    "\n",
    "- O tempo médio de chip para todos os corredores foi de ~ 60 minutos (a média na tabela acima).\n",
    "- O corredor 10K mais rápido terminou em 36,35 minutos (valor mínimo na tabela acima).\n",
    "- O corredor mais lento terminou em 101,30 minutos (valor máximo na tabela acima)."
   ]
  },
  {
   "cell_type": "markdown",
   "metadata": {},
   "source": [
    "Vamos criar um boxplot para sumarizar nossa análise."
   ]
  },
  {
   "cell_type": "code",
   "execution_count": null,
   "metadata": {},
   "outputs": [],
   "source": [
    "# Plot\n",
    "ax = sns.boxplot(x = df7[\"Runner_mins\"], palette = \"Set3\", orient = \"v\")\n",
    "plt.ylabel('Chip Time')\n",
    "plt.xlabel('Runners')\n",
    "plt.show()"
   ]
  },
  {
   "cell_type": "markdown",
   "metadata": {},
   "source": [
    "Acima estão as estatísticas de resumo de dados para os corredores mostrados em um boxplot: Máximo, mínimo, médio, primeiro quartil, terceiro quartil, incluindo valores extremos."
   ]
  },
  {
   "cell_type": "markdown",
   "metadata": {},
   "source": [
    "Criaremos agora um gráfico de distribuição dos tempos dos chips dos corredores usando a biblioteca seaborn."
   ]
  },
  {
   "cell_type": "code",
   "execution_count": null,
   "metadata": {},
   "outputs": [],
   "source": [
    "# Plot\n",
    "x = df7['Runner_mins']\n",
    "ax = sns.distplot(x, hist = True, kde = True, rug = False, color = 'blue', bins = 25, hist_kws = {'edgecolor':'black'})\n",
    "plt.show()"
   ]
  },
  {
   "cell_type": "markdown",
   "metadata": {},
   "source": [
    "A distribuição da variável parece quase normal. Mas vamos realizar um teste estatístico para confirmar.\n",
    "\n",
    "Um ponto de decisão importante ao trabalhar com uma amostra de dados é usar métodos estatísticos paramétricos ou não paramétricos.\n",
    "\n",
    "Os métodos estatísticos paramétricos assumem que os dados têm uma distribuição conhecida e específica, geralmente uma distribuição gaussiana (normal). Se uma amostra de dados não é gaussiana, as suposições dos testes estatísticos paramétricos são violadas e métodos estatísticos não paramétricos devem ser utilizados.\n",
    "\n",
    "Há várias técnicas que você pode usar para verificar se sua amostra de dados se desvia de uma distribuição gaussiana, chamada testes de normalidade.\n",
    "\n",
    "O pacote stats do SciPy fornece uma função para um dos testes de normalidade mais comuns, o Shapiro-Wilk Test. Usaremos ainda a função normality do pacote Pengouin.\n",
    "\n",
    "O Shapiro-Wilk é um teste de hipóteses, que testa essas duas hipóteses:\n",
    "\n",
    "**A hipótese nula deste teste é que a população é normalmente distribuída. Assim, se o valor-p for menor que o nível alfa escolhido (normalmente definido em 0,05), a hipótese nula será rejeitada e há evidências de que os dados testados não são normalmente distribuídos.**\n",
    "\n",
    "O resultado do teste de Shapiro-Wilk deve ser interpretado com cautela no caso de amostras grandes. "
   ]
  },
  {
   "cell_type": "code",
   "execution_count": null,
   "metadata": {},
   "outputs": [],
   "source": [
    "# Valor de x\n",
    "x = df7['Runner_mins']"
   ]
  },
  {
   "cell_type": "code",
   "execution_count": null,
   "metadata": {},
   "outputs": [],
   "source": [
    "# Teste de normalidade com Scipy\n",
    "stats.shapiro(x)"
   ]
  },
  {
   "cell_type": "code",
   "execution_count": null,
   "metadata": {},
   "outputs": [],
   "source": [
    "# Teste de normalidade com Pingouin\n",
    "pg.normality(x)"
   ]
  },
  {
   "cell_type": "markdown",
   "metadata": {},
   "source": [
    "**Análise**:\n",
    "\n",
    "- A variável não segue uma distribuição normal, uma vez que o valor-p é menor que 0.05 e assim há evidências estatísticas para rejeitar a hipótese nula. A função normality() do pacote Pingouin coloca essa informação na última coluna."
   ]
  },
  {
   "cell_type": "markdown",
   "metadata": {},
   "source": [
    "Vamos agora descobrir se houve alguma diferença de desempenho entre homens e mulheres de várias faixas etárias."
   ]
  },
  {
   "cell_type": "code",
   "execution_count": null,
   "metadata": {},
   "outputs": [],
   "source": [
    "# Separando os dados\n",
    "f_runners = df7.loc[df7[' Gender'] == ' F']['Runner_mins']\n",
    "m_runners = df7.loc[df7[' Gender'] == ' M']['Runner_mins']"
   ]
  },
  {
   "cell_type": "code",
   "execution_count": null,
   "metadata": {},
   "outputs": [],
   "source": [
    "# Criaremos os 2 plots em uma só figura para facilitar a comparação\n",
    "sns.distplot(f_runners, hist = True, kde = True, rug = False, hist_kws = {'edgecolor':'black'}, label = 'Mulher')\n",
    "sns.distplot(m_runners, hist = False, kde = True, rug = False, hist_kws = {'edgecolor':'black'}, label = 'Homem')\n",
    "plt.legend()"
   ]
  },
  {
   "cell_type": "markdown",
   "metadata": {},
   "source": [
    "**Análise**:\n",
    "\n",
    "- A distribuição indica que as mulheres eram mais lentas que os homens, em média."
   ]
  },
  {
   "cell_type": "code",
   "execution_count": null,
   "metadata": {},
   "outputs": [],
   "source": [
    "# Computando estatísticas resumidas para homens e mulheres separadamente usando o método groupby ()\n",
    "g_stats = df7.groupby(\" Gender\", as_index = True).describe()\n",
    "g_stats"
   ]
  },
  {
   "cell_type": "markdown",
   "metadata": {},
   "source": [
    "**Análise**:\n",
    "    \n",
    "- O tempo médio de chip para todas as mulheres e homens foi de ~ 66 minutos e ~ 58 minutos, respectivamente, comprovando a análise do gráfico. "
   ]
  },
  {
   "cell_type": "markdown",
   "metadata": {},
   "source": [
    "Um boxplot ajuda a comparar as amostras de homens e mulheres."
   ]
  },
  {
   "cell_type": "code",
   "execution_count": null,
   "metadata": {},
   "outputs": [],
   "source": [
    "# Plot\n",
    "df7.boxplot(column = 'Runner_mins', by = ' Gender')\n",
    "plt.ylabel('Chip Time')\n",
    "plt.suptitle(\"\")"
   ]
  },
  {
   "cell_type": "markdown",
   "metadata": {},
   "source": [
    "Nossa fonte de dados possui resultados de diversas corridas. Material em abundância para você praticar seus conhecimentos em análise de dados."
   ]
  },
  {
   "cell_type": "markdown",
   "metadata": {},
   "source": [
    "# Fim"
   ]
  }
 ],
 "metadata": {
  "kernelspec": {
   "display_name": "Python 3",
   "language": "python",
   "name": "python3"
  },
  "language_info": {
   "codemirror_mode": {
    "name": "ipython",
    "version": 3
   },
   "file_extension": ".py",
   "mimetype": "text/x-python",
   "name": "python",
   "nbconvert_exporter": "python",
   "pygments_lexer": "ipython3",
   "version": "3.7.9"
  }
 },
 "nbformat": 4,
 "nbformat_minor": 4
}
