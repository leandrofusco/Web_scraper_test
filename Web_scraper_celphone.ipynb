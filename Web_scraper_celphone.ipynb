{
 "cells": [
  {
   "cell_type": "code",
   "execution_count": 1,
   "metadata": {},
   "outputs": [],
   "source": [
    "# Web Scraper\n",
    "\n",
    "# Imports\n",
    "import os  #manipular o sistema operacional\n",
    "import re  #expressão regular que usa-se pra buscar padrões nos dados\n",
    "import csv #pra gravar em csv o resultado\n",
    "import pickle #para criar um cache de acesso a pagina web\n",
    "import requests # para fazer requisição a pagina\n",
    "from bs4 import BeautifulSoup # pra fazer o parser do código html\n",
    "from urllib.request import urlopen\n",
    "from pprint import pprint\n",
    "import urllib3\n",
    "import pandas as pd\n"
   ]
  },
  {
   "cell_type": "code",
   "execution_count": 2,
   "metadata": {},
   "outputs": [],
   "source": [
    "url = 'https://lista.mercadolivre.com.br/celular#D[A:celular]'\n",
    "\n",
    "results = requests.get(url)\n",
    "\n",
    "texto_web = results.text"
   ]
  },
  {
   "cell_type": "code",
   "execution_count": 3,
   "metadata": {},
   "outputs": [],
   "source": [
    "soup = BeautifulSoup(texto_web,'html.parser')"
   ]
  },
  {
   "cell_type": "code",
   "execution_count": 15,
   "metadata": {},
   "outputs": [
    {
     "name": "stdout",
     "output_type": "stream",
     "text": [
      "Nome do Celular:  Galaxy M31   \n",
      "Marca do celular: ['Samsung']\n",
      "Cor: ['azul ']\n",
      "Memória ram: ['6 GB RAM']\n",
      "Espaço em hd: ['128 GB']\n",
      "1 ou 2 ship(s): ['1']\n",
      "Preço: 1.999\n",
      "=======================================\n",
      "Nome do Celular:  E6s (2020)   \n",
      "Marca do celular: ['Moto']\n",
      "Cor: ['azul-navy ']\n",
      "Memória ram: ['4 GB RAM']\n",
      "Espaço em hd: ['64 GB']\n",
      "1 ou 2 ship(s): ['2']\n",
      "Preço: 1.393\n",
      "=======================================\n",
      "Nome do Celular:  Galaxy A51  prism crush \n",
      "Marca do celular: ['Samsung']\n",
      "Cor: ['black ']\n",
      "Memória ram: ['4 GB RAM']\n",
      "Espaço em hd: ['128 GB']\n",
      "1 ou 2 ship(s): ['2']\n",
      "Preço: 2.698\n",
      "=======================================\n",
      "Nome do Celular:  ZenFone Max Shot ZB634KL   \n",
      "Marca do celular: ['Asus']\n",
      "Cor: ['preto ']\n",
      "Memória ram: ['4 GB RAM']\n",
      "Espaço em hd: ['64 GB']\n",
      "1 ou 2 ship(s): ['1']\n",
      "Preço: 1.318\n",
      "=======================================\n",
      "Nome do Celular:  Galaxy M21s   \n",
      "Marca do celular: ['Samsung']\n",
      "Cor: ['preto ']\n",
      "Memória ram: ['4 GB RAM']\n",
      "Espaço em hd: ['64 GB']\n",
      "1 ou 2 ship(s): ['2']\n",
      "Preço: 1.699\n",
      "=======================================\n",
      "Nome do Celular:  Galaxy A01 Core   \n",
      "Marca do celular: ['Samsung']\n",
      "Cor: ['vermelho ']\n",
      "Memória ram: ['2 GB RAM']\n",
      "Espaço em hd: ['32 GB']\n",
      "1 ou 2 ship(s): ['2']\n",
      "Preço: 619\n",
      "=======================================\n",
      "Nome do Celular:  K22   \n",
      "Marca do celular: ['LG']\n",
      "Cor: ['red ']\n",
      "Memória ram: ['2 GB RAM']\n",
      "Espaço em hd: ['32 GB']\n",
      "1 ou 2 ship(s): ['2']\n",
      "Preço: 1.048\n",
      "=======================================\n",
      "Nome do Celular:  3 Obabox O Novo Smartphone Para A 3º Idade \n",
      "Marca do celular: ['Obasmart']\n",
      "Cor: ['Original']\n",
      "Memória ram: ['']\n",
      "Espaço em hd: []\n",
      "1 ou 2 ship(s): ['2']\n",
      "Preço: 997\n",
      "=======================================\n",
      "Nome do Celular:  Celular Para Idoso Teclas Grandes Fala Ao \n",
      "Marca do celular: ['Telefone']\n",
      "Cor: ['Digitar']\n",
      "Memória ram: ['']\n",
      "Espaço em hd: []\n",
      "1 ou 2 ship(s): ['1']\n",
      "Preço: 123\n",
      "=======================================\n",
      "Nome do Celular:  Redmi Note 8   space \n",
      "Marca do celular: ['Xiaomi']\n",
      "Cor: ['black ']\n",
      "Memória ram: ['4 GB RAM']\n",
      "Espaço em hd: ['64 GB']\n",
      "1 ou 2 ship(s): ['1']\n",
      "Preço: 1.270\n",
      "=======================================\n",
      "Nome do Celular:  K41S   \n",
      "Marca do celular: ['LG']\n",
      "Cor: ['preto ']\n",
      "Memória ram: ['3 GB RAM']\n",
      "Espaço em hd: ['32 GB']\n",
      "1 ou 2 ship(s): ['2']\n",
      "Preço: 1.099\n",
      "=======================================\n",
      "Nome do Celular:  K52 (13 Mpx)   \n",
      "Marca do celular: ['LG']\n",
      "Cor: ['red ']\n",
      "Memória ram: ['3 GB RAM']\n",
      "Espaço em hd: ['64 GB']\n",
      "1 ou 2 ship(s): ['2']\n",
      "Preço: 1.399\n",
      "=======================================\n",
      "Nome do Celular:  K22+   \n",
      "Marca do celular: ['LG']\n",
      "Cor: ['titan ']\n",
      "Memória ram: ['3 GB RAM']\n",
      "Espaço em hd: ['64 GB']\n",
      "1 ou 2 ship(s): ['2']\n",
      "Preço: 1.153\n",
      "=======================================\n",
      "Nome do Celular:  Galaxy A01   \n",
      "Marca do celular: ['Samsung']\n",
      "Cor: ['azul ']\n",
      "Memória ram: ['2 GB RAM']\n",
      "Espaço em hd: ['32 GB']\n",
      "1 ou 2 ship(s): ['2']\n",
      "Preço: 849\n",
      "=======================================\n",
      "Nome do Celular:  Redmi 9 (Global)   carbon \n",
      "Marca do celular: ['Xiaomi']\n",
      "Cor: ['grey ']\n",
      "Memória ram: ['4 GB RAM']\n",
      "Espaço em hd: ['64 GB']\n",
      "1 ou 2 ship(s): ['2']\n",
      "Preço: 1.138\n",
      "=======================================\n",
      "Nome do Celular:  Galaxy A10s   \n",
      "Marca do celular: ['Samsung']\n",
      "Cor: ['preto ']\n",
      "Memória ram: ['2 GB RAM']\n",
      "Espaço em hd: ['32 GB']\n",
      "1 ou 2 ship(s): ['2']\n",
      "Preço: 864\n",
      "=======================================\n",
      "Nome do Celular:  Galaxy A21s   \n",
      "Marca do celular: ['Samsung']\n",
      "Cor: ['preto ']\n",
      "Memória ram: ['4 GB RAM']\n",
      "Espaço em hd: ['64 GB']\n",
      "1 ou 2 ship(s): ['2']\n",
      "Preço: 1.358\n",
      "=======================================\n",
      "Nome do Celular:  Redmi Note 9S   \n",
      "Marca do celular: ['Xiaomi']\n",
      "Cor: ['cinza ']\n",
      "Memória ram: ['6 GB RAM']\n",
      "Espaço em hd: ['128 GB']\n",
      "1 ou 2 ship(s): ['2']\n",
      "Preço: 1.747\n",
      "=======================================\n",
      "Nome do Celular:  Para Idosos Com Botão Sos Teclas \n",
      "Marca do celular: ['Celular']\n",
      "Cor: ['Grandes']\n",
      "Memória ram: ['']\n",
      "Espaço em hd: []\n",
      "1 ou 2 ship(s): ['2']\n",
      "Preço: 127\n",
      "=======================================\n",
      "Nome do Celular:  Para Idosos Com Botão Sos Teclas \n",
      "Marca do celular: ['Celular']\n",
      "Cor: ['Grandes']\n",
      "Memória ram: ['']\n",
      "Espaço em hd: []\n",
      "1 ou 2 ship(s): ['1']\n",
      "Preço: 179\n",
      "=======================================\n",
      "Nome do Celular:  K51S   \n",
      "Marca do celular: ['LG']\n",
      "Cor: ['titan ']\n",
      "Memória ram: ['3 GB RAM']\n",
      "Espaço em hd: ['64 GB']\n",
      "1 ou 2 ship(s): ['1']\n",
      "Preço: 1.299\n",
      "=======================================\n",
      "Nome do Celular:  Galaxy A31   prism crush \n",
      "Marca do celular: ['Samsung']\n",
      "Cor: ['black ']\n",
      "Memória ram: ['4 GB RAM']\n",
      "Espaço em hd: ['128 GB']\n",
      "1 ou 2 ship(s): ['2']\n",
      "Preço: 1.999\n",
      "=======================================\n",
      "Nome do Celular:  ZenFone Max Shot ZB634KL   \n",
      "Marca do celular: ['Asus']\n",
      "Cor: ['vermelho ']\n",
      "Memória ram: ['3 GB RAM']\n",
      "Espaço em hd: ['32 GB']\n",
      "1 ou 2 ship(s): ['2']\n",
      "Preço: 1.099\n",
      "=======================================\n",
      "Nome do Celular:  Flip Vita  32 MB \n",
      "Marca do celular: ['Multilaser']\n",
      "Cor: ['vermelho ']\n",
      "Memória ram: ['32 MB RAM']\n",
      "Espaço em hd: ['32 MB']\n",
      "1 ou 2 ship(s): ['2']\n",
      "Preço: 170\n",
      "=======================================\n",
      "Nome do Celular:  Up Play  32 MB \n",
      "Marca do celular: ['Multilaser']\n",
      "Cor: ['branco ']\n",
      "Memória ram: ['32 MB RAM']\n",
      "Espaço em hd: ['32 MB']\n",
      "1 ou 2 ship(s): ['2']\n",
      "Preço: 97\n",
      "=======================================\n",
      "Nome do Celular:  Redmi 9A   \n",
      "Marca do celular: ['Xiaomi']\n",
      "Cor: ['cinza ']\n",
      "Memória ram: ['2 GB RAM']\n",
      "Espaço em hd: ['32 GB']\n",
      "1 ou 2 ship(s): ['2']\n",
      "Preço: 788\n",
      "=======================================\n",
      "Nome do Celular:  Redmi Note 9 Pro (64 Mpx)   \n",
      "Marca do celular: ['Xiaomi']\n",
      "Cor: ['cinza-interestelar ']\n",
      "Memória ram: ['6 GB RAM']\n",
      "Espaço em hd: ['128 GB']\n",
      "1 ou 2 ship(s): ['2']\n",
      "Preço: 1.923\n",
      "=======================================\n",
      "Nome do Celular:  G9 Play   \n",
      "Marca do celular: ['Moto']\n",
      "Cor: ['azul-safira ']\n",
      "Memória ram: ['4 GB RAM']\n",
      "Espaço em hd: ['64 GB']\n",
      "1 ou 2 ship(s): ['2']\n",
      "Preço: 1.300\n",
      "=======================================\n",
      "Nome do Celular:  Zapp  512 MB \n",
      "Marca do celular: ['Multilaser']\n",
      "Cor: ['preto ']\n",
      "Memória ram: ['256 MB RAM']\n",
      "Espaço em hd: ['512 MB']\n",
      "1 ou 2 ship(s): ['2']\n",
      "Preço: 189\n",
      "=======================================\n",
      "Nome do Celular:  B220  32 MB \n",
      "Marca do celular: ['LG']\n",
      "Cor: ['preto ']\n",
      "Memória ram: ['32 MB RAM']\n",
      "Espaço em hd: ['32 MB']\n",
      "1 ou 2 ship(s): ['2']\n",
      "Preço: 110\n",
      "=======================================\n",
      "Nome do Celular:  Redmi Note 9   cinza-\n",
      "Marca do celular: ['Xiaomi']\n",
      "Cor: ['meia-noite ']\n",
      "Memória ram: ['4 GB RAM']\n",
      "Espaço em hd: ['128 GB']\n",
      "1 ou 2 ship(s): ['2']\n",
      "Preço: 1.418\n",
      "=======================================\n",
      "Nome do Celular:  Galaxy A51   prism crush \n",
      "Marca do celular: ['Samsung']\n",
      "Cor: ['white ']\n",
      "Memória ram: ['4 GB RAM']\n",
      "Espaço em hd: ['128 GB']\n",
      "1 ou 2 ship(s): ['2']\n",
      "Preço: 2.499\n",
      "=======================================\n",
      "Nome do Celular:  Galaxy A11   \n",
      "Marca do celular: ['Samsung']\n",
      "Cor: ['vermelho ']\n",
      "Memória ram: ['3 GB RAM']\n",
      "Espaço em hd: ['64 GB']\n",
      "1 ou 2 ship(s): ['2']\n",
      "Preço: 1.133\n",
      "=======================================\n",
      "Nome do Celular:  Poco X3 NFC   cobalt \n",
      "Marca do celular: ['Xiaomi']\n",
      "Cor: ['blue ']\n",
      "Memória ram: ['6 GB RAM']\n",
      "Espaço em hd: ['128 GB']\n",
      "1 ou 2 ship(s): ['2']\n",
      "Preço: 1.899\n",
      "=======================================\n",
      "Nome do Celular:  Poco X3 NFC   shadow \n",
      "Marca do celular: ['Xiaomi']\n",
      "Cor: ['gray ']\n",
      "Memória ram: ['6 GB RAM']\n",
      "Espaço em hd: ['64 GB']\n",
      "1 ou 2 ship(s): ['2']\n",
      "Preço: 1.638\n",
      "=======================================\n",
      "Nome do Celular:  E Lite   \n",
      "Marca do celular: ['Multilaser']\n",
      "Cor: ['preto ']\n",
      "Memória ram: ['512 MB RAM']\n",
      "Espaço em hd: ['32 GB']\n",
      "1 ou 2 ship(s): ['2']\n",
      "Preço: 355\n",
      "=======================================\n",
      "Nome do Celular:  F   \n",
      "Marca do celular: ['Multilaser']\n",
      "Cor: ['café ']\n",
      "Memória ram: ['1 GB RAM']\n",
      "Espaço em hd: ['32 GB']\n",
      "1 ou 2 ship(s): ['2']\n",
      "Preço: 465\n",
      "=======================================\n",
      "Nome do Celular:  K61   \n",
      "Marca do celular: ['LG']\n",
      "Cor: ['branco ']\n",
      "Memória ram: ['4 GB RAM']\n",
      "Espaço em hd: ['128 GB']\n",
      "1 ou 2 ship(s): ['2']\n",
      "Preço: 1.699\n",
      "=======================================\n",
      "Nome do Celular:  Poco M3   power \n",
      "Marca do celular: ['Xiaomi']\n",
      "Cor: ['black ']\n",
      "Memória ram: ['4 GB RAM']\n",
      "Espaço em hd: ['64 GB']\n",
      "1 ou 2 ship(s): ['2']\n",
      "Preço: 1.230\n",
      "=======================================\n",
      "Nome do Celular:  11  \n",
      "Marca do celular: ['iPhone']\n",
      "Cor: ['Branco']\n",
      "Memória ram: ['']\n",
      "Espaço em hd: ['64 GB']\n",
      "1 ou 2 ship(s): ['2']\n",
      "Preço: 4.799\n",
      "=======================================\n",
      "Nome do Celular:  Redmi Note 8   space \n",
      "Marca do celular: ['Xiaomi']\n",
      "Cor: ['black ']\n",
      "Memória ram: ['4 GB RAM']\n",
      "Espaço em hd: ['128 GB']\n",
      "1 ou 2 ship(s): ['1']\n",
      "Preço: 1.500\n",
      "=======================================\n",
      "Nome do Celular:  Redmi Note 9S   \n",
      "Marca do celular: ['Xiaomi']\n",
      "Cor: ['cinza ']\n",
      "Memória ram: ['4 GB RAM']\n",
      "Espaço em hd: ['64 GB']\n",
      "1 ou 2 ship(s): ['2']\n",
      "Preço: 1.420\n",
      "=======================================\n",
      "Nome do Celular:  Redmi Note 8 Pro   \n",
      "Marca do celular: ['Xiaomi']\n",
      "Cor: ['cinza-mineral ']\n",
      "Memória ram: ['6 GB RAM']\n",
      "Espaço em hd: ['128 GB']\n",
      "1 ou 2 ship(s): ['2']\n",
      "Preço: 1.649\n",
      "=======================================\n",
      "Nome do Celular:  Redmi 9C   twilight \n",
      "Marca do celular: ['Xiaomi']\n",
      "Cor: ['blue ']\n",
      "Memória ram: ['3 GB RAM']\n",
      "Espaço em hd: ['64 GB']\n",
      "1 ou 2 ship(s): ['2']\n",
      "Preço: 1.050\n",
      "=======================================\n",
      "Nome do Celular:  Galaxy A71   \n",
      "Marca do celular: ['Samsung']\n",
      "Cor: ['preto ']\n",
      "Memória ram: ['6 GB RAM']\n",
      "Espaço em hd: ['128 GB']\n",
      "1 ou 2 ship(s): ['2']\n",
      "Preço: 2.968\n",
      "=======================================\n",
      "Nome do Celular:  One Fusion   emerald \n",
      "Marca do celular: ['Motorola']\n",
      "Cor: ['green ']\n",
      "Memória ram: ['4 GB RAM']\n",
      "Espaço em hd: ['128 GB']\n",
      "1 ou 2 ship(s): ['2']\n",
      "Preço: 1.399\n",
      "=======================================\n",
      "Nome do Celular:  Vita  32 MB \n",
      "Marca do celular: ['Multilaser']\n",
      "Cor: ['preto ']\n",
      "Memória ram: ['24 MB RAM']\n",
      "Espaço em hd: ['32 MB']\n",
      "1 ou 2 ship(s): ['2']\n",
      "Preço: 124\n",
      "=======================================\n",
      "Nome do Celular:  11  \n",
      "Marca do celular: ['iPhone']\n",
      "Cor: ['Branco']\n",
      "Memória ram: ['']\n",
      "Espaço em hd: ['128 GB']\n",
      "1 ou 2 ship(s): ['2']\n",
      "Preço: 5.339\n",
      "=======================================\n",
      "Nome do Celular:  Poco M3   power \n",
      "Marca do celular: ['Xiaomi']\n",
      "Cor: ['black ']\n",
      "Memória ram: ['4 GB RAM']\n",
      "Espaço em hd: ['128 GB']\n",
      "1 ou 2 ship(s): ['1']\n",
      "Preço: 1.388\n",
      "=======================================\n",
      "Nome do Celular:  P25  32 MB \n",
      "Marca do celular: ['Positivo']\n",
      "Cor: ['preto ']\n",
      "Memória ram: ['32 MB RAM']\n",
      "Espaço em hd: ['32 MB']\n",
      "1 ou 2 ship(s): ['2']\n",
      "Preço: 110\n",
      "=======================================\n",
      "Nome do Celular:  W201  32 MB preto/\n",
      "Marca do celular: ['Infinity']\n",
      "Cor: ['vermelho ']\n",
      "Memória ram: ['32 MB RAM']\n",
      "Espaço em hd: ['32 MB']\n",
      "1 ou 2 ship(s): ['2']\n",
      "Preço: 99\n",
      "=======================================\n",
      "Nome do Celular:  Hit Max PCS02   \n",
      "Marca do celular: ['Philco']\n",
      "Cor: ['cinza-espacial ']\n",
      "Memória ram: ['4 GB RAM']\n",
      "Espaço em hd: ['128 GB']\n",
      "1 ou 2 ship(s): ['2']\n",
      "Preço: 1.299\n",
      "=======================================\n",
      "Nome do Celular:  XR  \n",
      "Marca do celular: ['iPhone']\n",
      "Cor: ['preto']\n",
      "Memória ram: ['']\n",
      "Espaço em hd: ['64 GB']\n",
      "1 ou 2 ship(s): ['2']\n",
      "Preço: 3.920\n",
      "=======================================\n",
      "Nome do Celular:  7  \n",
      "Marca do celular: ['iPhone']\n",
      "Cor: ['preto-fosco']\n",
      "Memória ram: ['']\n",
      "Espaço em hd: ['32 GB']\n",
      "1 ou 2 ship(s): ['1']\n",
      "Preço: 1.750\n",
      "=======================================\n",
      "[[' Galaxy M31   ', 'Samsung', 'azul ', '6 GB RAM', '128 GB', '1', '1.999'],\n",
      " [' E6s (2020)   ', 'Moto', 'azul-navy ', '4 GB RAM', '64 GB', '2', '1.393'],\n",
      " [' Galaxy A51  prism crush ',\n",
      "  'Samsung',\n",
      "  'black ',\n",
      "  '4 GB RAM',\n",
      "  '128 GB',\n",
      "  '2',\n",
      "  '2.698'],\n",
      " [' ZenFone Max Shot ZB634KL   ',\n",
      "  'Asus',\n",
      "  'preto ',\n",
      "  '4 GB RAM',\n",
      "  '64 GB',\n",
      "  '1',\n",
      "  '1.318'],\n",
      " [' Galaxy M21s   ', 'Samsung', 'preto ', '4 GB RAM', '64 GB', '2', '1.699'],\n",
      " [' Galaxy A01 Core   ',\n",
      "  'Samsung',\n",
      "  'vermelho ',\n",
      "  '2 GB RAM',\n",
      "  '32 GB',\n",
      "  '2',\n",
      "  '619'],\n",
      " [' K22   ', 'LG', 'red ', '2 GB RAM', '32 GB', '2', '1.048'],\n",
      " [' 3 Obabox O Novo Smartphone Para A 3º Idade ',\n",
      "  'Obasmart',\n",
      "  'Original',\n",
      "  '',\n",
      "  '2',\n",
      "  '997'],\n",
      " [' Celular Para Idoso Teclas Grandes Fala Ao ',\n",
      "  'Telefone',\n",
      "  'Digitar',\n",
      "  '',\n",
      "  '1',\n",
      "  '123'],\n",
      " [' Redmi Note 8   space ',\n",
      "  'Xiaomi',\n",
      "  'black ',\n",
      "  '4 GB RAM',\n",
      "  '64 GB',\n",
      "  '1',\n",
      "  '1.270'],\n",
      " [' K41S   ', 'LG', 'preto ', '3 GB RAM', '32 GB', '2', '1.099'],\n",
      " [' K52 (13 Mpx)   ', 'LG', 'red ', '3 GB RAM', '64 GB', '2', '1.399'],\n",
      " [' K22+   ', 'LG', 'titan ', '3 GB RAM', '64 GB', '2', '1.153'],\n",
      " [' Galaxy A01   ', 'Samsung', 'azul ', '2 GB RAM', '32 GB', '2', '849'],\n",
      " [' Redmi 9 (Global)   carbon ',\n",
      "  'Xiaomi',\n",
      "  'grey ',\n",
      "  '4 GB RAM',\n",
      "  '64 GB',\n",
      "  '2',\n",
      "  '1.138'],\n",
      " [' Galaxy A10s   ', 'Samsung', 'preto ', '2 GB RAM', '32 GB', '2', '864'],\n",
      " [' Galaxy A21s   ', 'Samsung', 'preto ', '4 GB RAM', '64 GB', '2', '1.358'],\n",
      " [' Redmi Note 9S   ', 'Xiaomi', 'cinza ', '6 GB RAM', '128 GB', '2', '1.747'],\n",
      " [' Para Idosos Com Botão Sos Teclas ', 'Celular', 'Grandes', '', '2', '127'],\n",
      " [' Para Idosos Com Botão Sos Teclas ', 'Celular', 'Grandes', '', '1', '179'],\n",
      " [' K51S   ', 'LG', 'titan ', '3 GB RAM', '64 GB', '1', '1.299'],\n",
      " [' Galaxy A31   prism crush ',\n",
      "  'Samsung',\n",
      "  'black ',\n",
      "  '4 GB RAM',\n",
      "  '128 GB',\n",
      "  '2',\n",
      "  '1.999'],\n",
      " [' ZenFone Max Shot ZB634KL   ',\n",
      "  'Asus',\n",
      "  'vermelho ',\n",
      "  '3 GB RAM',\n",
      "  '32 GB',\n",
      "  '2',\n",
      "  '1.099'],\n",
      " [' Flip Vita  32 MB ',\n",
      "  'Multilaser',\n",
      "  'vermelho ',\n",
      "  '32 MB RAM',\n",
      "  '32 MB',\n",
      "  '2',\n",
      "  '170'],\n",
      " [' Up Play  32 MB ', 'Multilaser', 'branco ', '32 MB RAM', '32 MB', '2', '97'],\n",
      " [' Redmi 9A   ', 'Xiaomi', 'cinza ', '2 GB RAM', '32 GB', '2', '788'],\n",
      " [' Redmi Note 9 Pro (64 Mpx)   ',\n",
      "  'Xiaomi',\n",
      "  'cinza-interestelar ',\n",
      "  '6 GB RAM',\n",
      "  '128 GB',\n",
      "  '2',\n",
      "  '1.923'],\n",
      " [' G9 Play   ', 'Moto', 'azul-safira ', '4 GB RAM', '64 GB', '2', '1.300'],\n",
      " [' Zapp  512 MB ', 'Multilaser', 'preto ', '256 MB RAM', '512 MB', '2', '189'],\n",
      " [' B220  32 MB ', 'LG', 'preto ', '32 MB RAM', '32 MB', '2', '110'],\n",
      " [' Redmi Note 9   cinza-',\n",
      "  'Xiaomi',\n",
      "  'meia-noite ',\n",
      "  '4 GB RAM',\n",
      "  '128 GB',\n",
      "  '2',\n",
      "  '1.418'],\n",
      " [' Galaxy A51   prism crush ',\n",
      "  'Samsung',\n",
      "  'white ',\n",
      "  '4 GB RAM',\n",
      "  '128 GB',\n",
      "  '2',\n",
      "  '2.499'],\n",
      " [' Galaxy A11   ', 'Samsung', 'vermelho ', '3 GB RAM', '64 GB', '2', '1.133'],\n",
      " [' Poco X3 NFC   cobalt ',\n",
      "  'Xiaomi',\n",
      "  'blue ',\n",
      "  '6 GB RAM',\n",
      "  '128 GB',\n",
      "  '2',\n",
      "  '1.899'],\n",
      " [' Poco X3 NFC   shadow ',\n",
      "  'Xiaomi',\n",
      "  'gray ',\n",
      "  '6 GB RAM',\n",
      "  '64 GB',\n",
      "  '2',\n",
      "  '1.638'],\n",
      " [' E Lite   ', 'Multilaser', 'preto ', '512 MB RAM', '32 GB', '2', '355'],\n",
      " [' F   ', 'Multilaser', 'café ', '1 GB RAM', '32 GB', '2', '465'],\n",
      " [' K61   ', 'LG', 'branco ', '4 GB RAM', '128 GB', '2', '1.699'],\n",
      " [' Poco M3   power ', 'Xiaomi', 'black ', '4 GB RAM', '64 GB', '2', '1.230'],\n",
      " [' 11  ', 'iPhone', 'Branco', '', '64 GB', '2', '4.799'],\n",
      " [' Redmi Note 8   space ',\n",
      "  'Xiaomi',\n",
      "  'black ',\n",
      "  '4 GB RAM',\n",
      "  '128 GB',\n",
      "  '1',\n",
      "  '1.500'],\n",
      " [' Redmi Note 9S   ', 'Xiaomi', 'cinza ', '4 GB RAM', '64 GB', '2', '1.420'],\n",
      " [' Redmi Note 8 Pro   ',\n",
      "  'Xiaomi',\n",
      "  'cinza-mineral ',\n",
      "  '6 GB RAM',\n",
      "  '128 GB',\n",
      "  '2',\n",
      "  '1.649'],\n",
      " [' Redmi 9C   twilight ',\n",
      "  'Xiaomi',\n",
      "  'blue ',\n",
      "  '3 GB RAM',\n",
      "  '64 GB',\n",
      "  '2',\n",
      "  '1.050'],\n",
      " [' Galaxy A71   ', 'Samsung', 'preto ', '6 GB RAM', '128 GB', '2', '2.968'],\n",
      " [' One Fusion   emerald ',\n",
      "  'Motorola',\n",
      "  'green ',\n",
      "  '4 GB RAM',\n",
      "  '128 GB',\n",
      "  '2',\n",
      "  '1.399'],\n",
      " [' Vita  32 MB ', 'Multilaser', 'preto ', '24 MB RAM', '32 MB', '2', '124'],\n",
      " [' 11  ', 'iPhone', 'Branco', '', '128 GB', '2', '5.339'],\n",
      " [' Poco M3   power ', 'Xiaomi', 'black ', '4 GB RAM', '128 GB', '1', '1.388'],\n",
      " [' P25  32 MB ', 'Positivo', 'preto ', '32 MB RAM', '32 MB', '2', '110'],\n",
      " [' W201  32 MB preto/',\n",
      "  'Infinity',\n",
      "  'vermelho ',\n",
      "  '32 MB RAM',\n",
      "  '32 MB',\n",
      "  '2',\n",
      "  '99'],\n",
      " [' Hit Max PCS02   ',\n",
      "  'Philco',\n",
      "  'cinza-espacial ',\n",
      "  '4 GB RAM',\n",
      "  '128 GB',\n",
      "  '2',\n",
      "  '1.299'],\n",
      " [' XR  ', 'iPhone', 'preto', '', '64 GB', '2', '3.920'],\n",
      " [' 7  ', 'iPhone', 'preto-fosco', '', '32 GB', '1', '1.750']]\n"
     ]
    }
   ],
   "source": [
    "#   str(lista_2).join(lista_1)+str(lista_1).join(lista_2)\n",
    "\n",
    "bloco_mercado_livre = []\n",
    "for info in soup.findAll('div', {'class':'ui-search-result__content-wrapper'}):\n",
    "    bloco = []\n",
    "    \n",
    "    # find\n",
    "        # Nome e específicações\n",
    "    info_nome = info.find('a').attrs['title']\n",
    "        # Preço\n",
    "    info_cent = info.find('span', {'class':'price-tag-fraction'})\n",
    "    \n",
    "    info_dual_sim = re.findall(r'Dual\\sSIM',info_sem_marca, re.M|re.I)\n",
    "    if info_dual_sim:\n",
    "        info_dual_sim = ['2']\n",
    "    else:\n",
    "        info_dual_sim = ['1']\n",
    "\n",
    "    \n",
    "    \n",
    "    # findall\n",
    "    info_nome_marca = re.findall(r'^\\w+', info_nome, re.M|re.I)\n",
    "    info_ram = re.findall(r'\\d+?[\\s+\\d+][gGmM][bB][\\s+\\w][rR][aA][mM]', info_nome, re.M|re.I)\n",
    "    if info_ram:\n",
    "        info_ram = info_ram\n",
    "    if not info_ram:\n",
    "        info_ram = ['']    \n",
    "    \n",
    "    info_sem_ram = re.sub(r'\\d+?[\\s+\\d+][gGmM][bB][\\s+\\w][rR][aA][mM]', \"\", info_nome, re.M|re.I)\n",
    "    \n",
    "    info_sem_marca = re.sub(r'^\\w+', \"\" ,info_sem_ram, re.M|re.I)\n",
    "    info_sem_dual = re.sub(r'Dual\\sSIM', \"\" ,info_sem_marca, re.M|re.I)\n",
    "    info_hd = re.findall(r'\\d+[\\w\\s][gGmM][bB]',info_sem_dual, re.M|re.I )\n",
    "    info_sem_hd = re.sub(r'\\d+[\\w\\s][gGmB][bB]', \"\", info_sem_dual, re.M|re.I )\n",
    "    info_cor = re.findall(r'\\w+[-]?\\w+[\\s]?$',info_sem_hd, re.M|re.I )\n",
    "    info_sem_cor = re.sub(r'\\w+[-]?\\w+[\\s]?$', \"\",info_sem_hd, re.M|re.I )\n",
    "    \n",
    "    # Nome e específicações\n",
    "#     bloco.append(str(info_nome))\n",
    "#     print('Nome e específicações:', info_nome)\n",
    "    \n",
    "    # Informações sem ram, marca, dual e hd\n",
    "    bloco.append(info_sem_cor)\n",
    "    print('Nome do Celular:', info_sem_cor)\n",
    "    \n",
    "    \n",
    "    # Marca do celular\n",
    "    bloco.extend(info_nome_marca)\n",
    "    print('Marca do celular:', info_nome_marca)\n",
    "    \n",
    "    \n",
    "    # Cor do Celular\n",
    "    bloco.extend(info_cor)\n",
    "    print('Cor:', info_cor)\n",
    "    \n",
    "    \n",
    "    # Memória ram\n",
    "    bloco.extend(info_ram)\n",
    "    print('Memória ram:', info_ram)\n",
    "    \n",
    "    # Espaço de hd\n",
    "    bloco.extend(info_hd)\n",
    "    print('Espaço em hd:', info_hd)\n",
    "    \n",
    "    \n",
    "    # 1/2 ship(s)\n",
    "    bloco.extend(info_dual_sim)\n",
    "    print('1 ou 2 ship(s):', info_dual_sim)\n",
    "    \n",
    "    \n",
    "    # Preço do celualr\n",
    "    bloco.append(info_cent.text)\n",
    "    print('Preço:', info_cent.text)\n",
    "    print('=======================================')\n",
    "    \n",
    "    # lista mestre\n",
    "    bloco_mercado_livre.append(bloco)\n",
    "    \n",
    "#     bloco_mercado_livre.append([info_nome,info_nome_marca, info_dual_sim,\n",
    "#                                 str(info_cent).join(info_val)+str(info_val).join(info_cent)])\n",
    "#     pprint(bloco_mercado_livre)\n",
    "    \n",
    "    \n",
    "#     print(info_nome)\n",
    "#     print(info_nome_re.group(1))\n",
    "#     print(info_nome_re.group(2))\n",
    "#     print(info_dual_sim)\n",
    "#     print( '===========')\n",
    "    \n",
    "    \n",
    "# print(len(bloco_mercado_livre))        \n",
    "      \n"
   ]
  },
  {
   "cell_type": "code",
   "execution_count": 18,
   "metadata": {},
   "outputs": [],
   "source": [
    "df_cel_mercado = pd.DataFrame(bloco_mercado_livre, columns=['Nome', 'Marca','Cor','Memória_ram', 'Espaço_em_HD' ,'1_ou_2_ships', 'Valor(R$)'])"
   ]
  },
  {
   "cell_type": "code",
   "execution_count": 19,
   "metadata": {},
   "outputs": [
    {
     "data": {
      "text/html": [
       "<div>\n",
       "<style scoped>\n",
       "    .dataframe tbody tr th:only-of-type {\n",
       "        vertical-align: middle;\n",
       "    }\n",
       "\n",
       "    .dataframe tbody tr th {\n",
       "        vertical-align: top;\n",
       "    }\n",
       "\n",
       "    .dataframe thead th {\n",
       "        text-align: right;\n",
       "    }\n",
       "</style>\n",
       "<table border=\"1\" class=\"dataframe\">\n",
       "  <thead>\n",
       "    <tr style=\"text-align: right;\">\n",
       "      <th></th>\n",
       "      <th>Nome</th>\n",
       "      <th>Marca</th>\n",
       "      <th>Cor</th>\n",
       "      <th>Memória_ram</th>\n",
       "      <th>Espaço_em_HD</th>\n",
       "      <th>1_ou_2_ships</th>\n",
       "      <th>Valor(R$)</th>\n",
       "    </tr>\n",
       "  </thead>\n",
       "  <tbody>\n",
       "    <tr>\n",
       "      <th>0</th>\n",
       "      <td>Galaxy M31</td>\n",
       "      <td>Samsung</td>\n",
       "      <td>azul</td>\n",
       "      <td>6 GB RAM</td>\n",
       "      <td>128 GB</td>\n",
       "      <td>1</td>\n",
       "      <td>1.999</td>\n",
       "    </tr>\n",
       "    <tr>\n",
       "      <th>1</th>\n",
       "      <td>E6s (2020)</td>\n",
       "      <td>Moto</td>\n",
       "      <td>azul-navy</td>\n",
       "      <td>4 GB RAM</td>\n",
       "      <td>64 GB</td>\n",
       "      <td>2</td>\n",
       "      <td>1.393</td>\n",
       "    </tr>\n",
       "    <tr>\n",
       "      <th>2</th>\n",
       "      <td>Galaxy A51  prism crush</td>\n",
       "      <td>Samsung</td>\n",
       "      <td>black</td>\n",
       "      <td>4 GB RAM</td>\n",
       "      <td>128 GB</td>\n",
       "      <td>2</td>\n",
       "      <td>2.698</td>\n",
       "    </tr>\n",
       "    <tr>\n",
       "      <th>3</th>\n",
       "      <td>ZenFone Max Shot ZB634KL</td>\n",
       "      <td>Asus</td>\n",
       "      <td>preto</td>\n",
       "      <td>4 GB RAM</td>\n",
       "      <td>64 GB</td>\n",
       "      <td>1</td>\n",
       "      <td>1.318</td>\n",
       "    </tr>\n",
       "    <tr>\n",
       "      <th>4</th>\n",
       "      <td>Galaxy M21s</td>\n",
       "      <td>Samsung</td>\n",
       "      <td>preto</td>\n",
       "      <td>4 GB RAM</td>\n",
       "      <td>64 GB</td>\n",
       "      <td>2</td>\n",
       "      <td>1.699</td>\n",
       "    </tr>\n",
       "  </tbody>\n",
       "</table>\n",
       "</div>"
      ],
      "text/plain": [
       "                           Nome    Marca         Cor Memória_ram Espaço_em_HD  \\\n",
       "0                 Galaxy M31     Samsung       azul     6 GB RAM       128 GB   \n",
       "1                 E6s (2020)        Moto  azul-navy     4 GB RAM        64 GB   \n",
       "2      Galaxy A51  prism crush   Samsung      black     4 GB RAM       128 GB   \n",
       "3   ZenFone Max Shot ZB634KL        Asus      preto     4 GB RAM        64 GB   \n",
       "4                Galaxy M21s     Samsung      preto     4 GB RAM        64 GB   \n",
       "\n",
       "  1_ou_2_ships Valor(R$)  \n",
       "0            1     1.999  \n",
       "1            2     1.393  \n",
       "2            2     2.698  \n",
       "3            1     1.318  \n",
       "4            2     1.699  "
      ]
     },
     "execution_count": 19,
     "metadata": {},
     "output_type": "execute_result"
    }
   ],
   "source": [
    "df_cel_mercado.head()"
   ]
  },
  {
   "cell_type": "code",
   "execution_count": 20,
   "metadata": {},
   "outputs": [
    {
     "data": {
      "text/plain": [
       "(54, 7)"
      ]
     },
     "execution_count": 20,
     "metadata": {},
     "output_type": "execute_result"
    }
   ],
   "source": [
    "df_cel_mercado.shape"
   ]
  },
  {
   "cell_type": "code",
   "execution_count": null,
   "metadata": {},
   "outputs": [],
   "source": [
    "df_cel_mercado.Dual_SIM.value_counts()"
   ]
  },
  {
   "cell_type": "code",
   "execution_count": 38,
   "metadata": {},
   "outputs": [
    {
     "data": {
      "text/plain": [
       "'.99'"
      ]
     },
     "execution_count": 38,
     "metadata": {},
     "output_type": "execute_result"
    }
   ],
   "source": [
    "lista_1 = ['R$ 9.900']\n",
    "lista_2 = [',99']\n",
    "str(lista_1).join(lista_2).replace(',','.')"
   ]
  },
  {
   "cell_type": "code",
   "execution_count": null,
   "metadata": {},
   "outputs": [],
   "source": [
    "str(lista_2).join(lista_1).replace('.',',')"
   ]
  },
  {
   "cell_type": "code",
   "execution_count": null,
   "metadata": {},
   "outputs": [],
   "source": [
    "print(str(lista_2).join(lista_1)+str(lista_1).join(lista_2))"
   ]
  },
  {
   "cell_type": "code",
   "execution_count": null,
   "metadata": {},
   "outputs": [],
   "source": [
    "bloco_zoom = []\n",
    "\n",
    "for info in soup.findAll('div', {'class':'cardBody'}):\n",
    "#     bloco = []\n",
    "    \n",
    "    info_nome = info.find('a').attrs['title']\n",
    "    \n",
    "    info_val = info.find('span', {'class':'mainValue'})\n",
    "    \n",
    "    info_cent = info.find('span', {'class':'centsValue'})\n",
    "    \n",
    "    info_nome_re = re.match(r'^\\w+\\s(\\w+.)(\\w+\\s+\\w+)', info_nome, re.M|re.I)\n",
    "\n",
    "    info_val = info.find('span', {'class':'mainValue'})\n",
    "  \n",
    "    info_val_re = re.findall('(R[$]\\s?[+-]?[0-9]{1,3}(?:(?:,?[0-9]{3}))*(?:\\.[0-9]{1,2}\\d+)?)', str(info_val))\n",
    "    \n",
    "    info_cent = info.find('span', {'class':'centsValue'})\n",
    "    \n",
    "    info_cent_re = re.findall('(.\\s?[+-]?[0-9]{1,3}(?:(?:,?[0-9]{3}))*(?:\\.[0-9]{1,2}\\d+)?)', str(info_cent))\n",
    "    bloco_zoom.append([info_nome,info_nome_re.group(1),info_nome_re.group(2),\n",
    "                  str(info_cent_re).join(info_val_re)+str(info_val_re).join(info_cent_re)])\n",
    "    \n",
    "#     print(bloco)\n",
    "    \n",
    "#     print(info)\n",
    "#     print(info_nome)\n",
    "#     print(info_nome_re.group(1))\n",
    "#     print(info_nome_re.group(2))\n",
    "#     print(str(info_cent_re).join(info_val_re)+str(info_val_re).join(info_cent_re))\n",
    "\n",
    "#     print('=============')\n",
    "# print(valor)\n",
    "# info_name = info.find('a').attrs['title']\n",
    "# pprint(info_name)\n",
    "print(len(bloco_zoom))\n",
    "pprint(bloco_zoom)\n"
   ]
  },
  {
   "cell_type": "code",
   "execution_count": null,
   "metadata": {},
   "outputs": [],
   "source": []
  },
  {
   "cell_type": "code",
   "execution_count": null,
   "metadata": {},
   "outputs": [],
   "source": []
  },
  {
   "cell_type": "code",
   "execution_count": null,
   "metadata": {},
   "outputs": [],
   "source": []
  },
  {
   "cell_type": "code",
   "execution_count": null,
   "metadata": {},
   "outputs": [],
   "source": []
  },
  {
   "cell_type": "code",
   "execution_count": null,
   "metadata": {},
   "outputs": [],
   "source": []
  },
  {
   "cell_type": "code",
   "execution_count": null,
   "metadata": {},
   "outputs": [],
   "source": [
    "# Example of w+ and ^ Expression\n",
    "import re\n",
    "xx = \"guru99,education is fun\"\n",
    "r1 = re.findall(r\"^\\w+\",xx)\n",
    "print (r1)"
   ]
  },
  {
   "cell_type": "code",
   "execution_count": null,
   "metadata": {},
   "outputs": [],
   "source": [
    "# Example of \\s expression in re.split function\n",
    "import re\n",
    "xx = \"guru99,education is fun\"\n",
    "r1 = re.findall(r\"^\\w+\", xx)\n",
    "print (re.split(r'\\s','we are splitting the words'))\n",
    "print (re.split(r's','split the words'))"
   ]
  },
  {
   "cell_type": "code",
   "execution_count": null,
   "metadata": {},
   "outputs": [],
   "source": [
    "# Example of re.M or Multiline Flags\n",
    "import re\n",
    "xx = \"\"\"Guru99 gagre; \n",
    "careerguru99\t\n",
    "selenium\"\"\"\n",
    "k1 = re.findall(r\"^\\w\", xx)\n",
    "k2 = re.findall(r\"^\\w\", xx, re.MULTILINE)\n",
    "k3 = re.findall(\"\\\\bg\\w+\\\\b\", xx)\n",
    "k4 = re.findall(\"g\\w+\", xx)\n",
    "k5 = re.findall(\"\\\\bg\\w+\\\\b\", xx, flags=re.I)\n",
    "\n",
    "print (k1)\n",
    "print (k2)\n",
    "print (k3)\n",
    "print (k4)\n",
    "print (k5)"
   ]
  },
  {
   "cell_type": "code",
   "execution_count": null,
   "metadata": {},
   "outputs": [],
   "source": [
    "date             = re.compile('(?:(?<!\\:)(?<!\\:\\d)[0-3]?\\d(?:st|nd|rd|th)?\\s+(?:of\\s+)?(?:jan\\.?|january|feb\\.?|february|mar\\.?|march|apr\\.?|april|may|jun\\.?|june|jul\\.?|july|aug\\.?|august|sep\\.?|september|oct\\.?|october|nov\\.?|november|dec\\.?|december)|(?:jan\\.?|january|feb\\.?|february|mar\\.?|march|apr\\.?|april|may|jun\\.?|june|jul\\.?|july|aug\\.?|august|sep\\.?|september|oct\\.?|october|nov\\.?|november|dec\\.?|december)\\s+(?<!\\:)(?<!\\:\\d)[0-3]?\\d(?:st|nd|rd|th)?)(?:\\,)?\\s*(?:\\d{4})?|[0-3]?\\d[-\\./][0-3]?\\d[-\\./]\\d{2,4}', re.IGNORECASE)\n",
    "time             = re.compile('\\d{1,2}:\\d{2} ?(?:[ap]\\.?m\\.?)?|\\d[ap]\\.?m\\.?', re.IGNORECASE)\n",
    "phone            = re.compile('''((?:(?<![\\d-])(?:\\+?\\d{1,3}[-.\\s*]?)?(?:\\(?\\d{3}\\)?[-.\\s*]?)?\\d{3}[-.\\s*]?\\d{4}(?![\\d-]))|(?:(?<![\\d-])(?:(?:\\(\\+?\\d{2}\\))|(?:\\+?\\d{2}))\\s*\\d{2}\\s*\\d{3}\\s*\\d{4}(?![\\d-])))''')\n",
    "phones_with_exts = re.compile('((?:(?:\\+?1\\s*(?:[.-]\\s*)?)?(?:\\(\\s*(?:[2-9]1[02-9]|[2-9][02-8]1|[2-9][02-8][02-9])\\s*\\)|(?:[2-9]1[02-9]|[2-9][02-8]1|[2-9][02-8][02-9]))\\s*(?:[.-]\\s*)?)?(?:[2-9]1[02-9]|[2-9][02-9]1|[2-9][02-9]{2})\\s*(?:[.-]\\s*)?(?:[0-9]{4})(?:\\s*(?:#|x\\.?|ext\\.?|extension)\\s*(?:\\d+)?))', re.IGNORECASE)\n",
    "link             = re.compile('(?i)((?:https?://|www\\d{0,3}[.])?[a-z0-9.\\-]+[.](?:(?:international)|(?:construction)|(?:contractors)|(?:enterprises)|(?:photography)|(?:immobilien)|(?:management)|(?:technology)|(?:directory)|(?:education)|(?:equipment)|(?:institute)|(?:marketing)|(?:solutions)|(?:builders)|(?:clothing)|(?:computer)|(?:democrat)|(?:diamonds)|(?:graphics)|(?:holdings)|(?:lighting)|(?:plumbing)|(?:training)|(?:ventures)|(?:academy)|(?:careers)|(?:company)|(?:domains)|(?:florist)|(?:gallery)|(?:guitars)|(?:holiday)|(?:kitchen)|(?:recipes)|(?:shiksha)|(?:singles)|(?:support)|(?:systems)|(?:agency)|(?:berlin)|(?:camera)|(?:center)|(?:coffee)|(?:estate)|(?:kaufen)|(?:luxury)|(?:monash)|(?:museum)|(?:photos)|(?:repair)|(?:social)|(?:tattoo)|(?:travel)|(?:viajes)|(?:voyage)|(?:build)|(?:cheap)|(?:codes)|(?:dance)|(?:email)|(?:glass)|(?:house)|(?:ninja)|(?:photo)|(?:shoes)|(?:solar)|(?:today)|(?:aero)|(?:arpa)|(?:asia)|(?:bike)|(?:buzz)|(?:camp)|(?:club)|(?:coop)|(?:farm)|(?:gift)|(?:guru)|(?:info)|(?:jobs)|(?:kiwi)|(?:land)|(?:limo)|(?:link)|(?:menu)|(?:mobi)|(?:moda)|(?:name)|(?:pics)|(?:pink)|(?:post)|(?:rich)|(?:ruhr)|(?:sexy)|(?:tips)|(?:wang)|(?:wien)|(?:zone)|(?:biz)|(?:cab)|(?:cat)|(?:ceo)|(?:com)|(?:edu)|(?:gov)|(?:int)|(?:mil)|(?:net)|(?:onl)|(?:org)|(?:pro)|(?:red)|(?:tel)|(?:uno)|(?:xxx)|(?:ac)|(?:ad)|(?:ae)|(?:af)|(?:ag)|(?:ai)|(?:al)|(?:am)|(?:an)|(?:ao)|(?:aq)|(?:ar)|(?:as)|(?:at)|(?:au)|(?:aw)|(?:ax)|(?:az)|(?:ba)|(?:bb)|(?:bd)|(?:be)|(?:bf)|(?:bg)|(?:bh)|(?:bi)|(?:bj)|(?:bm)|(?:bn)|(?:bo)|(?:br)|(?:bs)|(?:bt)|(?:bv)|(?:bw)|(?:by)|(?:bz)|(?:ca)|(?:cc)|(?:cd)|(?:cf)|(?:cg)|(?:ch)|(?:ci)|(?:ck)|(?:cl)|(?:cm)|(?:cn)|(?:co)|(?:cr)|(?:cu)|(?:cv)|(?:cw)|(?:cx)|(?:cy)|(?:cz)|(?:de)|(?:dj)|(?:dk)|(?:dm)|(?:do)|(?:dz)|(?:ec)|(?:ee)|(?:eg)|(?:er)|(?:es)|(?:et)|(?:eu)|(?:fi)|(?:fj)|(?:fk)|(?:fm)|(?:fo)|(?:fr)|(?:ga)|(?:gb)|(?:gd)|(?:ge)|(?:gf)|(?:gg)|(?:gh)|(?:gi)|(?:gl)|(?:gm)|(?:gn)|(?:gp)|(?:gq)|(?:gr)|(?:gs)|(?:gt)|(?:gu)|(?:gw)|(?:gy)|(?:hk)|(?:hm)|(?:hn)|(?:hr)|(?:ht)|(?:hu)|(?:id)|(?:ie)|(?:il)|(?:im)|(?:in)|(?:io)|(?:iq)|(?:ir)|(?:is)|(?:it)|(?:je)|(?:jm)|(?:jo)|(?:jp)|(?:ke)|(?:kg)|(?:kh)|(?:ki)|(?:km)|(?:kn)|(?:kp)|(?:kr)|(?:kw)|(?:ky)|(?:kz)|(?:la)|(?:lb)|(?:lc)|(?:li)|(?:lk)|(?:lr)|(?:ls)|(?:lt)|(?:lu)|(?:lv)|(?:ly)|(?:ma)|(?:mc)|(?:md)|(?:me)|(?:mg)|(?:mh)|(?:mk)|(?:ml)|(?:mm)|(?:mn)|(?:mo)|(?:mp)|(?:mq)|(?:mr)|(?:ms)|(?:mt)|(?:mu)|(?:mv)|(?:mw)|(?:mx)|(?:my)|(?:mz)|(?:na)|(?:nc)|(?:ne)|(?:nf)|(?:ng)|(?:ni)|(?:nl)|(?:no)|(?:np)|(?:nr)|(?:nu)|(?:nz)|(?:om)|(?:pa)|(?:pe)|(?:pf)|(?:pg)|(?:ph)|(?:pk)|(?:pl)|(?:pm)|(?:pn)|(?:pr)|(?:ps)|(?:pt)|(?:pw)|(?:py)|(?:qa)|(?:re)|(?:ro)|(?:rs)|(?:ru)|(?:rw)|(?:sa)|(?:sb)|(?:sc)|(?:sd)|(?:se)|(?:sg)|(?:sh)|(?:si)|(?:sj)|(?:sk)|(?:sl)|(?:sm)|(?:sn)|(?:so)|(?:sr)|(?:st)|(?:su)|(?:sv)|(?:sx)|(?:sy)|(?:sz)|(?:tc)|(?:td)|(?:tf)|(?:tg)|(?:th)|(?:tj)|(?:tk)|(?:tl)|(?:tm)|(?:tn)|(?:to)|(?:tp)|(?:tr)|(?:tt)|(?:tv)|(?:tw)|(?:tz)|(?:ua)|(?:ug)|(?:uk)|(?:us)|(?:uy)|(?:uz)|(?:va)|(?:vc)|(?:ve)|(?:vg)|(?:vi)|(?:vn)|(?:vu)|(?:wf)|(?:ws)|(?:ye)|(?:yt)|(?:za)|(?:zm)|(?:zw))(?:/[^\\s()<>]+[^\\s`!()\\[\\]{};:\\'\".,<>?\\xab\\xbb\\u201c\\u201d\\u2018\\u2019])?)', re.IGNORECASE)\n",
    "email            = re.compile(\"([a-z0-9!#$%&'*+\\/=?^_`{|.}~-]+@(?:[a-z0-9](?:[a-z0-9-]*[a-z0-9])?\\.)+[a-z0-9](?:[a-z0-9-]*[a-z0-9])?)\", re.IGNORECASE)\n",
    "ip               = re.compile('(?:25[0-5]|2[0-4][0-9]|[01]?[0-9][0-9]?)\\.(?:25[0-5]|2[0-4][0-9]|[01]?[0-9][0-9]?)\\.(?:25[0-5]|2[0-4][0-9]|[01]?[0-9][0-9]?)\\.(?:25[0-5]|2[0-4][0-9]|[01]?[0-9][0-9]?)', re.IGNORECASE)\n",
    "ipv6             = re.compile('\\s*(?!.*::.*::)(?:(?!:)|:(?=:))(?:[0-9a-f]{0,4}(?:(?<=::)|(?<!::):)){6}(?:[0-9a-f]{0,4}(?:(?<=::)|(?<!::):)[0-9a-f]{0,4}(?:(?<=::)|(?<!:)|(?<=:)(?<!::):)|(?:25[0-4]|2[0-4]\\d|1\\d\\d|[1-9]?\\d)(?:\\.(?:25[0-4]|2[0-4]\\d|1\\d\\d|[1-9]?\\d)){3})\\s*', re.VERBOSE|re.IGNORECASE|re.DOTALL)\n",
    "price            = re.compile('[$]\\s?[+-]?[0-9]{1,3}(?:(?:,?[0-9]{3}))*(?:\\.[0-9]{1,2})?')\n",
    "hex_color        = re.compile('(#(?:[0-9a-fA-F]{8})|#(?:[0-9a-fA-F]{3}){1,2})\\\\b')\n",
    "credit_card      = re.compile('((?:(?:\\\\d{4}[- ]?){3}\\\\d{4}|\\\\d{15,16}))(?![\\\\d])')\n",
    "btc_address      = re.compile('(?<![a-km-zA-HJ-NP-Z0-9])[13][a-km-zA-HJ-NP-Z0-9]{26,33}(?![a-km-zA-HJ-NP-Z0-9])')\n",
    "street_address   = re.compile('\\d{1,4} [\\w\\s]{1,20}(?:street|st|avenue|ave|road|rd|highway|hwy|square|sq|trail|trl|drive|dr|court|ct|park|parkway|pkwy|circle|cir|boulevard|blvd)\\W?(?=\\s|$)', re.IGNORECASE)\n",
    "zip_code         = re.compile(r'\\b\\d{5}(?:[-\\s]\\d{4})?\\b')\n",
    "po_box           = re.compile(r'P\\.? ?O\\.? Box \\d+', re.IGNORECASE)\n",
    "ssn              = re.compile('(?!000|666|333)0*(?:[0-6][0-9][0-9]|[0-7][0-6][0-9]|[0-7][0-7][0-2])[- ](?!00)[0-9]{2}[- ](?!0000)[0-9]{4}')"
   ]
  },
  {
   "cell_type": "code",
   "execution_count": null,
   "metadata": {},
   "outputs": [],
   "source": [
    "import regex"
   ]
  },
  {
   "cell_type": "code",
   "execution_count": null,
   "metadata": {},
   "outputs": [],
   "source": [
    "regex.match(r'(?(?=\\d)\\d+|\\w+)', '123abc')"
   ]
  },
  {
   "cell_type": "code",
   "execution_count": null,
   "metadata": {},
   "outputs": [],
   "source": [
    "regex.findall(r'(?(?=\\d)\\d+|\\w+)', '123abc36 7gdh127')"
   ]
  },
  {
   "cell_type": "code",
   "execution_count": null,
   "metadata": {},
   "outputs": [],
   "source": [
    "regex.match(r'(?(?=\\d)\\d+|\\w+)', 'abc123')"
   ]
  },
  {
   "cell_type": "code",
   "execution_count": null,
   "metadata": {},
   "outputs": [],
   "source": [
    "regex.findall(r'(?(?=\\d)\\d+|\\w+)', '123abc')"
   ]
  },
  {
   "cell_type": "code",
   "execution_count": null,
   "metadata": {},
   "outputs": [],
   "source": [
    "# Using re.findall for text\n",
    "import re\n",
    "\n",
    "list = [\"guru99 get\", \"guru99 give\", \"guru Selenium\"]\n",
    "for element in list:\n",
    "    z = re.match(\"(g\\w+)\\W(g\\w+)\", element)\n",
    "if z:\n",
    "    print(z.groups())\n",
    "    \n",
    "patterns = ['software testing', 'guru99']\n",
    "text = 'software testing is fun?'\n",
    "for pattern in patterns:\n",
    "    print 'Looking for \"%s\" in \"%s\" ->' % (pattern, text),\n",
    "    if re.search(pattern, text):\n",
    "        print ('found a match!')\n",
    "else:\n",
    "    print ('no match')\n",
    "abc = 'guru99@google.com, careerguru99@hotmail.com, users@yahoomail.com'\n",
    "emails = re.findall(r'[\\w\\.-]+@[\\w\\.-]+', abc)\n",
    "for email in emails:\n",
    "    print (email)\n"
   ]
  },
  {
   "cell_type": "code",
   "execution_count": null,
   "metadata": {},
   "outputs": [],
   "source": []
  },
  {
   "cell_type": "code",
   "execution_count": null,
   "metadata": {},
   "outputs": [],
   "source": []
  },
  {
   "cell_type": "markdown",
   "metadata": {},
   "source": [
    "<strong><b><font size=\"5\">Data Science Academy</font></b></strong>"
   ]
  },
  {
   "cell_type": "markdown",
   "metadata": {},
   "source": [
    "<strong><b><font size=\"5\">Web Scraping e Análise de Dados</font></b></strong>"
   ]
  },
  {
   "cell_type": "markdown",
   "metadata": {},
   "source": [
    "<strong><b><font size=\"5\">Lab 2</font></b></strong>\n",
    "\n",
    "<strong><b><font size=\"4\">Web Scraping e Análise Estatística - Avaliando o Desempenho dos Participantes em Corridas de 10 KM com Dados de Sensores RFID</font></b></strong>"
   ]
  },
  {
   "cell_type": "markdown",
   "metadata": {},
   "source": [
    "![title](imagens/lab2.png)"
   ]
  },
  {
   "cell_type": "markdown",
   "metadata": {},
   "source": [
    "## Definição do Problema\n",
    "\n",
    "Você gosta de correr? Corrida é um dos esportes mais praticados em todo mundo, além de uma atividade saudável e prazerosa.\n",
    "\n",
    "Neste Lab vamos coletar dados reais de participantes de uma corrida de 10 KM realizada em Hillsboro no Oregon, EUA, em junho de 2017. \n",
    "\n",
    "Resumo da corrida:\n",
    "\n",
    "- Pessoas que completaram a corrida: 577\n",
    "- Homens: 414\n",
    "- Mulheres: 163\n",
    "\n",
    "O objetivo desta análise é encontrar:\n",
    "    \n",
    "- O tempo médio de conclusão da corrida.\n",
    "- Se os tempos de chegada dos corredores seguem uma distribuição normal.\n",
    "- Analisar se há diferença de desempenho entre homens e mulheres de várias faixas etárias.\n",
    "\n",
    "Os tempos registrados na corrida (bem como outros dados) são bem precisos pois os participantes usaram sensores RFID de onde os dados foram extraídos e disponibilizados na web. Mais detalhes sobre o uso dos sensores RFID aqui:\n",
    "\n",
    "https://www.hubertiming.com/runners/faq"
   ]
  },
  {
   "cell_type": "markdown",
   "metadata": {},
   "source": [
    "## Fonte de Dados\n",
    "\n",
    "Como fonte de dados usaremos o web site <a href=\"https://www.hubertiming.com/\">Huber Timing</a> que contém o resultado das corridas que acontecem nos EUA, bem como a agenda de novos eventos.\n",
    "\n",
    "Aqui a página com o resultado da corrida que faremos a análise:\n",
    "\n",
    "https://www.hubertiming.com/results/2017GPTR10K"
   ]
  },
  {
   "cell_type": "markdown",
   "metadata": {},
   "source": [
    "## Carregando os Pacotes Usados Neste Jupyter Notebook"
   ]
  },
  {
   "cell_type": "code",
   "execution_count": null,
   "metadata": {},
   "outputs": [],
   "source": [
    "# Versão da Linguagem Python\n",
    "from platform import python_version\n",
    "print('Versão da Linguagem Python Usada Neste Jupyter Notebook:', python_version())"
   ]
  },
  {
   "cell_type": "code",
   "execution_count": null,
   "metadata": {},
   "outputs": [],
   "source": [
    "# Para atualizar um pacote, execute o comando abaixo no terminal ou prompt de comando:\n",
    "# pip install -U nome_pacote\n",
    "\n",
    "# Para instalar a versão exata de um pacote, execute o comando abaixo no terminal ou prompt de comando:\n",
    "# pip install nome_pacote==versão_desejada\n",
    "\n",
    "# Depois de instalar ou atualizar o pacote, reinicie o jupyter notebook, se necessário."
   ]
  },
  {
   "cell_type": "code",
   "execution_count": null,
   "metadata": {},
   "outputs": [],
   "source": [
    "# Instala o pacote watermark. \n",
    "# Esse pacote é usado para gravar as versões de outros pacotes usados neste jupyter notebook.\n",
    "!pip install -q -U watermark"
   ]
  },
  {
   "cell_type": "code",
   "execution_count": null,
   "metadata": {},
   "outputs": [],
   "source": [
    "# Usaremos o pacote Pingouin para algumas das análises estatísticas\n",
    "# https://pingouin-stats.org/index.html\n",
    "!pip install -q pingouin"
   ]
  },
  {
   "cell_type": "code",
   "execution_count": null,
   "metadata": {
    "scrolled": true
   },
   "outputs": [],
   "source": [
    "# Imports\n",
    "import re\n",
    "import requests\n",
    "import matplotlib as m\n",
    "import numpy as np\n",
    "import pandas as pd\n",
    "import pingouin as pg\n",
    "import matplotlib.pyplot as plt\n",
    "import seaborn as sns\n",
    "from bs4 import BeautifulSoup as bs\n",
    "from urllib.request import urlopen\n",
    "from scipy import stats\n",
    "\n",
    "# Imports para formatação dos gráficos\n",
    "sns.set_style('whitegrid')\n",
    "%matplotlib inline"
   ]
  },
  {
   "cell_type": "code",
   "execution_count": null,
   "metadata": {},
   "outputs": [],
   "source": [
    "# Versões dos pacotes usados neste jupyter notebook\n",
    "%reload_ext watermark\n",
    "%watermark -a \"Data Science Academy\" --iversions"
   ]
  },
  {
   "cell_type": "markdown",
   "metadata": {},
   "source": [
    "## Web Scraping"
   ]
  },
  {
   "cell_type": "code",
   "execution_count": null,
   "metadata": {},
   "outputs": [],
   "source": [
    "# Definindo a URL com o resultado da corrida\n",
    "url = 'https://www.hubertiming.com/results/2017GPTR10K'"
   ]
  },
  {
   "cell_type": "code",
   "execution_count": null,
   "metadata": {},
   "outputs": [],
   "source": [
    "# Abre a conexão com a url\n",
    "html = urlopen(url)"
   ]
  },
  {
   "cell_type": "code",
   "execution_count": null,
   "metadata": {},
   "outputs": [],
   "source": [
    "# Extrai o código HTML\n",
    "soup = bs(html,'lxml')"
   ]
  },
  {
   "cell_type": "code",
   "execution_count": null,
   "metadata": {},
   "outputs": [],
   "source": [
    "# Extrai o texto do código html\n",
    "texto = soup.get_text()"
   ]
  },
  {
   "cell_type": "code",
   "execution_count": null,
   "metadata": {},
   "outputs": [],
   "source": [
    "# Vamos visualizar as 10 primeiras linhas\n",
    "linhas = soup.find_all('tr')\n",
    "print(linhas[:10])"
   ]
  },
  {
   "cell_type": "markdown",
   "metadata": {},
   "source": [
    "## Limpeza e Transformação\n",
    "\n",
    "Agora começa o trabalho pesado. Não fique apenas executando código e compreenda o que está sendo feito. Se tiver dificuldades, pergunte! Temos vários canais de suporte a sua disposição."
   ]
  },
  {
   "cell_type": "markdown",
   "metadata": {},
   "source": [
    "Começaremos obtendo todas as linhas da tabela em forma de lista e depois converteremos essa lista em um dataframe para facilitar a manipulação."
   ]
  },
  {
   "cell_type": "code",
   "execution_count": null,
   "metadata": {},
   "outputs": [],
   "source": [
    "# Loop\n",
    "for linha in linhas:\n",
    "    linha_td = linha.find_all('td')"
   ]
  },
  {
   "cell_type": "code",
   "execution_count": null,
   "metadata": {},
   "outputs": [],
   "source": [
    "print(linha_td)"
   ]
  },
  {
   "cell_type": "markdown",
   "metadata": {},
   "source": [
    "Com expressões regulares em Python, vamos extrair os dados das tags HTML."
   ]
  },
  {
   "cell_type": "code",
   "execution_count": null,
   "metadata": {},
   "outputs": [],
   "source": [
    "# Lista vazia para receber as linhas\n",
    "lista_linhas = []"
   ]
  },
  {
   "cell_type": "code",
   "execution_count": null,
   "metadata": {},
   "outputs": [],
   "source": [
    "# Loop\n",
    "for linha in linhas:\n",
    "    cells = linha.find_all('td')\n",
    "    str_cells = str(cells)\n",
    "    clean = re.compile('<.*?>')\n",
    "    clean2 = (re.sub(clean, '', str_cells))\n",
    "    lista_linhas.append(clean2)"
   ]
  },
  {
   "cell_type": "code",
   "execution_count": null,
   "metadata": {},
   "outputs": [],
   "source": [
    "print(clean2)"
   ]
  },
  {
   "cell_type": "markdown",
   "metadata": {},
   "source": [
    "Convertemos a lista em um dataframe e obtemos uma visão rápida das 10 primeiras linhas usando o Pandas."
   ]
  },
  {
   "cell_type": "code",
   "execution_count": null,
   "metadata": {},
   "outputs": [],
   "source": [
    "# Convertemos a lista em dataframe\n",
    "df = pd.DataFrame(lista_linhas)"
   ]
  },
  {
   "cell_type": "code",
   "execution_count": null,
   "metadata": {},
   "outputs": [],
   "source": [
    "df.head(10)"
   ]
  },
  {
   "cell_type": "markdown",
   "metadata": {},
   "source": [
    "Claramente precisamos limpar os dados. Vamos ao trabalho."
   ]
  },
  {
   "cell_type": "code",
   "execution_count": null,
   "metadata": {},
   "outputs": [],
   "source": [
    "# Dividindo cada linha e separando os dados a cada vírgula\n",
    "df1 = df[0].str.split(',', expand = True)"
   ]
  },
  {
   "cell_type": "code",
   "execution_count": null,
   "metadata": {},
   "outputs": [],
   "source": [
    "df1.head(10)"
   ]
  },
  {
   "cell_type": "markdown",
   "metadata": {},
   "source": [
    "Está começando a ficar bonito. Vamos fazer mais algumas limpezas. Leia e compreenda o código. Se tiver dúvidas, pergunte (embora isso não deva ser novidade se você fez o curso gratuito de <a href=\"https://www.datascienceacademy.com.br/course?courseid=python-fundamentos\">Python Fundamentos</a> aqui na DSA)."
   ]
  },
  {
   "cell_type": "code",
   "execution_count": null,
   "metadata": {
    "scrolled": true
   },
   "outputs": [],
   "source": [
    "# Removemos colchetes de abertura (lado esquerdo) do texto\n",
    "df1[0] = df1[0].str.strip('[')"
   ]
  },
  {
   "cell_type": "code",
   "execution_count": null,
   "metadata": {},
   "outputs": [],
   "source": [
    "df1.head(10)"
   ]
  },
  {
   "cell_type": "code",
   "execution_count": null,
   "metadata": {},
   "outputs": [],
   "source": [
    "# Extraímos o cabeçalho de todas as tabelas no código HTML\n",
    "col_labels = soup.find_all('th')"
   ]
  },
  {
   "cell_type": "code",
   "execution_count": null,
   "metadata": {},
   "outputs": [],
   "source": [
    "col_labels"
   ]
  },
  {
   "cell_type": "code",
   "execution_count": null,
   "metadata": {},
   "outputs": [],
   "source": [
    "# Extraímos texto entre tags html dos cabeçalhos de tabela (extraímos o nome)\n",
    "all_header = []\n",
    "col_str = str(col_labels)\n",
    "cleantext2 = bs(col_str, \"lxml\").get_text()\n",
    "all_header.append(cleantext2)"
   ]
  },
  {
   "cell_type": "code",
   "execution_count": null,
   "metadata": {},
   "outputs": [],
   "source": [
    "print(all_header)"
   ]
  },
  {
   "cell_type": "code",
   "execution_count": null,
   "metadata": {},
   "outputs": [],
   "source": [
    "# Convertendo a lista de cabeçalhos em um dataframe do pandas\n",
    "df2 = pd.DataFrame(all_header)"
   ]
  },
  {
   "cell_type": "code",
   "execution_count": null,
   "metadata": {},
   "outputs": [],
   "source": [
    "df2.head()"
   ]
  },
  {
   "cell_type": "code",
   "execution_count": null,
   "metadata": {},
   "outputs": [],
   "source": [
    "# Dividindo a coluna \"0\" em várias colunas na posição de vírgula para todas as linhas\n",
    "df3 = df2[0].str.split(',', expand = True)"
   ]
  },
  {
   "cell_type": "code",
   "execution_count": null,
   "metadata": {},
   "outputs": [],
   "source": [
    "df3.head()"
   ]
  },
  {
   "cell_type": "code",
   "execution_count": null,
   "metadata": {},
   "outputs": [],
   "source": [
    "# Concatenando os 2 dataframes\n",
    "frames = [df3, df1]\n",
    "df4 = pd.concat(frames)"
   ]
  },
  {
   "cell_type": "code",
   "execution_count": null,
   "metadata": {},
   "outputs": [],
   "source": [
    "df4.head(10)"
   ]
  },
  {
   "cell_type": "code",
   "execution_count": null,
   "metadata": {},
   "outputs": [],
   "source": [
    "# Atribuindo a primeira coluna como cabeçalho\n",
    "df5 = df4.rename(columns = df4.iloc[0])"
   ]
  },
  {
   "cell_type": "code",
   "execution_count": null,
   "metadata": {},
   "outputs": [],
   "source": [
    "df5.head()"
   ]
  },
  {
   "cell_type": "code",
   "execution_count": null,
   "metadata": {},
   "outputs": [],
   "source": [
    "# Shape\n",
    "df5.shape"
   ]
  },
  {
   "cell_type": "code",
   "execution_count": null,
   "metadata": {},
   "outputs": [],
   "source": [
    "# Obtendo uma visão geral dos dados para análise\n",
    "df5.info()"
   ]
  },
  {
   "cell_type": "code",
   "execution_count": null,
   "metadata": {},
   "outputs": [],
   "source": [
    "# Verificando valores ausentes\n",
    "df5.isnull().sum()"
   ]
  },
  {
   "cell_type": "code",
   "execution_count": null,
   "metadata": {},
   "outputs": [],
   "source": [
    "# Removendo todas as linhas com valores ausentes\n",
    "df6 = df5.dropna(axis = 0, how = 'any')"
   ]
  },
  {
   "cell_type": "code",
   "execution_count": null,
   "metadata": {},
   "outputs": [],
   "source": [
    "# Descartando o cabeçalho da tabela replicada como a primeira linha no df5\n",
    "df7 = df6.drop(df6.index[0])"
   ]
  },
  {
   "cell_type": "code",
   "execution_count": null,
   "metadata": {},
   "outputs": [],
   "source": [
    "# Renomeando as colunas [Place e Team] \n",
    "df7.rename(columns = {'[Place': 'Place'}, inplace = True)\n",
    "df7.rename(columns = {' Team]': 'Team'}, inplace = True)"
   ]
  },
  {
   "cell_type": "code",
   "execution_count": null,
   "metadata": {},
   "outputs": [],
   "source": [
    "# Limpeza final dos dados - remoção do colchete de fechamento das células na coluna \"Team\".\n",
    "df7['Team'] = df7['Team'].str.strip(']')"
   ]
  },
  {
   "cell_type": "code",
   "execution_count": null,
   "metadata": {},
   "outputs": [],
   "source": [
    "df7.head()"
   ]
  },
  {
   "cell_type": "markdown",
   "metadata": {},
   "source": [
    "## Análise de Dados"
   ]
  },
  {
   "cell_type": "code",
   "execution_count": null,
   "metadata": {},
   "outputs": [],
   "source": [
    "# Convertendo a coluna \"Chip Time\" em apenas minutos\n",
    "# Chip time é o tempo total de corrida medido com a leitura do sensor RFID no selo da camisa do participante\n",
    "time_list = df7[' Chip Time'].tolist()"
   ]
  },
  {
   "cell_type": "code",
   "execution_count": null,
   "metadata": {},
   "outputs": [],
   "source": [
    "# Visualizando uma amostra de dados\n",
    "time_list[1:5]"
   ]
  },
  {
   "cell_type": "code",
   "execution_count": null,
   "metadata": {},
   "outputs": [],
   "source": [
    "# Lista para receber o resultado da conversão\n",
    "time_mins = []"
   ]
  },
  {
   "cell_type": "code",
   "execution_count": null,
   "metadata": {},
   "outputs": [],
   "source": [
    "# Loop para conversão\n",
    "for i in time_list:\n",
    "    i = i.strip(' ')\n",
    "    if len(i)!=7:\n",
    "        i = '0:' + i\n",
    "    h, m, s = i.split(':')\n",
    "    math = (int(h) * 3600 + int(m) * 60 + int(s))/60\n",
    "    time_mins.append(math)"
   ]
  },
  {
   "cell_type": "markdown",
   "metadata": {},
   "source": [
    "Convertendo a lista novamente em um dataframe e criamos uma nova coluna (\"Runner_mins\") como tempo total de corrida, mas agora em minutos."
   ]
  },
  {
   "cell_type": "code",
   "execution_count": null,
   "metadata": {},
   "outputs": [],
   "source": [
    "# Nova coluna\n",
    "df7['Runner_mins'] = time_mins"
   ]
  },
  {
   "cell_type": "code",
   "execution_count": null,
   "metadata": {},
   "outputs": [],
   "source": [
    "df7.head()"
   ]
  },
  {
   "cell_type": "code",
   "execution_count": null,
   "metadata": {},
   "outputs": [],
   "source": [
    "df7.dtypes"
   ]
  },
  {
   "cell_type": "code",
   "execution_count": null,
   "metadata": {},
   "outputs": [],
   "source": [
    "# Cálculo de estatísticas para colunas numéricas no dataframe\n",
    "df7.describe(include = [np.number])"
   ]
  },
  {
   "cell_type": "markdown",
   "metadata": {},
   "source": [
    "**Análise**:\n",
    "\n",
    "- O tempo médio de chip para todos os corredores foi de ~ 60 minutos (a média na tabela acima).\n",
    "- O corredor 10K mais rápido terminou em 36,35 minutos (valor mínimo na tabela acima).\n",
    "- O corredor mais lento terminou em 101,30 minutos (valor máximo na tabela acima)."
   ]
  },
  {
   "cell_type": "markdown",
   "metadata": {},
   "source": [
    "Vamos criar um boxplot para sumarizar nossa análise."
   ]
  },
  {
   "cell_type": "code",
   "execution_count": null,
   "metadata": {},
   "outputs": [],
   "source": [
    "# Plot\n",
    "ax = sns.boxplot(x = df7[\"Runner_mins\"], palette = \"Set3\", orient = \"v\")\n",
    "plt.ylabel('Chip Time')\n",
    "plt.xlabel('Runners')\n",
    "plt.show()"
   ]
  },
  {
   "cell_type": "markdown",
   "metadata": {},
   "source": [
    "Acima estão as estatísticas de resumo de dados para os corredores mostrados em um boxplot: Máximo, mínimo, médio, primeiro quartil, terceiro quartil, incluindo valores extremos."
   ]
  },
  {
   "cell_type": "markdown",
   "metadata": {},
   "source": [
    "Criaremos agora um gráfico de distribuição dos tempos dos chips dos corredores usando a biblioteca seaborn."
   ]
  },
  {
   "cell_type": "code",
   "execution_count": null,
   "metadata": {},
   "outputs": [],
   "source": [
    "# Plot\n",
    "x = df7['Runner_mins']\n",
    "ax = sns.distplot(x, hist = True, kde = True, rug = False, color = 'blue', bins = 25, hist_kws = {'edgecolor':'black'})\n",
    "plt.show()"
   ]
  },
  {
   "cell_type": "markdown",
   "metadata": {},
   "source": [
    "A distribuição da variável parece quase normal. Mas vamos realizar um teste estatístico para confirmar.\n",
    "\n",
    "Um ponto de decisão importante ao trabalhar com uma amostra de dados é usar métodos estatísticos paramétricos ou não paramétricos.\n",
    "\n",
    "Os métodos estatísticos paramétricos assumem que os dados têm uma distribuição conhecida e específica, geralmente uma distribuição gaussiana (normal). Se uma amostra de dados não é gaussiana, as suposições dos testes estatísticos paramétricos são violadas e métodos estatísticos não paramétricos devem ser utilizados.\n",
    "\n",
    "Há várias técnicas que você pode usar para verificar se sua amostra de dados se desvia de uma distribuição gaussiana, chamada testes de normalidade.\n",
    "\n",
    "O pacote stats do SciPy fornece uma função para um dos testes de normalidade mais comuns, o Shapiro-Wilk Test. Usaremos ainda a função normality do pacote Pengouin.\n",
    "\n",
    "O Shapiro-Wilk é um teste de hipóteses, que testa essas duas hipóteses:\n",
    "\n",
    "**A hipótese nula deste teste é que a população é normalmente distribuída. Assim, se o valor-p for menor que o nível alfa escolhido (normalmente definido em 0,05), a hipótese nula será rejeitada e há evidências de que os dados testados não são normalmente distribuídos.**\n",
    "\n",
    "O resultado do teste de Shapiro-Wilk deve ser interpretado com cautela no caso de amostras grandes. "
   ]
  },
  {
   "cell_type": "code",
   "execution_count": null,
   "metadata": {},
   "outputs": [],
   "source": [
    "# Valor de x\n",
    "x = df7['Runner_mins']"
   ]
  },
  {
   "cell_type": "code",
   "execution_count": null,
   "metadata": {},
   "outputs": [],
   "source": [
    "# Teste de normalidade com Scipy\n",
    "stats.shapiro(x)"
   ]
  },
  {
   "cell_type": "code",
   "execution_count": null,
   "metadata": {},
   "outputs": [],
   "source": [
    "# Teste de normalidade com Pingouin\n",
    "pg.normality(x)"
   ]
  },
  {
   "cell_type": "markdown",
   "metadata": {},
   "source": [
    "**Análise**:\n",
    "\n",
    "- A variável não segue uma distribuição normal, uma vez que o valor-p é menor que 0.05 e assim há evidências estatísticas para rejeitar a hipótese nula. A função normality() do pacote Pingouin coloca essa informação na última coluna."
   ]
  },
  {
   "cell_type": "markdown",
   "metadata": {},
   "source": [
    "Vamos agora descobrir se houve alguma diferença de desempenho entre homens e mulheres de várias faixas etárias."
   ]
  },
  {
   "cell_type": "code",
   "execution_count": null,
   "metadata": {},
   "outputs": [],
   "source": [
    "# Separando os dados\n",
    "f_runners = df7.loc[df7[' Gender'] == ' F']['Runner_mins']\n",
    "m_runners = df7.loc[df7[' Gender'] == ' M']['Runner_mins']"
   ]
  },
  {
   "cell_type": "code",
   "execution_count": null,
   "metadata": {},
   "outputs": [],
   "source": [
    "# Criaremos os 2 plots em uma só figura para facilitar a comparação\n",
    "sns.distplot(f_runners, hist = True, kde = True, rug = False, hist_kws = {'edgecolor':'black'}, label = 'Mulher')\n",
    "sns.distplot(m_runners, hist = False, kde = True, rug = False, hist_kws = {'edgecolor':'black'}, label = 'Homem')\n",
    "plt.legend()"
   ]
  },
  {
   "cell_type": "markdown",
   "metadata": {},
   "source": [
    "**Análise**:\n",
    "\n",
    "- A distribuição indica que as mulheres eram mais lentas que os homens, em média."
   ]
  },
  {
   "cell_type": "code",
   "execution_count": null,
   "metadata": {},
   "outputs": [],
   "source": [
    "# Computando estatísticas resumidas para homens e mulheres separadamente usando o método groupby ()\n",
    "g_stats = df7.groupby(\" Gender\", as_index = True).describe()\n",
    "g_stats"
   ]
  },
  {
   "cell_type": "markdown",
   "metadata": {},
   "source": [
    "**Análise**:\n",
    "    \n",
    "- O tempo médio de chip para todas as mulheres e homens foi de ~ 66 minutos e ~ 58 minutos, respectivamente, comprovando a análise do gráfico. "
   ]
  },
  {
   "cell_type": "markdown",
   "metadata": {},
   "source": [
    "Um boxplot ajuda a comparar as amostras de homens e mulheres."
   ]
  },
  {
   "cell_type": "code",
   "execution_count": null,
   "metadata": {},
   "outputs": [],
   "source": [
    "# Plot\n",
    "df7.boxplot(column = 'Runner_mins', by = ' Gender')\n",
    "plt.ylabel('Chip Time')\n",
    "plt.suptitle(\"\")"
   ]
  },
  {
   "cell_type": "markdown",
   "metadata": {},
   "source": [
    "Nossa fonte de dados possui resultados de diversas corridas. Material em abundância para você praticar seus conhecimentos em análise de dados."
   ]
  },
  {
   "cell_type": "markdown",
   "metadata": {},
   "source": [
    "# Fim"
   ]
  }
 ],
 "metadata": {
  "kernelspec": {
   "display_name": "Python 3",
   "language": "python",
   "name": "python3"
  },
  "language_info": {
   "codemirror_mode": {
    "name": "ipython",
    "version": 3
   },
   "file_extension": ".py",
   "mimetype": "text/x-python",
   "name": "python",
   "nbconvert_exporter": "python",
   "pygments_lexer": "ipython3",
   "version": "3.7.9"
  }
 },
 "nbformat": 4,
 "nbformat_minor": 4
}
