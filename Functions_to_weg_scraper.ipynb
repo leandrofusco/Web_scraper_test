{
 "cells": [
  {
   "cell_type": "markdown",
   "metadata": {},
   "source": [
    "# Functions to weg scraper"
   ]
  },
  {
   "cell_type": "code",
   "execution_count": null,
   "metadata": {},
   "outputs": [],
   "source": [
    "#Recupera uma lista de todos os links internos encontrados em uma página\n",
    "def getInternalLinks(bsObj, includeUrl):\n",
    "    internalLinks = []\n",
    "    #Finds all links that begin with a \"/\"\n",
    "    for link in bsObj.findAll(\"a\", href=re.compile(\"^(/|.*\"+includeUrl+\")\")):\n",
    "        if link.attrs['href'] is not None:\n",
    "            if link.attrs['href'] not in internalLinks:\n",
    "                internalLinks.append(link.attrs['href'])\n",
    "    return internalLinks"
   ]
  },
  {
   "cell_type": "code",
   "execution_count": 24,
   "metadata": {},
   "outputs": [
    {
     "ename": "ValueError",
     "evalue": "invalid literal for int() with base 10: \"['782', '4.439', '1.728', '1.899', '2.005', '1.678', '1.099', '1.430', '1.438', '1.999', '1.699', '799', '1.099', '2.579', '1.999', '4.699', '1.168', '399', '1.099', '849', '999', '2.499', '1.299', '",
     "output_type": "error",
     "traceback": [
      "\u001b[1;31m---------------------------------------------------------------------------\u001b[0m",
      "\u001b[1;31mValueError\u001b[0m                                Traceback (most recent call last)",
      "\u001b[1;32m<ipython-input-24-b5120e202953>\u001b[0m in \u001b[0;36m<module>\u001b[1;34m\u001b[0m\n\u001b[0;32m     30\u001b[0m \u001b[1;33m\u001b[0m\u001b[0m\n\u001b[0;32m     31\u001b[0m \u001b[1;32mif\u001b[0m \u001b[0m__name__\u001b[0m \u001b[1;33m==\u001b[0m \u001b[1;34m'__main__'\u001b[0m\u001b[1;33m:\u001b[0m\u001b[1;33m\u001b[0m\u001b[1;33m\u001b[0m\u001b[0m\n\u001b[1;32m---> 32\u001b[1;33m     \u001b[0mmain\u001b[0m\u001b[1;33m(\u001b[0m\u001b[1;33m)\u001b[0m\u001b[1;33m\u001b[0m\u001b[1;33m\u001b[0m\u001b[0m\n\u001b[0m",
      "\u001b[1;32m<ipython-input-24-b5120e202953>\u001b[0m in \u001b[0;36mmain\u001b[1;34m()\u001b[0m\n\u001b[0;32m     22\u001b[0m \u001b[1;32mdef\u001b[0m \u001b[0mmain\u001b[0m\u001b[1;33m(\u001b[0m\u001b[1;33m)\u001b[0m\u001b[1;33m:\u001b[0m\u001b[1;33m\u001b[0m\u001b[1;33m\u001b[0m\u001b[0m\n\u001b[0;32m     23\u001b[0m     \u001b[0murl\u001b[0m \u001b[1;33m=\u001b[0m \u001b[1;34m'https://lista.mercadolivre.com.br/celular#D[A:celular]'\u001b[0m\u001b[1;33m\u001b[0m\u001b[1;33m\u001b[0m\u001b[0m\n\u001b[1;32m---> 24\u001b[1;33m     \u001b[0mget_detail_data\u001b[0m\u001b[1;33m(\u001b[0m\u001b[0mget_date\u001b[0m\u001b[1;33m(\u001b[0m\u001b[0murl\u001b[0m\u001b[1;33m)\u001b[0m\u001b[1;33m)\u001b[0m\u001b[1;33m\u001b[0m\u001b[1;33m\u001b[0m\u001b[0m\n\u001b[0m\u001b[0;32m     25\u001b[0m \u001b[1;33m\u001b[0m\u001b[0m\n\u001b[0;32m     26\u001b[0m \u001b[1;31m# def parse(soup):\u001b[0m\u001b[1;33m\u001b[0m\u001b[1;33m\u001b[0m\u001b[1;33m\u001b[0m\u001b[0m\n",
      "\u001b[1;32m<ipython-input-24-b5120e202953>\u001b[0m in \u001b[0;36mget_detail_data\u001b[1;34m(soup)\u001b[0m\n\u001b[0;32m     17\u001b[0m     \u001b[1;32mexcept\u001b[0m\u001b[1;33m:\u001b[0m\u001b[1;33m\u001b[0m\u001b[1;33m\u001b[0m\u001b[0m\n\u001b[0;32m     18\u001b[0m         \u001b[0mprice\u001b[0m \u001b[1;33m=\u001b[0m \u001b[1;34m''\u001b[0m\u001b[1;33m\u001b[0m\u001b[1;33m\u001b[0m\u001b[0m\n\u001b[1;32m---> 19\u001b[1;33m     \u001b[0mpprint\u001b[0m\u001b[1;33m(\u001b[0m\u001b[0mtitle\u001b[0m\u001b[1;33m,\u001b[0m\u001b[1;34m\" \"\u001b[0m\u001b[1;33m,\u001b[0m\u001b[0mstr\u001b[0m\u001b[1;33m(\u001b[0m\u001b[0mprice\u001b[0m\u001b[1;33m)\u001b[0m\u001b[1;33m)\u001b[0m\u001b[1;33m\u001b[0m\u001b[1;33m\u001b[0m\u001b[0m\n\u001b[0m\u001b[0;32m     20\u001b[0m \u001b[1;33m\u001b[0m\u001b[0m\n\u001b[0;32m     21\u001b[0m \u001b[1;33m\u001b[0m\u001b[0m\n",
      "\u001b[1;32mC:\\ProgramData\\Anaconda3\\lib\\pprint.py\u001b[0m in \u001b[0;36mpprint\u001b[1;34m(object, stream, indent, width, depth, compact)\u001b[0m\n\u001b[0;32m     50\u001b[0m     printer = PrettyPrinter(\n\u001b[0;32m     51\u001b[0m         \u001b[0mstream\u001b[0m\u001b[1;33m=\u001b[0m\u001b[0mstream\u001b[0m\u001b[1;33m,\u001b[0m \u001b[0mindent\u001b[0m\u001b[1;33m=\u001b[0m\u001b[0mindent\u001b[0m\u001b[1;33m,\u001b[0m \u001b[0mwidth\u001b[0m\u001b[1;33m=\u001b[0m\u001b[0mwidth\u001b[0m\u001b[1;33m,\u001b[0m \u001b[0mdepth\u001b[0m\u001b[1;33m=\u001b[0m\u001b[0mdepth\u001b[0m\u001b[1;33m,\u001b[0m\u001b[1;33m\u001b[0m\u001b[1;33m\u001b[0m\u001b[0m\n\u001b[1;32m---> 52\u001b[1;33m         compact=compact)\n\u001b[0m\u001b[0;32m     53\u001b[0m     \u001b[0mprinter\u001b[0m\u001b[1;33m.\u001b[0m\u001b[0mpprint\u001b[0m\u001b[1;33m(\u001b[0m\u001b[0mobject\u001b[0m\u001b[1;33m)\u001b[0m\u001b[1;33m\u001b[0m\u001b[1;33m\u001b[0m\u001b[0m\n\u001b[0;32m     54\u001b[0m \u001b[1;33m\u001b[0m\u001b[0m\n",
      "\u001b[1;32mC:\\ProgramData\\Anaconda3\\lib\\pprint.py\u001b[0m in \u001b[0;36m__init__\u001b[1;34m(self, indent, width, depth, stream, compact)\u001b[0m\n\u001b[0;32m    119\u001b[0m \u001b[1;33m\u001b[0m\u001b[0m\n\u001b[0;32m    120\u001b[0m         \"\"\"\n\u001b[1;32m--> 121\u001b[1;33m         \u001b[0mindent\u001b[0m \u001b[1;33m=\u001b[0m \u001b[0mint\u001b[0m\u001b[1;33m(\u001b[0m\u001b[0mindent\u001b[0m\u001b[1;33m)\u001b[0m\u001b[1;33m\u001b[0m\u001b[1;33m\u001b[0m\u001b[0m\n\u001b[0m\u001b[0;32m    122\u001b[0m         \u001b[0mwidth\u001b[0m \u001b[1;33m=\u001b[0m \u001b[0mint\u001b[0m\u001b[1;33m(\u001b[0m\u001b[0mwidth\u001b[0m\u001b[1;33m)\u001b[0m\u001b[1;33m\u001b[0m\u001b[1;33m\u001b[0m\u001b[0m\n\u001b[0;32m    123\u001b[0m         \u001b[1;32mif\u001b[0m \u001b[0mindent\u001b[0m \u001b[1;33m<\u001b[0m \u001b[1;36m0\u001b[0m\u001b[1;33m:\u001b[0m\u001b[1;33m\u001b[0m\u001b[1;33m\u001b[0m\u001b[0m\n",
      "\u001b[1;31mValueError\u001b[0m: invalid literal for int() with base 10: \"['782', '4.439', '1.728', '1.899', '2.005', '1.678', '1.099', '1.430', '1.438', '1.999', '1.699', '799', '1.099', '2.579', '1.999', '4.699', '1.168', '399', '1.099', '849', '999', '2.499', '1.299', '"
     ]
    }
   ],
   "source": [
    "# function to get data\n",
    "def get_date(url):\n",
    "    response = requests.get(url)\n",
    "    if not response.ok:\n",
    "        print('server responded:', response.status_code)\n",
    "    else:    \n",
    "        soup = BeautifulSoup(response.content, 'html.parser')\n",
    "    return soup\n",
    "\n",
    "def get_detail_data(soup):\n",
    "    try:\n",
    "        title = [title.find('h2').text for title in soup.find_all('div', class_='ui-search-result__content-wrapper')]\n",
    "    except:\n",
    "        title = ''\n",
    "    try:\n",
    "        price = [price.find('span', class_='price-tag-fraction').text for price in soup.find_all('div', class_='ui-search-result__content-wrapper')]\n",
    "    except:            \n",
    "        price = ''\n",
    "    pprint((title,price))\n",
    "    pprint(price)\n",
    "    \n",
    "def main():\n",
    "    url = 'https://lista.mercadolivre.com.br/celular#D[A:celular]'\n",
    "    get_detail_data(get_date(url))\n",
    "\n",
    "# def parse(soup):\n",
    "#     result = soup.find_all('div', {'class':'ui-search-result__content-wrapper'})\n",
    "    \n",
    "    \n",
    "    \n",
    "if __name__ == '__main__':\n",
    "    main()"
   ]
  },
  {
   "cell_type": "code",
   "execution_count": 16,
   "metadata": {},
   "outputs": [],
   "source": [
    "import requests # para fazer requisição a pagina\n",
    "from bs4 import BeautifulSoup # pra fazer o parser do código html\n",
    "from selenium import webdriver\n",
    "from selenium.webdriver.chrome.options import Options\n",
    "from pprint import pprint"
   ]
  },
  {
   "cell_type": "code",
   "execution_count": 2,
   "metadata": {},
   "outputs": [],
   "source": [
    "url='https://lista.mercadolivre.com.br/celular#D[A:celular]'"
   ]
  },
  {
   "cell_type": "code",
   "execution_count": 3,
   "metadata": {},
   "outputs": [],
   "source": [
    "r = requests.get(url)"
   ]
  },
  {
   "cell_type": "code",
   "execution_count": 4,
   "metadata": {},
   "outputs": [],
   "source": [
    "soup = BeautifulSoup(r.content, 'html.parser')"
   ]
  },
  {
   "cell_type": "code",
   "execution_count": 5,
   "metadata": {},
   "outputs": [],
   "source": [
    "blocos = soup.find_all('div', class_='ui-search-result__content-wrapper')"
   ]
  },
  {
   "cell_type": "code",
   "execution_count": 6,
   "metadata": {},
   "outputs": [],
   "source": [
    "PATH = \"D:/chromedriver2/chromedriver.exe\"\n",
    "\n",
    "option = Options()\n",
    "option.headless=True\n",
    "\n",
    "driver = webdriver.Chrome(PATH, options=option)\n",
    "driver.get(\"https://lista.mercadolivre.com.br/celular#D[A:celular]\")"
   ]
  },
  {
   "cell_type": "code",
   "execution_count": 7,
   "metadata": {},
   "outputs": [
    {
     "name": "stdout",
     "output_type": "stream",
     "text": [
      "Seguinte\n"
     ]
    }
   ],
   "source": [
    "link = driver.find_element_by_link_text(\"Seguinte\")\n",
    "print(link.text)"
   ]
  },
  {
   "cell_type": "code",
   "execution_count": 11,
   "metadata": {},
   "outputs": [
    {
     "name": "stdout",
     "output_type": "stream",
     "text": [
      "Xiaomi Redmi Note 9S Dual SIM 128 GB azul 4 GB RAM\n",
      "1.728\n",
      "=======================\n",
      "Xiaomi Poco X3 NFC Dual SIM 128 GB cobalt blue 6 GB RAM\n",
      "1.899\n",
      "=======================\n",
      "Samsung Galaxy A31 Dual SIM 128 GB prism crush black 4 GB RAM\n",
      "1.499\n",
      "=======================\n",
      "Xiaomi Redmi Note 8 Dual SIM 64 GB neptune blue 4 GB RAM\n",
      "1.249\n",
      "=======================\n",
      "iPhone 11 64 GB Branco\n",
      "4.439\n",
      "=======================\n",
      "Xiaomi Redmi Note 9 Dual SIM 128 GB cinza-meia-noite 4 GB RAM\n",
      "1.438\n",
      "=======================\n",
      "Xiaomi Redmi 9A Dual SIM 32 GB azul 2 GB RAM\n",
      "813\n",
      "=======================\n",
      "Obasmart 3 Obabox O Novo Smartphone Para A 3º Idade Original\n",
      "997\n",
      "=======================\n",
      "Celular Para Idosos Com Botão Sos Teclas Grandes\n",
      "127\n",
      "=======================\n",
      "Asus ZenFone Max Shot ZB634KL Dual SIM 64 GB vermelho 4 GB RAM\n",
      "1.099\n",
      "=======================\n",
      "Xiaomi Redmi Note 9 Pro (64 Mpx) Dual SIM 128 GB verde-tropical 6 GB RAM\n",
      "2.005\n",
      "=======================\n",
      "Xiaomi Redmi Note 8 Pro Dual SIM 128 GB verde-floresta 6 GB RAM\n",
      "1.678\n",
      "=======================\n",
      "Samsung Galaxy A21s Dual SIM 64 GB preto 4 GB RAM\n",
      "1.410\n",
      "=======================\n",
      "Samsung Galaxy A01 Core Dual SIM 32 GB preto 2 GB RAM\n",
      "799\n",
      "=======================\n",
      "Samsung Galaxy A10s Dual SIM 32 GB azul 2 GB RAM\n",
      "1.099\n",
      "=======================\n",
      "Xiaomi Redmi 9 (Global) Dual SIM 32 GB carbon grey 3 GB RAM\n",
      "988\n",
      "=======================\n",
      "Samsung Galaxy M31 Dual SIM 128 GB preto 6 GB RAM\n",
      "1.999\n",
      "=======================\n",
      "Samsung Galaxy S10 Dual SIM 128 GB azul-prisma 8 GB RAM\n",
      "4.699\n",
      "=======================\n",
      "Multilaser E Lite Dual SIM 32 GB preto 512 MB RAM\n",
      "399\n",
      "=======================\n",
      "LG K41S Dual SIM 32 GB titânio 3 GB RAM\n",
      "1.099\n",
      "=======================\n",
      "Huawei Nova 5t Dual SIM 128 GB crush blue 8 GB RAM\n",
      "2.579\n",
      "=======================\n",
      "Samsung Galaxy A01 Dual SIM 32 GB vermelho 2 GB RAM\n",
      "849\n",
      "=======================\n",
      "LG K22 Dual SIM 32 GB titan 2 GB RAM\n",
      "999\n",
      "=======================\n",
      "LG K51S Dual SIM 64 GB titan 3 GB RAM\n",
      "1.090\n",
      "=======================\n",
      "Samsung Galaxy S10+ Dual SIM 128 GB preto-prisma 8 GB RAM\n",
      "4.499\n",
      "=======================\n",
      "Samsung Galaxy A11 Dual SIM 64 GB preto 3 GB RAM\n",
      "1.299\n",
      "=======================\n",
      "Multilaser Flip Vita Dual SIM 32 MB azul 32 MB RAM\n",
      "160\n",
      "=======================\n",
      "Xiaomi Redmi 9 (Global) Dual SIM 64 GB carbon grey 4 GB RAM\n",
      "1.144\n",
      "=======================\n",
      "Xiaomi Redmi Note 9 Pro Max Dual SIM 128 GB champagne gold 6 GB RAM\n",
      "2.139\n",
      "=======================\n",
      "Moto E6 Play Dual SIM 32 GB cinza-metálico 2 GB RAM\n",
      "810\n",
      "=======================\n",
      "Xiaomi Poco X3 NFC Dual SIM 64 GB shadow gray 6 GB RAM\n",
      "1.699\n",
      "=======================\n",
      "Xiaomi Poco M3 Dual SIM 128 GB cool blue 4 GB RAM\n",
      "1.370\n",
      "=======================\n",
      "LG K61 Dual SIM 128 GB branco 4 GB RAM\n",
      "1.699\n",
      "=======================\n",
      "Positivo Twist 3 Fit S509C Dual SIM 32 GB ouro 512 MB RAM\n",
      "499\n",
      "=======================\n",
      "Xiaomi Mi 10 Lite Dual SIM 128 GB cosmic gray 6 GB RAM\n",
      "2.650\n",
      "=======================\n",
      "Xiaomi Redmi Note 8 Dual SIM 128 GB space black 4 GB RAM\n",
      "1.496\n",
      "=======================\n",
      "Celular Nokia C2 Nk010 32gb (16gb + 16gb Cartão) Tela 5,7\n",
      "639\n",
      "=======================\n",
      "Xiaomi Redmi 9 (Global) Dual SIM 128 GB ocean green 4 GB RAM\n",
      "1.279\n",
      "=======================\n",
      "Positivo Twist S511 Dual SIM 16 GB cinza 1 GB RAM\n",
      "453\n",
      "=======================\n",
      "Asus ZenFone Max Shot ZB634KL Dual SIM 32 GB vermelho 3 GB RAM\n",
      "1.090\n",
      "=======================\n",
      "Celular Xiaomi Redmi 9i 128gb 4gb Ram Dual Sim 4g Tela 6.53\n",
      "1.199\n",
      "=======================\n",
      "LG K52 (13 Mpx) Dual SIM 64 GB gray 3 GB RAM\n",
      "1.399\n",
      "=======================\n",
      "Samsung Galaxy M21s Dual SIM 64 GB preto 4 GB RAM\n",
      "1.378\n",
      "=======================\n",
      "Celular Multilaser P/ Idoso Teclas Grandes Câmera Bluetooth\n",
      "159\n",
      "=======================\n",
      "Xiaomi Redmi Note 9 Dual SIM 64 GB cinza-meia-noite 3 GB RAM\n",
      "1.353\n",
      "=======================\n",
      "LG K22+ Dual SIM 64 GB titan 3 GB RAM\n",
      "739\n",
      "=======================\n",
      "Multilaser Zapp Dual SIM 512 MB preto 256 MB RAM\n",
      "186\n",
      "=======================\n",
      "Xiaomi Redmi 8A Dual SIM 32 GB preto-meia-noite 2 GB RAM\n",
      "799\n",
      "=======================\n",
      "Multilaser F Dual SIM 32 GB café 1 GB RAM\n",
      "436\n",
      "=======================\n",
      "iPhone XR 128 GB preto\n",
      "4.138\n",
      "=======================\n",
      "DL YC-130 Dual SIM 32 MB preto 32 MB RAM\n",
      "174\n",
      "=======================\n",
      "Samsung Galaxy A71 Dual SIM 128 GB preto 6 GB RAM\n",
      "1.730\n",
      "=======================\n",
      "49\n"
     ]
    }
   ],
   "source": [
    "link = driver\n",
    "\n",
    "for bloco in blocos:\n",
    "    name = bloco.find('h2').text\n",
    "    print(name)\n",
    "    \n",
    "    valor = bloco.find('span', class_='price-tag-fraction').text\n",
    "    print(valor)\n",
    "    print('=======================')\n",
    "\n",
    "print(len(name))    "
   ]
  },
  {
   "cell_type": "code",
   "execution_count": null,
   "metadata": {},
   "outputs": [],
   "source": []
  }
 ],
 "metadata": {
  "kernelspec": {
   "display_name": "Python 3",
   "language": "python",
   "name": "python3"
  },
  "language_info": {
   "codemirror_mode": {
    "name": "ipython",
    "version": 3
   },
   "file_extension": ".py",
   "mimetype": "text/x-python",
   "name": "python",
   "nbconvert_exporter": "python",
   "pygments_lexer": "ipython3",
   "version": "3.7.9"
  }
 },
 "nbformat": 4,
 "nbformat_minor": 4
}
